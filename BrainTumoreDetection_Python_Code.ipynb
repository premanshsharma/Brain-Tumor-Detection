{
  "metadata": {
    "kernelspec": {
      "language": "python",
      "display_name": "Python 3",
      "name": "python3"
    },
    "language_info": {
      "name": "python",
      "version": "3.7.12",
      "mimetype": "text/x-python",
      "codemirror_mode": {
        "name": "ipython",
        "version": 3
      },
      "pygments_lexer": "ipython3",
      "nbconvert_exporter": "python",
      "file_extension": ".py"
    },
    "colab": {
      "provenance": [],
      "collapsed_sections": [
        "G30mme-ZKnpw"
      ],
      "include_colab_link": true
    },
    "accelerator": "GPU",
    "gpuClass": "standard"
  },
  "nbformat_minor": 0,
  "nbformat": 4,
  "cells": [
    {
      "cell_type": "markdown",
      "metadata": {
        "id": "view-in-github",
        "colab_type": "text"
      },
      "source": [
        "<a href=\"https://colab.research.google.com/github/premanshsharma/Brain-Tumor-Detection/blob/main/BrainTumoreDetection_Python_Code.ipynb\" target=\"_parent\"><img src=\"https://colab.research.google.com/assets/colab-badge.svg\" alt=\"Open In Colab\"/></a>"
      ]
    },
    {
      "cell_type": "markdown",
      "source": [
        "# Brain Tumor Detection and Analysis of different algorithms.\n",
        "\n",
        "![image.png](data:image/png;base64,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)"
      ],
      "metadata": {
        "id": "tXji3TRcgd6o"
      }
    },
    {
      "cell_type": "code",
      "source": [
        "import os\n",
        "import cv2\n",
        "import keras \n",
        "from keras.models import Sequential\n",
        "from keras.layers import Dropout, BatchNormalization, Dense, Conv2D, MaxPool2D , Flatten\n",
        "from keras.preprocessing.image import ImageDataGenerator\n",
        "from PIL import Image, ImageOps\n",
        "import numpy as np\n",
        "import pandas as pd\n",
        "import matplotlib.pyplot as plt\n",
        "from sklearn.model_selection import train_test_split\n",
        "from sklearn.preprocessing import OneHotEncoder \n",
        "import tensorflow as tf\n",
        "from sklearn.metrics import confusion_matrix\n",
        "from sklearn.metrics import accuracy_score\n",
        "from sklearn.model_selection import train_test_split\n",
        "from tensorflow.keras.optimizers import Adam\n",
        "from tensorflow.keras.callbacks import EarlyStopping\n",
        "plt.style.use('dark_background')\n"
      ],
      "metadata": {
        "_uuid": "8f2839f25d086af736a60e9eeb907d3b93b6e0e5",
        "_cell_guid": "b1076dfc-b9ad-4769-8c92-a6c4dae69d19",
        "trusted": true,
        "id": "BCAPzQmXCTMY"
      },
      "execution_count": 2,
      "outputs": []
    },
    {
      "cell_type": "code",
      "source": [
        "from google.colab import drive\n",
        "drive.mount('/content/gdrive')"
      ],
      "metadata": {
        "colab": {
          "base_uri": "https://localhost:8080/"
        },
        "id": "57FoYU-82dug",
        "outputId": "f2afefcc-460e-4050-b3ef-ba7b3d749e6a"
      },
      "execution_count": 3,
      "outputs": [
        {
          "output_type": "stream",
          "name": "stdout",
          "text": [
            "Drive already mounted at /content/gdrive; to attempt to forcibly remount, call drive.mount(\"/content/gdrive\", force_remount=True).\n"
          ]
        }
      ]
    },
    {
      "cell_type": "code",
      "source": [
        "paths_yes = []\n",
        "for r, d, f in os.walk(r'/content/gdrive/MyDrive/Brain Tumor Detection/BRAIN_MRI_IMAGE_DATA_SET/data sets/yes'):\n",
        "    for file in f:\n",
        "        if '.jpg' in file:\n",
        "            paths_yes.append(os.path.join(r, file))\n",
        "\n",
        "paths_no = []\n",
        "for r, d, f in os.walk(r'/content/gdrive/MyDrive/Brain Tumor Detection/BRAIN_MRI_IMAGE_DATA_SET/data sets/no'):\n",
        "    for file in f:\n",
        "        if '.jpg' in file:\n",
        "            paths_no.append(os.path.join(r, file))"
      ],
      "metadata": {
        "trusted": true,
        "id": "SPDkC9aBCTMa"
      },
      "execution_count": 4,
      "outputs": []
    },
    {
      "cell_type": "markdown",
      "source": [
        "# Neural Network Implementation:- VGG16, VGG19"
      ],
      "metadata": {
        "id": "1-GmVhibKcM7"
      }
    },
    {
      "cell_type": "markdown",
      "source": [
        "## Dataset Input"
      ],
      "metadata": {
        "id": "a3DD3iTbMeu_"
      }
    },
    {
      "cell_type": "code",
      "source": [
        "data = []\n",
        "result = []\n",
        "def image_input(paths, result_int):\n",
        "    i = 0\n",
        "    for path in paths:\n",
        "        img = cv2.imread(path)\n",
        "        img = cv2.resize(img, (224, 224))\n",
        "        print(result_int, i, img.shape)\n",
        "        i += 1\n",
        "        if(img.shape == (224,224,3)):\n",
        "            data.append(np.array(img))\n",
        "            result.append([result_int])\n",
        "\n",
        "image_input(paths_yes, 0)\n",
        "image_input(paths_no, 1)"
      ],
      "metadata": {
        "id": "8TFeeqxSBQSd"
      },
      "execution_count": null,
      "outputs": []
    },
    {
      "cell_type": "code",
      "source": [
        "data = np.array(data)\n",
        "data.shape"
      ],
      "metadata": {
        "trusted": true,
        "id": "q9f_PfzkCTMb",
        "outputId": "bb4654e0-067c-4e0d-a7b4-478175f3269e",
        "colab": {
          "base_uri": "https://localhost:8080/"
        }
      },
      "execution_count": 40,
      "outputs": [
        {
          "output_type": "execute_result",
          "data": {
            "text/plain": [
              "(3000, 224, 224, 3)"
            ]
          },
          "metadata": {},
          "execution_count": 40
        }
      ]
    },
    {
      "cell_type": "code",
      "source": [
        "result = np.array(result)\n",
        "result = result.reshape(3000,1)"
      ],
      "metadata": {
        "id": "abUknXZxHpLv"
      },
      "execution_count": 41,
      "outputs": []
    },
    {
      "cell_type": "code",
      "source": [
        "x_train, x_test, y_train, y_test = train_test_split(data, result, test_size=0.2, shuffle = True, random_state = 8)\n",
        "\n",
        "x_train, x_val, y_train, y_val = train_test_split(x_train, y_train, test_size=0.25, random_state= 8)"
      ],
      "metadata": {
        "trusted": true,
        "id": "nxeCda-QCTMb"
      },
      "execution_count": 42,
      "outputs": []
    },
    {
      "cell_type": "code",
      "source": [
        "x_train, x_val, x_test = np.array(x_train), np.array(x_val), np.array(x_test)\n",
        "y_train, y_val, y_test = np.array(y_train), np.array(y_val), np.array(y_test)"
      ],
      "metadata": {
        "id": "kXeXlLhElqSV"
      },
      "execution_count": 43,
      "outputs": []
    },
    {
      "cell_type": "code",
      "source": [
        "print(x_train.shape, y_train.shape, x_val.shape, y_val.shape, x_test.shape, y_test.shape)"
      ],
      "metadata": {
        "id": "IjyIuM5P1bHx",
        "outputId": "11f4def1-4fec-48a2-ff1e-522c78b43c94",
        "colab": {
          "base_uri": "https://localhost:8080/"
        }
      },
      "execution_count": 44,
      "outputs": [
        {
          "output_type": "stream",
          "name": "stdout",
          "text": [
            "(1800, 224, 224, 3) (1800, 1) (600, 224, 224, 3) (600, 1) (600, 224, 224, 3) (600, 1)\n"
          ]
        }
      ]
    },
    {
      "cell_type": "code",
      "source": [
        "from keras.utils import to_categorical\n",
        "\n",
        "y_train = to_categorical(y_train, num_classes=2)\n",
        "y_val = to_categorical(y_val, num_classes=2)\n",
        "y_train, y_val = np.array(y_train), np.array(y_val)"
      ],
      "metadata": {
        "id": "kNGQ7yt2xQv4"
      },
      "execution_count": 45,
      "outputs": []
    },
    {
      "cell_type": "code",
      "source": [
        "y_test = to_categorical(y_test, num_classes=2)\n",
        "y_test = np.array(y_test)"
      ],
      "metadata": {
        "id": "0XS2DwB8dRPt"
      },
      "execution_count": 46,
      "outputs": []
    },
    {
      "cell_type": "code",
      "source": [
        "es = EarlyStopping(monitor='val_loss', mode='auto', verbose=1, patience=10)"
      ],
      "metadata": {
        "id": "mG5TXHYzlD0X"
      },
      "execution_count": 47,
      "outputs": []
    },
    {
      "cell_type": "code",
      "source": [
        "tf.config.run_functions_eagerly(True)"
      ],
      "metadata": {
        "id": "c7pSfmKgDfFQ"
      },
      "execution_count": 48,
      "outputs": []
    },
    {
      "cell_type": "markdown",
      "source": [
        "##VGG16"
      ],
      "metadata": {
        "id": "-G_9XfAbMmgz"
      }
    },
    {
      "cell_type": "code",
      "source": [
        "# gpu_options = tf.GPUOptions(allow_growth=True)\n",
        "# session = tf.InteractiveSession(config=tf.ConfigProto(gpu_options=gpu_options))|\n",
        "model_VGG_16 = tf.keras.applications.VGG16(\n",
        "    include_top=True,\n",
        "    weights=None,\n",
        "    input_tensor=None,\n",
        "    input_shape=(224, 224, 3),\n",
        "    pooling=max,\n",
        "    classes=2,\n",
        "    classifier_activation=\"sigmoid\",\n",
        ")\n",
        "\n",
        "opt = Adam(lr=0.001)\n",
        "model_VGG_16.compile(optimizer=opt, loss='binary_crossentropy', metrics=['accuracy'])"
      ],
      "metadata": {
        "trusted": true,
        "id": "MJuwLt2pCTMe",
        "colab": {
          "base_uri": "https://localhost:8080/"
        },
        "outputId": "1e78eddc-98cd-4073-b6af-02644f0ee8df"
      },
      "execution_count": 49,
      "outputs": [
        {
          "output_type": "stream",
          "name": "stderr",
          "text": [
            "WARNING:absl:`lr` is deprecated, please use `learning_rate` instead, or use the legacy optimizer, e.g.,tf.keras.optimizers.legacy.Adam.\n"
          ]
        }
      ]
    },
    {
      "cell_type": "code",
      "source": [
        "history_vgg16 = model_VGG_16.fit(\n",
        "    x_train, y_train, \n",
        "    epochs=100, batch_size=40, \n",
        "    validation_data=(x_val, y_val), callbacks=[es]\n",
        ")"
      ],
      "metadata": {
        "id": "petXpHxN2j8D",
        "colab": {
          "base_uri": "https://localhost:8080/"
        },
        "outputId": "936b54c6-9599-4c91-afbf-0c8b95a99037"
      },
      "execution_count": 50,
      "outputs": [
        {
          "output_type": "stream",
          "name": "stderr",
          "text": [
            "/usr/local/lib/python3.9/dist-packages/tensorflow/python/data/ops/structured_function.py:256: UserWarning: Even though the `tf.config.experimental_run_functions_eagerly` option is set, this option does not apply to tf.data functions. To force eager execution of tf.data functions, please use `tf.data.experimental.enable_debug_mode()`.\n",
            "  warnings.warn(\n"
          ]
        },
        {
          "output_type": "stream",
          "name": "stdout",
          "text": [
            "Epoch 1/100\n",
            "45/45 [==============================] - ETA: 0s - loss: 60.0025 - accuracy: 0.5811"
          ]
        },
        {
          "output_type": "stream",
          "name": "stderr",
          "text": [
            "/usr/local/lib/python3.9/dist-packages/tensorflow/python/data/ops/structured_function.py:256: UserWarning: Even though the `tf.config.experimental_run_functions_eagerly` option is set, this option does not apply to tf.data functions. To force eager execution of tf.data functions, please use `tf.data.experimental.enable_debug_mode()`.\n",
            "  warnings.warn(\n"
          ]
        },
        {
          "output_type": "stream",
          "name": "stdout",
          "text": [
            "\b\b\b\b\b\b\b\b\b\b\b\b\b\b\b\b\b\b\b\b\b\b\b\b\b\b\b\b\b\b\b\b\b\b\b\b\b\b\b\b\b\b\b\b\b\b\b\b\b\b\b\b\b\b\b\b\b\b\b\b\b\b\b\b\b\b\b\b\b\b\b\b\b\b\b\b\b\b\b\b\b\b\b\r45/45 [==============================] - 67s 1s/step - loss: 60.0025 - accuracy: 0.5811 - val_loss: 0.5904 - val_accuracy: 0.7200\n",
            "Epoch 2/100\n",
            "45/45 [==============================] - 49s 1s/step - loss: 0.5755 - accuracy: 0.6961 - val_loss: 0.5028 - val_accuracy: 0.7583\n",
            "Epoch 3/100\n",
            "45/45 [==============================] - 48s 1s/step - loss: 0.5226 - accuracy: 0.7322 - val_loss: 0.6393 - val_accuracy: 0.7283\n",
            "Epoch 4/100\n",
            "45/45 [==============================] - 50s 1s/step - loss: 0.5310 - accuracy: 0.7100 - val_loss: 0.4981 - val_accuracy: 0.7567\n",
            "Epoch 5/100\n",
            "45/45 [==============================] - 49s 1s/step - loss: 0.4690 - accuracy: 0.7689 - val_loss: 0.4322 - val_accuracy: 0.7917\n",
            "Epoch 6/100\n",
            "45/45 [==============================] - 50s 1s/step - loss: 0.4715 - accuracy: 0.7806 - val_loss: 0.4493 - val_accuracy: 0.8200\n",
            "Epoch 7/100\n",
            "45/45 [==============================] - 49s 1s/step - loss: 0.3837 - accuracy: 0.8439 - val_loss: 0.3598 - val_accuracy: 0.8400\n",
            "Epoch 8/100\n",
            "45/45 [==============================] - 49s 1s/step - loss: 0.3317 - accuracy: 0.8628 - val_loss: 0.5048 - val_accuracy: 0.7433\n",
            "Epoch 9/100\n",
            "45/45 [==============================] - 50s 1s/step - loss: 0.2751 - accuracy: 0.8789 - val_loss: 0.2918 - val_accuracy: 0.8867\n",
            "Epoch 10/100\n",
            "45/45 [==============================] - 47s 1s/step - loss: 0.2918 - accuracy: 0.8783 - val_loss: 0.3828 - val_accuracy: 0.8617\n",
            "Epoch 11/100\n",
            "45/45 [==============================] - 50s 1s/step - loss: 0.2656 - accuracy: 0.8900 - val_loss: 0.2767 - val_accuracy: 0.8717\n",
            "Epoch 12/100\n",
            "45/45 [==============================] - 50s 1s/step - loss: 0.2245 - accuracy: 0.9194 - val_loss: 0.4576 - val_accuracy: 0.7917\n",
            "Epoch 13/100\n",
            "45/45 [==============================] - 50s 1s/step - loss: 0.2822 - accuracy: 0.8833 - val_loss: 0.3031 - val_accuracy: 0.8817\n",
            "Epoch 14/100\n",
            "45/45 [==============================] - 49s 1s/step - loss: 0.2111 - accuracy: 0.9133 - val_loss: 0.2902 - val_accuracy: 0.9067\n",
            "Epoch 15/100\n",
            "45/45 [==============================] - 50s 1s/step - loss: 0.1503 - accuracy: 0.9428 - val_loss: 0.2887 - val_accuracy: 0.9183\n",
            "Epoch 16/100\n",
            "45/45 [==============================] - 48s 1s/step - loss: 0.1621 - accuracy: 0.9411 - val_loss: 0.1952 - val_accuracy: 0.9483\n",
            "Epoch 17/100\n",
            "45/45 [==============================] - 50s 1s/step - loss: 0.1544 - accuracy: 0.9478 - val_loss: 0.3106 - val_accuracy: 0.9117\n",
            "Epoch 18/100\n",
            "45/45 [==============================] - 48s 1s/step - loss: 0.0877 - accuracy: 0.9639 - val_loss: 0.4171 - val_accuracy: 0.9317\n",
            "Epoch 19/100\n",
            "45/45 [==============================] - 50s 1s/step - loss: 0.1061 - accuracy: 0.9622 - val_loss: 0.2693 - val_accuracy: 0.9367\n",
            "Epoch 20/100\n",
            "45/45 [==============================] - 48s 1s/step - loss: 0.0984 - accuracy: 0.9644 - val_loss: 0.2455 - val_accuracy: 0.9517\n",
            "Epoch 21/100\n",
            "45/45 [==============================] - 49s 1s/step - loss: 0.0924 - accuracy: 0.9672 - val_loss: 0.2261 - val_accuracy: 0.9383\n",
            "Epoch 22/100\n",
            "45/45 [==============================] - 49s 1s/step - loss: 0.0983 - accuracy: 0.9639 - val_loss: 0.2068 - val_accuracy: 0.9483\n",
            "Epoch 23/100\n",
            "45/45 [==============================] - 50s 1s/step - loss: 0.0561 - accuracy: 0.9756 - val_loss: 0.2114 - val_accuracy: 0.9517\n",
            "Epoch 24/100\n",
            "45/45 [==============================] - 51s 1s/step - loss: 0.0759 - accuracy: 0.9739 - val_loss: 0.2680 - val_accuracy: 0.9233\n",
            "Epoch 25/100\n",
            "45/45 [==============================] - 50s 1s/step - loss: 0.0686 - accuracy: 0.9778 - val_loss: 0.3562 - val_accuracy: 0.9383\n",
            "Epoch 26/100\n",
            "45/45 [==============================] - 49s 1s/step - loss: 0.0324 - accuracy: 0.9889 - val_loss: 0.3045 - val_accuracy: 0.9567\n",
            "Epoch 26: early stopping\n"
          ]
        }
      ]
    },
    {
      "cell_type": "code",
      "source": [
        "print(\"Evaluate on test data\")\n",
        "results_vgg16 = model_VGG_16.evaluate(x_test, y_test, batch_size=64)\n",
        "print(\"test loss, test acc:\", results_vgg16)"
      ],
      "metadata": {
        "id": "JeTamth62jIR",
        "colab": {
          "base_uri": "https://localhost:8080/"
        },
        "outputId": "3c29267f-58c5-48aa-9620-3b3a07a9bc14"
      },
      "execution_count": 51,
      "outputs": [
        {
          "output_type": "stream",
          "name": "stdout",
          "text": [
            "Evaluate on test data\n"
          ]
        },
        {
          "output_type": "stream",
          "name": "stderr",
          "text": [
            "/usr/local/lib/python3.9/dist-packages/tensorflow/python/data/ops/structured_function.py:256: UserWarning: Even though the `tf.config.experimental_run_functions_eagerly` option is set, this option does not apply to tf.data functions. To force eager execution of tf.data functions, please use `tf.data.experimental.enable_debug_mode()`.\n",
            "  warnings.warn(\n"
          ]
        },
        {
          "output_type": "stream",
          "name": "stdout",
          "text": [
            "10/10 [==============================] - 12s 710ms/step - loss: 0.1803 - accuracy: 0.9633\n",
            "test loss, test acc: [0.1802951693534851, 0.9633333086967468]\n"
          ]
        }
      ]
    },
    {
      "cell_type": "markdown",
      "source": [
        "##VGG19"
      ],
      "metadata": {
        "id": "9Eau-3fLNmRo"
      }
    },
    {
      "cell_type": "code",
      "source": [
        "model_VGG_19 = tf.keras.applications.VGG19(\n",
        "    include_top=True,\n",
        "    weights=None,\n",
        "    input_tensor=None,\n",
        "    input_shape=(224, 224, 3),\n",
        "    pooling=max,\n",
        "    classes=2,\n",
        "    classifier_activation=\"sigmoid\",\n",
        ")\n",
        "\n",
        "opt = Adam(lr=0.001)\n",
        "model_VGG_19.compile(optimizer=opt, loss='binary_crossentropy', metrics=['accuracy'])"
      ],
      "metadata": {
        "id": "EO2b8UIPA7Lx",
        "colab": {
          "base_uri": "https://localhost:8080/"
        },
        "outputId": "f6b7dabc-0218-42d5-e0f1-f3f7cbe780a5"
      },
      "execution_count": 52,
      "outputs": [
        {
          "output_type": "stream",
          "name": "stderr",
          "text": [
            "WARNING:absl:`lr` is deprecated, please use `learning_rate` instead, or use the legacy optimizer, e.g.,tf.keras.optimizers.legacy.Adam.\n"
          ]
        }
      ]
    },
    {
      "cell_type": "code",
      "source": [
        "history_vgg19 = model_VGG_19.fit(x_train, y_train, epochs = 100, batch_size = 40, validation_data = (x_val, y_val), callbacks=[es])"
      ],
      "metadata": {
        "id": "_w59pvKV50QX",
        "colab": {
          "base_uri": "https://localhost:8080/"
        },
        "outputId": "ac2f3ef5-306d-4cd9-fcb8-ab04d59a33ac"
      },
      "execution_count": 53,
      "outputs": [
        {
          "output_type": "stream",
          "name": "stderr",
          "text": [
            "/usr/local/lib/python3.9/dist-packages/tensorflow/python/data/ops/structured_function.py:256: UserWarning: Even though the `tf.config.experimental_run_functions_eagerly` option is set, this option does not apply to tf.data functions. To force eager execution of tf.data functions, please use `tf.data.experimental.enable_debug_mode()`.\n",
            "  warnings.warn(\n"
          ]
        },
        {
          "output_type": "stream",
          "name": "stdout",
          "text": [
            "Epoch 1/100\n",
            "45/45 [==============================] - ETA: 0s - loss: 419.1444 - accuracy: 0.5278"
          ]
        },
        {
          "output_type": "stream",
          "name": "stderr",
          "text": [
            "/usr/local/lib/python3.9/dist-packages/tensorflow/python/data/ops/structured_function.py:256: UserWarning: Even though the `tf.config.experimental_run_functions_eagerly` option is set, this option does not apply to tf.data functions. To force eager execution of tf.data functions, please use `tf.data.experimental.enable_debug_mode()`.\n",
            "  warnings.warn(\n"
          ]
        },
        {
          "output_type": "stream",
          "name": "stdout",
          "text": [
            "\b\b\b\b\b\b\b\b\b\b\b\b\b\b\b\b\b\b\b\b\b\b\b\b\b\b\b\b\b\b\b\b\b\b\b\b\b\b\b\b\b\b\b\b\b\b\b\b\b\b\b\b\b\b\b\b\b\b\b\b\b\b\b\b\b\b\b\b\b\b\b\b\b\b\b\b\b\b\b\b\b\b\b\b\r45/45 [==============================] - 54s 1s/step - loss: 419.1444 - accuracy: 0.5278 - val_loss: 0.6999 - val_accuracy: 0.4450\n",
            "Epoch 2/100\n",
            "45/45 [==============================] - 49s 1s/step - loss: 0.6791 - accuracy: 0.5789 - val_loss: 0.6863 - val_accuracy: 0.5833\n",
            "Epoch 3/100\n",
            "45/45 [==============================] - 50s 1s/step - loss: 0.6499 - accuracy: 0.6406 - val_loss: 0.5449 - val_accuracy: 0.7467\n",
            "Epoch 4/100\n",
            "45/45 [==============================] - 51s 1s/step - loss: 0.6081 - accuracy: 0.6956 - val_loss: 0.5893 - val_accuracy: 0.7650\n",
            "Epoch 5/100\n",
            "45/45 [==============================] - 50s 1s/step - loss: 0.5550 - accuracy: 0.7361 - val_loss: 0.5114 - val_accuracy: 0.7667\n",
            "Epoch 6/100\n",
            "45/45 [==============================] - 49s 1s/step - loss: 0.5547 - accuracy: 0.7394 - val_loss: 0.5516 - val_accuracy: 0.7600\n",
            "Epoch 7/100\n",
            "45/45 [==============================] - 50s 1s/step - loss: 0.5164 - accuracy: 0.7467 - val_loss: 0.5387 - val_accuracy: 0.7583\n",
            "Epoch 8/100\n",
            "45/45 [==============================] - 50s 1s/step - loss: 0.5130 - accuracy: 0.7506 - val_loss: 0.5132 - val_accuracy: 0.7600\n",
            "Epoch 9/100\n",
            "45/45 [==============================] - 48s 1s/step - loss: 0.4595 - accuracy: 0.7833 - val_loss: 0.4482 - val_accuracy: 0.8183\n",
            "Epoch 10/100\n",
            "45/45 [==============================] - 46s 1s/step - loss: 0.4591 - accuracy: 0.7822 - val_loss: 0.4641 - val_accuracy: 0.7933\n",
            "Epoch 11/100\n",
            "45/45 [==============================] - 45s 1s/step - loss: 0.4520 - accuracy: 0.7994 - val_loss: 0.5117 - val_accuracy: 0.7017\n",
            "Epoch 12/100\n",
            "45/45 [==============================] - 46s 1s/step - loss: 0.4211 - accuracy: 0.7994 - val_loss: 0.3918 - val_accuracy: 0.8383\n",
            "Epoch 13/100\n",
            "45/45 [==============================] - 45s 1s/step - loss: 0.3563 - accuracy: 0.8467 - val_loss: 0.3455 - val_accuracy: 0.8733\n",
            "Epoch 14/100\n",
            "45/45 [==============================] - 46s 1s/step - loss: 0.2924 - accuracy: 0.8867 - val_loss: 0.3753 - val_accuracy: 0.8533\n",
            "Epoch 15/100\n",
            "45/45 [==============================] - 46s 1s/step - loss: 0.2516 - accuracy: 0.9050 - val_loss: 0.2950 - val_accuracy: 0.8900\n",
            "Epoch 16/100\n",
            "45/45 [==============================] - 46s 1s/step - loss: 0.2395 - accuracy: 0.9039 - val_loss: 0.3150 - val_accuracy: 0.8733\n",
            "Epoch 17/100\n",
            "45/45 [==============================] - 45s 1s/step - loss: 0.2079 - accuracy: 0.9189 - val_loss: 0.2762 - val_accuracy: 0.9133\n",
            "Epoch 18/100\n",
            "45/45 [==============================] - 46s 1s/step - loss: 0.1635 - accuracy: 0.9406 - val_loss: 0.2339 - val_accuracy: 0.9183\n",
            "Epoch 19/100\n",
            "45/45 [==============================] - 45s 1s/step - loss: 0.1797 - accuracy: 0.9294 - val_loss: 0.2232 - val_accuracy: 0.9250\n",
            "Epoch 20/100\n",
            "45/45 [==============================] - 45s 1s/step - loss: 0.1924 - accuracy: 0.9278 - val_loss: 0.2573 - val_accuracy: 0.8950\n",
            "Epoch 21/100\n",
            "45/45 [==============================] - 45s 1s/step - loss: 0.1075 - accuracy: 0.9639 - val_loss: 0.2354 - val_accuracy: 0.9433\n",
            "Epoch 22/100\n",
            "45/45 [==============================] - 46s 1s/step - loss: 0.1351 - accuracy: 0.9511 - val_loss: 0.3035 - val_accuracy: 0.9167\n",
            "Epoch 23/100\n",
            "45/45 [==============================] - 46s 1s/step - loss: 0.1470 - accuracy: 0.9517 - val_loss: 0.2464 - val_accuracy: 0.9450\n",
            "Epoch 24/100\n",
            "45/45 [==============================] - 46s 1s/step - loss: 0.0919 - accuracy: 0.9700 - val_loss: 0.2845 - val_accuracy: 0.9317\n",
            "Epoch 25/100\n",
            "45/45 [==============================] - 46s 1s/step - loss: 0.1032 - accuracy: 0.9656 - val_loss: 0.2333 - val_accuracy: 0.9283\n",
            "Epoch 26/100\n",
            "45/45 [==============================] - 45s 1s/step - loss: 0.0889 - accuracy: 0.9650 - val_loss: 0.3596 - val_accuracy: 0.9283\n",
            "Epoch 27/100\n",
            "45/45 [==============================] - 46s 1s/step - loss: 0.0930 - accuracy: 0.9650 - val_loss: 0.2680 - val_accuracy: 0.9450\n",
            "Epoch 28/100\n",
            "45/45 [==============================] - 45s 1s/step - loss: 0.0585 - accuracy: 0.9778 - val_loss: 0.2510 - val_accuracy: 0.9500\n",
            "Epoch 29/100\n",
            "45/45 [==============================] - 45s 1s/step - loss: 0.0987 - accuracy: 0.9661 - val_loss: 0.2282 - val_accuracy: 0.9317\n",
            "Epoch 29: early stopping\n"
          ]
        }
      ]
    },
    {
      "cell_type": "code",
      "source": [
        "print(\"Evaluate on test data\")\n",
        "results_vgg19 = model_VGG_19.evaluate(x_test, y_test, batch_size=64)\n",
        "print(\"test loss, test acc:\", results_vgg19)"
      ],
      "metadata": {
        "id": "U8eMTK6TvEBy",
        "colab": {
          "base_uri": "https://localhost:8080/"
        },
        "outputId": "95413ad8-e9f1-417b-8f69-07b592cc0451"
      },
      "execution_count": 54,
      "outputs": [
        {
          "output_type": "stream",
          "name": "stdout",
          "text": [
            "Evaluate on test data\n"
          ]
        },
        {
          "output_type": "stream",
          "name": "stderr",
          "text": [
            "/usr/local/lib/python3.9/dist-packages/tensorflow/python/data/ops/structured_function.py:256: UserWarning: Even though the `tf.config.experimental_run_functions_eagerly` option is set, this option does not apply to tf.data functions. To force eager execution of tf.data functions, please use `tf.data.experimental.enable_debug_mode()`.\n",
            "  warnings.warn(\n"
          ]
        },
        {
          "output_type": "stream",
          "name": "stdout",
          "text": [
            "10/10 [==============================] - 4s 381ms/step - loss: 0.1633 - accuracy: 0.9567\n",
            "test loss, test acc: [0.16331642866134644, 0.9566666483879089]\n"
          ]
        }
      ]
    },
    {
      "cell_type": "code",
      "source": [
        "# print(history)\n",
        "def plot_graph_of_history(histories, arch_name, epoch_range):\n",
        "    for history in histories:\n",
        "        loss_train = history.history['accuracy']\n",
        "        loss_val = history.history['val_accuracy']\n",
        "        epochs = range(1,epoch_range)\n",
        "        plt.plot(epochs[:len(loss_train)], loss_train, label='Training accuracy {}'.format(arch_name))\n",
        "        plt.plot(epochs[:len(loss_val)], loss_val, label='validation accuracy {}'.format(arch_name))\n",
        "        plt.xlim(1, 101)\n",
        "        plt.title('Training and Validation accuracy')\n",
        "        plt.xlabel('Epochs')\n",
        "        plt.ylabel('Accuracy')\n",
        "        plt.legend()\n",
        "    plt.show()"
      ],
      "metadata": {
        "trusted": true,
        "id": "vjY8T0wgCTMg"
      },
      "execution_count": 63,
      "outputs": []
    },
    {
      "cell_type": "code",
      "source": [
        "plot_graph_of_history([history_vgg16], 'VGG16', 30)"
      ],
      "metadata": {
        "colab": {
          "base_uri": "https://localhost:8080/",
          "height": 295
        },
        "id": "Q94soocq9fQP",
        "outputId": "b464a967-f4fc-4dd1-fb03-627f5b394660"
      },
      "execution_count": 64,
      "outputs": [
        {
          "output_type": "display_data",
          "data": {
            "text/plain": [
              "<Figure size 432x288 with 1 Axes>"
            ],
            "image/png": "[encoded data removed]"
          },
          "metadata": {}
        }
      ]
    },
    {
      "cell_type": "code",
      "source": [
        "plot_graph_of_history([history_vgg19], 'VGG19', 30)"
      ],
      "metadata": {
        "colab": {
          "base_uri": "https://localhost:8080/",
          "height": 295
        },
        "id": "ucG0tNrJ9jq4",
        "outputId": "e2635e41-f63c-487f-8b8a-e9689580f05e"
      },
      "execution_count": 65,
      "outputs": [
        {
          "output_type": "display_data",
          "data": {
            "text/plain": [
              "<Figure size 432x288 with 1 Axes>"
            ],
            "image/png": "[encoded data removed]"
          },
          "metadata": {}
        }
      ]
    },
    {
      "cell_type": "code",
      "source": [
        "plot_graph_of_history([history_vgg16, history_vgg19], 'VGG16 and VGG19', 30)"
      ],
      "metadata": {
        "colab": {
          "base_uri": "https://localhost:8080/",
          "height": 295
        },
        "id": "WdJxl_LLJt6z",
        "outputId": "ab26cdc5-4d03-42b4-db14-a0ba7e210389"
      },
      "execution_count": 66,
      "outputs": [
        {
          "output_type": "display_data",
          "data": {
            "text/plain": [
              "<Figure size 432x288 with 1 Axes>"
            ],
            "image/png": "[encoded data removed]"
          },
          "metadata": {}
        }
      ]
    },
    {
      "cell_type": "markdown",
      "source": [
        "#Machine Learning Algorithms Implementation"
      ],
      "metadata": {
        "id": "G30mme-ZKnpw"
      }
    },
    {
      "cell_type": "markdown",
      "source": [
        "## Creating Dataset For Training"
      ],
      "metadata": {
        "id": "odCtEXllgI_f"
      }
    },
    {
      "cell_type": "code",
      "source": [
        "datalr = []\n",
        "resultlr = []\n",
        "def data_input_lr(pathslr, op):\n",
        "    i = 0\n",
        "    for path in pathslr:\n",
        "        img = cv2.imread(path)\n",
        "        img = cv2.resize(img, (224, 224))\n",
        "        print(op, i, img.shape)\n",
        "        i += 1\n",
        "        if(img.shape == (224,224,3)):\n",
        "            nsamples, nx, ny = img.shape\n",
        "            img = img.reshape((nsamples,nx*ny))\n",
        "            datalr.append(np.array(img))\n",
        "            resultlr.append(op)\n",
        "data_input_lr(paths_yes, 0)\n",
        "data_input_lr(paths_no, 1)"
      ],
      "metadata": {
        "id": "L60p6pdDKt94"
      },
      "execution_count": null,
      "outputs": []
    },
    {
      "cell_type": "code",
      "source": [
        "print(len(datalr), len(resultlr))"
      ],
      "metadata": {
        "colab": {
          "base_uri": "https://localhost:8080/"
        },
        "id": "tkWznZXO4_xB",
        "outputId": "2c4c660b-03d7-4d09-d9a2-5d745d4524dd"
      },
      "execution_count": 12,
      "outputs": [
        {
          "output_type": "stream",
          "name": "stdout",
          "text": [
            "3000 3000\n"
          ]
        }
      ]
    },
    {
      "cell_type": "code",
      "source": [
        "datalr = np.array(datalr)\n",
        "print(datalr.shape)\n",
        "nsamples, nx, ny = datalr.shape\n",
        "# print(x)\n",
        "# \n",
        "datalr = datalr.reshape((nsamples,nx*ny))"
      ],
      "metadata": {
        "id": "g6LhG83bscMx",
        "colab": {
          "base_uri": "https://localhost:8080/"
        },
        "outputId": "fc54e4be-84f9-43e5-e1e8-85c9a2d82892"
      },
      "execution_count": 13,
      "outputs": [
        {
          "output_type": "stream",
          "name": "stdout",
          "text": [
            "(3000, 224, 672)\n"
          ]
        }
      ]
    },
    {
      "cell_type": "code",
      "source": [
        "print(len(datalr), len(resultlr))"
      ],
      "metadata": {
        "id": "fp2I3KQ_00ci",
        "colab": {
          "base_uri": "https://localhost:8080/"
        },
        "outputId": "4154b445-5320-4fb8-9ced-f98dec10ed64"
      },
      "execution_count": 16,
      "outputs": [
        {
          "output_type": "stream",
          "name": "stdout",
          "text": [
            "3000 3000\n"
          ]
        }
      ]
    },
    {
      "cell_type": "code",
      "source": [
        "x_trainlr, x_testlr, y_trainlr, y_testlr = train_test_split(datalr, resultlr, test_size=0.25, random_state=0)\n",
        "print(len(x_trainlr), len(x_testlr))"
      ],
      "metadata": {
        "id": "Rarc-ZHjYbbt",
        "colab": {
          "base_uri": "https://localhost:8080/"
        },
        "outputId": "110d46fa-d212-44f8-8aa4-4f25d6a9cac4"
      },
      "execution_count": 17,
      "outputs": [
        {
          "output_type": "stream",
          "name": "stdout",
          "text": [
            "2250 750\n"
          ]
        }
      ]
    },
    {
      "cell_type": "markdown",
      "source": [
        "##KNN"
      ],
      "metadata": {
        "id": "_HoiHv13jI5Y"
      }
    },
    {
      "cell_type": "code",
      "source": [
        "from sklearn.neighbors import KNeighborsClassifier\n",
        "# Train the KNN algorithm\n",
        "knn = KNeighborsClassifier(n_neighbors=5)\n",
        "knn.fit(x_trainlr, y_trainlr)\n",
        "\n",
        "# Predict the classes of the testing data\n",
        "y_pred = knn.predict(x_testlr)\n",
        "\n",
        "# Evaluate the performance of the algorithm\n",
        "accuracy = accuracy_score(y_testlr, y_pred)"
      ],
      "metadata": {
        "id": "T-etG01WjLm5"
      },
      "execution_count": 18,
      "outputs": []
    },
    {
      "cell_type": "code",
      "source": [
        "cm = confusion_matrix(y_testlr,y_pred)\n",
        "cm"
      ],
      "metadata": {
        "id": "6uHJBxKBjV9G",
        "colab": {
          "base_uri": "https://localhost:8080/"
        },
        "outputId": "018356a4-a7d7-43af-c6cf-a17cc3bd9cdb"
      },
      "execution_count": 19,
      "outputs": [
        {
          "output_type": "execute_result",
          "data": {
            "text/plain": [
              "array([[331,  88],\n",
              "       [  6, 325]])"
            ]
          },
          "metadata": {},
          "execution_count": 19
        }
      ]
    },
    {
      "cell_type": "code",
      "source": [
        "accuracy_score(y_testlr,y_pred)"
      ],
      "metadata": {
        "id": "zLIpl7JrjWe0",
        "colab": {
          "base_uri": "https://localhost:8080/"
        },
        "outputId": "90364920-7c82-46fb-8782-cb1098809212"
      },
      "execution_count": 20,
      "outputs": [
        {
          "output_type": "execute_result",
          "data": {
            "text/plain": [
              "0.8746666666666667"
            ]
          },
          "metadata": {},
          "execution_count": 20
        }
      ]
    },
    {
      "cell_type": "markdown",
      "source": [
        "## Logistic Regression"
      ],
      "metadata": {
        "id": "s4s2BdSndwxm"
      }
    },
    {
      "cell_type": "markdown",
      "source": [
        "Logistic Regression is not taking all the data set into consideration."
      ],
      "metadata": {
        "id": "aqHxKwoXyo66"
      }
    },
    {
      "cell_type": "code",
      "source": [
        "from sklearn.linear_model import LogisticRegression\n",
        "logisticRegr = LogisticRegression(solver='lbfgs', max_iter=100000)"
      ],
      "metadata": {
        "id": "QigZPL45YwKV"
      },
      "execution_count": 21,
      "outputs": []
    },
    {
      "cell_type": "code",
      "source": [
        "logisticRegr.fit(x_trainlr, y_trainlr)"
      ],
      "metadata": {
        "id": "5KGctOgBY2A3",
        "colab": {
          "base_uri": "https://localhost:8080/",
          "height": 75
        },
        "outputId": "ca1a9bb0-ca9c-48fb-833a-b84464f18e45"
      },
      "execution_count": 22,
      "outputs": [
        {
          "output_type": "execute_result",
          "data": {
            "text/plain": [
              "LogisticRegression(max_iter=100000)"
            ],
            "text/html": [
              "<style>#sk-container-id-1 {color: black;background-color: white;}#sk-container-id-1 pre{padding: 0;}#sk-container-id-1 div.sk-toggleable {background-color: white;}#sk-container-id-1 label.sk-toggleable__label {cursor: pointer;display: block;width: 100%;margin-bottom: 0;padding: 0.3em;box-sizing: border-box;text-align: center;}#sk-container-id-1 label.sk-toggleable__label-arrow:before {content: \"▸\";float: left;margin-right: 0.25em;color: #696969;}#sk-container-id-1 label.sk-toggleable__label-arrow:hover:before {color: black;}#sk-container-id-1 div.sk-estimator:hover label.sk-toggleable__label-arrow:before {color: black;}#sk-container-id-1 div.sk-toggleable__content {max-height: 0;max-width: 0;overflow: hidden;text-align: left;background-color: #f0f8ff;}#sk-container-id-1 div.sk-toggleable__content pre {margin: 0.2em;color: black;border-radius: 0.25em;background-color: #f0f8ff;}#sk-container-id-1 input.sk-toggleable__control:checked~div.sk-toggleable__content {max-height: 200px;max-width: 100%;overflow: auto;}#sk-container-id-1 input.sk-toggleable__control:checked~label.sk-toggleable__label-arrow:before {content: \"▾\";}#sk-container-id-1 div.sk-estimator input.sk-toggleable__control:checked~label.sk-toggleable__label {background-color: #d4ebff;}#sk-container-id-1 div.sk-label input.sk-toggleable__control:checked~label.sk-toggleable__label {background-color: #d4ebff;}#sk-container-id-1 input.sk-hidden--visually {border: 0;clip: rect(1px 1px 1px 1px);clip: rect(1px, 1px, 1px, 1px);height: 1px;margin: -1px;overflow: hidden;padding: 0;position: absolute;width: 1px;}#sk-container-id-1 div.sk-estimator {font-family: monospace;background-color: #f0f8ff;border: 1px dotted black;border-radius: 0.25em;box-sizing: border-box;margin-bottom: 0.5em;}#sk-container-id-1 div.sk-estimator:hover {background-color: #d4ebff;}#sk-container-id-1 div.sk-parallel-item::after {content: \"\";width: 100%;border-bottom: 1px solid gray;flex-grow: 1;}#sk-container-id-1 div.sk-label:hover label.sk-toggleable__label {background-color: #d4ebff;}#sk-container-id-1 div.sk-serial::before {content: \"\";position: absolute;border-left: 1px solid gray;box-sizing: border-box;top: 0;bottom: 0;left: 50%;z-index: 0;}#sk-container-id-1 div.sk-serial {display: flex;flex-direction: column;align-items: center;background-color: white;padding-right: 0.2em;padding-left: 0.2em;position: relative;}#sk-container-id-1 div.sk-item {position: relative;z-index: 1;}#sk-container-id-1 div.sk-parallel {display: flex;align-items: stretch;justify-content: center;background-color: white;position: relative;}#sk-container-id-1 div.sk-item::before, #sk-container-id-1 div.sk-parallel-item::before {content: \"\";position: absolute;border-left: 1px solid gray;box-sizing: border-box;top: 0;bottom: 0;left: 50%;z-index: -1;}#sk-container-id-1 div.sk-parallel-item {display: flex;flex-direction: column;z-index: 1;position: relative;background-color: white;}#sk-container-id-1 div.sk-parallel-item:first-child::after {align-self: flex-end;width: 50%;}#sk-container-id-1 div.sk-parallel-item:last-child::after {align-self: flex-start;width: 50%;}#sk-container-id-1 div.sk-parallel-item:only-child::after {width: 0;}#sk-container-id-1 div.sk-dashed-wrapped {border: 1px dashed gray;margin: 0 0.4em 0.5em 0.4em;box-sizing: border-box;padding-bottom: 0.4em;background-color: white;}#sk-container-id-1 div.sk-label label {font-family: monospace;font-weight: bold;display: inline-block;line-height: 1.2em;}#sk-container-id-1 div.sk-label-container {text-align: center;}#sk-container-id-1 div.sk-container {/* jupyter's `normalize.less` sets `[hidden] { display: none; }` but bootstrap.min.css set `[hidden] { display: none !important; }` so we also need the `!important` here to be able to override the default hidden behavior on the sphinx rendered scikit-learn.org. See: https://github.com/scikit-learn/scikit-learn/issues/21755 */display: inline-block !important;position: relative;}#sk-container-id-1 div.sk-text-repr-fallback {display: none;}</style><div id=\"sk-container-id-1\" class=\"sk-top-container\"><div class=\"sk-text-repr-fallback\"><pre>LogisticRegression(max_iter=100000)</pre><b>In a Jupyter environment, please rerun this cell to show the HTML representation or trust the notebook. <br />On GitHub, the HTML representation is unable to render, please try loading this page with nbviewer.org.</b></div><div class=\"sk-container\" hidden><div class=\"sk-item\"><div class=\"sk-estimator sk-toggleable\"><input class=\"sk-toggleable__control sk-hidden--visually\" id=\"sk-estimator-id-1\" type=\"checkbox\" checked><label for=\"sk-estimator-id-1\" class=\"sk-toggleable__label sk-toggleable__label-arrow\">LogisticRegression</label><div class=\"sk-toggleable__content\"><pre>LogisticRegression(max_iter=100000)</pre></div></div></div></div></div>"
            ]
          },
          "metadata": {},
          "execution_count": 22
        }
      ]
    },
    {
      "cell_type": "code",
      "source": [
        "y_test_pred = logisticRegr.predict(x_testlr)\n",
        "y_train_pred = logisticRegr.predict(x_trainlr)"
      ],
      "metadata": {
        "id": "40Mg5Z8G1aEa"
      },
      "execution_count": 23,
      "outputs": []
    },
    {
      "cell_type": "code",
      "source": [
        "accuracy_score(y_testlr,y_test_pred)"
      ],
      "metadata": {
        "id": "ZyboPhq91ZCr",
        "colab": {
          "base_uri": "https://localhost:8080/"
        },
        "outputId": "ed53762b-f186-4ba0-aeda-3266351abde5"
      },
      "execution_count": 24,
      "outputs": [
        {
          "output_type": "execute_result",
          "data": {
            "text/plain": [
              "0.968"
            ]
          },
          "metadata": {},
          "execution_count": 24
        }
      ]
    },
    {
      "cell_type": "code",
      "source": [
        "cm = confusion_matrix(y_testlr,y_test_pred)\n",
        "cm"
      ],
      "metadata": {
        "id": "Wzn8XxQnwCcD",
        "colab": {
          "base_uri": "https://localhost:8080/"
        },
        "outputId": "873fe611-77b2-4839-a5b9-7c4c295698fd"
      },
      "execution_count": 25,
      "outputs": [
        {
          "output_type": "execute_result",
          "data": {
            "text/plain": [
              "array([[401,  18],\n",
              "       [  6, 325]])"
            ]
          },
          "metadata": {},
          "execution_count": 25
        }
      ]
    },
    {
      "cell_type": "markdown",
      "source": [
        "## SVM"
      ],
      "metadata": {
        "id": "sjU323qmd2Q-"
      }
    },
    {
      "cell_type": "code",
      "source": [
        "from sklearn.svm import SVC\n",
        "svr = SVC(kernel = 'linear',C = 1000)\n",
        "svr.fit(x_trainlr,y_trainlr)"
      ],
      "metadata": {
        "id": "MP6GAnXLhkUo",
        "colab": {
          "base_uri": "https://localhost:8080/",
          "height": 75
        },
        "outputId": "4baa6f31-f9ea-4a5e-d7ba-480bd4472d32"
      },
      "execution_count": 26,
      "outputs": [
        {
          "output_type": "execute_result",
          "data": {
            "text/plain": [
              "SVC(C=1000, kernel='linear')"
            ],
            "text/html": [
              "<style>#sk-container-id-2 {color: black;background-color: white;}#sk-container-id-2 pre{padding: 0;}#sk-container-id-2 div.sk-toggleable {background-color: white;}#sk-container-id-2 label.sk-toggleable__label {cursor: pointer;display: block;width: 100%;margin-bottom: 0;padding: 0.3em;box-sizing: border-box;text-align: center;}#sk-container-id-2 label.sk-toggleable__label-arrow:before {content: \"▸\";float: left;margin-right: 0.25em;color: #696969;}#sk-container-id-2 label.sk-toggleable__label-arrow:hover:before {color: black;}#sk-container-id-2 div.sk-estimator:hover label.sk-toggleable__label-arrow:before {color: black;}#sk-container-id-2 div.sk-toggleable__content {max-height: 0;max-width: 0;overflow: hidden;text-align: left;background-color: #f0f8ff;}#sk-container-id-2 div.sk-toggleable__content pre {margin: 0.2em;color: black;border-radius: 0.25em;background-color: #f0f8ff;}#sk-container-id-2 input.sk-toggleable__control:checked~div.sk-toggleable__content {max-height: 200px;max-width: 100%;overflow: auto;}#sk-container-id-2 input.sk-toggleable__control:checked~label.sk-toggleable__label-arrow:before {content: \"▾\";}#sk-container-id-2 div.sk-estimator input.sk-toggleable__control:checked~label.sk-toggleable__label {background-color: #d4ebff;}#sk-container-id-2 div.sk-label input.sk-toggleable__control:checked~label.sk-toggleable__label {background-color: #d4ebff;}#sk-container-id-2 input.sk-hidden--visually {border: 0;clip: rect(1px 1px 1px 1px);clip: rect(1px, 1px, 1px, 1px);height: 1px;margin: -1px;overflow: hidden;padding: 0;position: absolute;width: 1px;}#sk-container-id-2 div.sk-estimator {font-family: monospace;background-color: #f0f8ff;border: 1px dotted black;border-radius: 0.25em;box-sizing: border-box;margin-bottom: 0.5em;}#sk-container-id-2 div.sk-estimator:hover {background-color: #d4ebff;}#sk-container-id-2 div.sk-parallel-item::after {content: \"\";width: 100%;border-bottom: 1px solid gray;flex-grow: 1;}#sk-container-id-2 div.sk-label:hover label.sk-toggleable__label {background-color: #d4ebff;}#sk-container-id-2 div.sk-serial::before {content: \"\";position: absolute;border-left: 1px solid gray;box-sizing: border-box;top: 0;bottom: 0;left: 50%;z-index: 0;}#sk-container-id-2 div.sk-serial {display: flex;flex-direction: column;align-items: center;background-color: white;padding-right: 0.2em;padding-left: 0.2em;position: relative;}#sk-container-id-2 div.sk-item {position: relative;z-index: 1;}#sk-container-id-2 div.sk-parallel {display: flex;align-items: stretch;justify-content: center;background-color: white;position: relative;}#sk-container-id-2 div.sk-item::before, #sk-container-id-2 div.sk-parallel-item::before {content: \"\";position: absolute;border-left: 1px solid gray;box-sizing: border-box;top: 0;bottom: 0;left: 50%;z-index: -1;}#sk-container-id-2 div.sk-parallel-item {display: flex;flex-direction: column;z-index: 1;position: relative;background-color: white;}#sk-container-id-2 div.sk-parallel-item:first-child::after {align-self: flex-end;width: 50%;}#sk-container-id-2 div.sk-parallel-item:last-child::after {align-self: flex-start;width: 50%;}#sk-container-id-2 div.sk-parallel-item:only-child::after {width: 0;}#sk-container-id-2 div.sk-dashed-wrapped {border: 1px dashed gray;margin: 0 0.4em 0.5em 0.4em;box-sizing: border-box;padding-bottom: 0.4em;background-color: white;}#sk-container-id-2 div.sk-label label {font-family: monospace;font-weight: bold;display: inline-block;line-height: 1.2em;}#sk-container-id-2 div.sk-label-container {text-align: center;}#sk-container-id-2 div.sk-container {/* jupyter's `normalize.less` sets `[hidden] { display: none; }` but bootstrap.min.css set `[hidden] { display: none !important; }` so we also need the `!important` here to be able to override the default hidden behavior on the sphinx rendered scikit-learn.org. See: https://github.com/scikit-learn/scikit-learn/issues/21755 */display: inline-block !important;position: relative;}#sk-container-id-2 div.sk-text-repr-fallback {display: none;}</style><div id=\"sk-container-id-2\" class=\"sk-top-container\"><div class=\"sk-text-repr-fallback\"><pre>SVC(C=1000, kernel=&#x27;linear&#x27;)</pre><b>In a Jupyter environment, please rerun this cell to show the HTML representation or trust the notebook. <br />On GitHub, the HTML representation is unable to render, please try loading this page with nbviewer.org.</b></div><div class=\"sk-container\" hidden><div class=\"sk-item\"><div class=\"sk-estimator sk-toggleable\"><input class=\"sk-toggleable__control sk-hidden--visually\" id=\"sk-estimator-id-2\" type=\"checkbox\" checked><label for=\"sk-estimator-id-2\" class=\"sk-toggleable__label sk-toggleable__label-arrow\">SVC</label><div class=\"sk-toggleable__content\"><pre>SVC(C=1000, kernel=&#x27;linear&#x27;)</pre></div></div></div></div></div>"
            ]
          },
          "metadata": {},
          "execution_count": 26
        }
      ]
    },
    {
      "cell_type": "code",
      "source": [
        "y_test_pred = svr.predict(x_testlr)\n",
        "y_train_pred = svr.predict(x_trainlr)"
      ],
      "metadata": {
        "id": "15pc12YLizD5"
      },
      "execution_count": 27,
      "outputs": []
    },
    {
      "cell_type": "code",
      "source": [
        "accuracy_score(y_testlr,y_test_pred)"
      ],
      "metadata": {
        "id": "7GxG0lY3jKIw",
        "colab": {
          "base_uri": "https://localhost:8080/"
        },
        "outputId": "46cd1f89-153f-4d97-8c23-77fa0cdb5a5b"
      },
      "execution_count": 28,
      "outputs": [
        {
          "output_type": "execute_result",
          "data": {
            "text/plain": [
              "0.9626666666666667"
            ]
          },
          "metadata": {},
          "execution_count": 28
        }
      ]
    },
    {
      "cell_type": "code",
      "source": [
        "cm = confusion_matrix(y_testlr,y_test_pred)\n",
        "cm"
      ],
      "metadata": {
        "id": "tfPxP1Qskf1Y",
        "colab": {
          "base_uri": "https://localhost:8080/"
        },
        "outputId": "891cab73-c97e-449e-ef4b-c09490620877"
      },
      "execution_count": 29,
      "outputs": [
        {
          "output_type": "execute_result",
          "data": {
            "text/plain": [
              "array([[399,  20],\n",
              "       [  8, 323]])"
            ]
          },
          "metadata": {},
          "execution_count": 29
        }
      ]
    },
    {
      "cell_type": "markdown",
      "source": [
        "##Naive Bayes Classifier"
      ],
      "metadata": {
        "id": "jhl6nDlMcimI"
      }
    },
    {
      "cell_type": "code",
      "source": [
        "data_1d = []\n",
        "for i in datalr:\n",
        "    data_1d.append(i.flatten())"
      ],
      "metadata": {
        "id": "h_D-oYF0csgB"
      },
      "execution_count": 30,
      "outputs": []
    },
    {
      "cell_type": "code",
      "source": [
        "x_trainlr, x_testlr, y_trainlr, y_testlr = train_test_split(datalr, resultlr, test_size=0.25, random_state=0)\n",
        "print(len(x_trainlr), len(x_testlr))"
      ],
      "metadata": {
        "id": "lF4k1xbQdOpA",
        "colab": {
          "base_uri": "https://localhost:8080/"
        },
        "outputId": "fdc2da6d-a9af-4d08-dac0-ba988ad6d08c"
      },
      "execution_count": 31,
      "outputs": [
        {
          "output_type": "stream",
          "name": "stdout",
          "text": [
            "2250 750\n"
          ]
        }
      ]
    },
    {
      "cell_type": "code",
      "source": [
        "from sklearn.naive_bayes import GaussianNB\n",
        "# Train Naive Bayes classifier\n",
        "clf = GaussianNB()\n",
        "clf.fit(x_trainlr, y_trainlr)\n",
        "\n",
        "# Predict labels for testing set\n",
        "y_pred = clf.predict(x_testlr)"
      ],
      "metadata": {
        "id": "uuplbAvNci6Q"
      },
      "execution_count": 32,
      "outputs": []
    },
    {
      "cell_type": "code",
      "source": [
        "cm = confusion_matrix(y_testlr,y_pred)\n",
        "cm"
      ],
      "metadata": {
        "id": "FUQrdiZDcsn2",
        "colab": {
          "base_uri": "https://localhost:8080/"
        },
        "outputId": "62a3bbb2-8188-4402-e45e-ec300850f3d4"
      },
      "execution_count": 33,
      "outputs": [
        {
          "output_type": "execute_result",
          "data": {
            "text/plain": [
              "array([[262, 157],\n",
              "       [ 58, 273]])"
            ]
          },
          "metadata": {},
          "execution_count": 33
        }
      ]
    },
    {
      "cell_type": "code",
      "source": [
        "accuracy_score(y_testlr, y_pred)"
      ],
      "metadata": {
        "id": "YIlmtDjVdTcp",
        "colab": {
          "base_uri": "https://localhost:8080/"
        },
        "outputId": "997e4589-3b9b-433f-ef03-eb52f187175e"
      },
      "execution_count": 34,
      "outputs": [
        {
          "output_type": "execute_result",
          "data": {
            "text/plain": [
              "0.7133333333333334"
            ]
          },
          "metadata": {},
          "execution_count": 34
        }
      ]
    },
    {
      "cell_type": "code",
      "source": [],
      "metadata": {
        "id": "LcaNOk8t-VfL"
      },
      "execution_count": null,
      "outputs": []
    }
  ]
}