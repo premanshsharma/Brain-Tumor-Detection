{
  "metadata": {
    "kernelspec": {
      "language": "python",
      "display_name": "Python 3",
      "name": "python3"
    },
    "language_info": {
      "name": "python",
      "version": "3.7.12",
      "mimetype": "text/x-python",
      "codemirror_mode": {
        "name": "ipython",
        "version": 3
      },
      "pygments_lexer": "ipython3",
      "nbconvert_exporter": "python",
      "file_extension": ".py"
    },
    "colab": {
      "name": "btp-clg vgg16.ipynb",
      "provenance": [],
      "include_colab_link": true
    },
    "accelerator": "GPU",
    "gpuClass": "standard"
  },
  "nbformat_minor": 0,
  "nbformat": 4,
  "cells": [
    {
      "cell_type": "markdown",
      "metadata": {
        "id": "view-in-github",
        "colab_type": "text"
      },
      "source": [
        "<a href=\"https://colab.research.google.com/github/premanshsharma/Brain-Tumor-Detection/blob/main/btp_clg_vgg16.ipynb\" target=\"_parent\"><img src=\"https://colab.research.google.com/assets/colab-badge.svg\" alt=\"Open In Colab\"/></a>"
      ]
    },
    {
      "cell_type": "code",
      "source": [
        "import os\n",
        "import keras \n",
        "from keras.models import Sequential\n",
        "from keras.layers import Dropout, BatchNormalization, Dense, Conv2D, MaxPool2D , Flatten\n",
        "from keras.preprocessing.image import ImageDataGenerator\n",
        "from PIL import Image\n",
        "import numpy as np\n",
        "import pandas as pd\n",
        "import matplotlib.pyplot as plt\n",
        "from sklearn.model_selection import train_test_split\n",
        "from sklearn.preprocessing import OneHotEncoder \n",
        "import tensorflow as tf\n",
        "plt.style.use('dark_background')\n"
      ],
      "metadata": {
        "_uuid": "8f2839f25d086af736a60e9eeb907d3b93b6e0e5",
        "_cell_guid": "b1076dfc-b9ad-4769-8c92-a6c4dae69d19",
        "trusted": true,
        "id": "BCAPzQmXCTMY"
      },
      "execution_count": 2,
      "outputs": []
    },
    {
      "cell_type": "code",
      "source": [
        "from google.colab import drive\n",
        "drive.mount('/content/gdrive')"
      ],
      "metadata": {
        "colab": {
          "base_uri": "https://localhost:8080/"
        },
        "id": "57FoYU-82dug",
        "outputId": "2e00d7cf-362f-482b-9f70-7aa2df67180b"
      },
      "execution_count": 3,
      "outputs": [
        {
          "output_type": "stream",
          "name": "stdout",
          "text": [
            "Mounted at /content/gdrive\n"
          ]
        }
      ]
    },
    {
      "cell_type": "code",
      "source": [
        "encoder = OneHotEncoder()\n",
        "encoder.fit([[0], [1]]) \n",
        "\n",
        "\n",
        "# 0 - Tumor\n",
        "# 1 - Normal\n",
        "# This cell updates result list for images with tumor\n",
        "\n",
        "data = []\n",
        "paths = []\n",
        "result = []\n",
        "\n",
        "for r, d, f in os.walk(r'/content/gdrive/MyDrive/Brain Tumor Detection/BRAIN_MRI_IMAGE_DATA_SET/data sets/yes'):\n",
        "    for file in f:\n",
        "        if '.jpg' in file:\n",
        "            paths.append(os.path.join(r, file))\n",
        "\n",
        "for path in paths:\n",
        "    img = Image.open(path)\n",
        "    img = img.resize((224,224))\n",
        "    img = np.array(img)\n",
        "    if(img.shape == (224,224,3)):\n",
        "        data.append(np.array(img))\n",
        "        result.append(encoder.transform([[0]]).toarray())\n",
        "paths = []\n",
        "\n",
        "for r, d, f in os.walk(r'/content/gdrive/MyDrive/Brain Tumor Detection/BRAIN_MRI_IMAGE_DATA_SET/data sets/no'):\n",
        "    for file in f:\n",
        "        if '.jpg' in file:\n",
        "            paths.append(os.path.join(r, file))\n",
        "\n",
        "for path in paths:\n",
        "    img = Image.open(path)\n",
        "    img = img.resize((224,224))\n",
        "    img = np.array(img)\n",
        "    if(img.shape == (224,224,3)):\n",
        "        data.append(np.array(img))\n",
        "        result.append(encoder.transform([[1]]).toarray())"
      ],
      "metadata": {
        "trusted": true,
        "id": "SPDkC9aBCTMa"
      },
      "execution_count": 4,
      "outputs": []
    },
    {
      "cell_type": "code",
      "source": [
        "data = np.array(data)\n",
        "data.shape"
      ],
      "metadata": {
        "trusted": true,
        "id": "q9f_PfzkCTMb",
        "colab": {
          "base_uri": "https://localhost:8080/"
        },
        "outputId": "9c3646c5-3e4e-4ba7-98c3-4cb298be154a"
      },
      "execution_count": 5,
      "outputs": [
        {
          "output_type": "execute_result",
          "data": {
            "text/plain": [
              "(2891, 224, 224, 3)"
            ]
          },
          "metadata": {},
          "execution_count": 5
        }
      ]
    },
    {
      "cell_type": "code",
      "source": [
        "result = np.array(result)\n",
        "result = result.reshape(2891,2)"
      ],
      "metadata": {
        "id": "abUknXZxHpLv"
      },
      "execution_count": 6,
      "outputs": []
    },
    {
      "cell_type": "code",
      "source": [
        "x_train, x_test, y_train, y_test = train_test_split(data, result, test_size=0.2, shuffle = True, random_state = 8)\n",
        "\n",
        "x_train, x_val, y_train, y_val = train_test_split(x_train, y_train, test_size=0.25, random_state= 8)"
      ],
      "metadata": {
        "trusted": true,
        "id": "nxeCda-QCTMb"
      },
      "execution_count": 7,
      "outputs": []
    },
    {
      "cell_type": "code",
      "source": [
        "def vgg16():\n",
        "    model = Sequential()\n",
        "    model.add(Conv2D(input_shape=(224,224,3),filters=64,kernel_size=(3,3),padding=\"same\", activation=\"relu\"))\n",
        "    model.add(Conv2D(filters=64,kernel_size=(3,3),padding=\"same\", activation=\"relu\"))\n",
        "    model.add(MaxPool2D(pool_size=(2,2),strides=(2,2)))\n",
        "    model.add(Conv2D(filters=128, kernel_size=(3,3), padding=\"same\", activation=\"relu\"))\n",
        "    model.add(Conv2D(filters=128, kernel_size=(3,3), padding=\"same\", activation=\"relu\"))\n",
        "    model.add(MaxPool2D(pool_size=(2,2),strides=(2,2)))\n",
        "    model.add(Conv2D(filters=256, kernel_size=(3,3), padding=\"same\", activation=\"relu\"))\n",
        "    model.add(Conv2D(filters=256, kernel_size=(3,3), padding=\"same\", activation=\"relu\"))\n",
        "    model.add(Conv2D(filters=256, kernel_size=(3,3), padding=\"same\", activation=\"relu\"))\n",
        "    model.add(MaxPool2D(pool_size=(2,2),strides=(2,2)))\n",
        "    model.add(Conv2D(filters=512, kernel_size=(3,3), padding=\"same\", activation=\"relu\"))\n",
        "    model.add(Conv2D(filters=512, kernel_size=(3,3), padding=\"same\", activation=\"relu\"))\n",
        "    model.add(Conv2D(filters=512, kernel_size=(3,3), padding=\"same\", activation=\"relu\"))\n",
        "    model.add(MaxPool2D(pool_size=(2,2),strides=(2,2)))\n",
        "    model.add(Conv2D(filters=512, kernel_size=(3,3), padding=\"same\", activation=\"relu\"))\n",
        "    model.add(Conv2D(filters=512, kernel_size=(3,3), padding=\"same\", activation=\"relu\"))\n",
        "    model.add(Conv2D(filters=512, kernel_size=(3,3), padding=\"same\", activation=\"relu\"))\n",
        "    model.add(MaxPool2D(pool_size=(2,2),strides=(2,2)))\n",
        "    model.add(Flatten())\n",
        "    model.add(Dense(units=4096,activation=\"relu\"))\n",
        "    model.add(Dense(units=4096,activation=\"relu\"))\n",
        "    model.add(Dense(units=2, activation=\"softmax\"))\n",
        "    from tensorflow.keras.optimizers import Adam \n",
        "    opt = Adam(lr=0.001)\n",
        "    model.compile(optimizer=opt, loss=keras.losses.categorical_crossentropy, metrics=['accuracy'])\n",
        "    return model\n",
        "# model.summary()"
      ],
      "metadata": {
        "id": "3MY1eQzrCTMh"
      },
      "execution_count": 11,
      "outputs": []
    },
    {
      "cell_type": "code",
      "source": [
        "def vgg19():\n",
        "    model = Sequential()\n",
        "    model.add(Conv2D(input_shape=(224,224,3),filters=64,kernel_size=(3,3),padding=\"same\", activation=\"relu\"))\n",
        "    model.add(Conv2D(filters=64,kernel_size=(3,3),padding=\"same\", activation=\"relu\"))\n",
        "    model.add(Conv2D(filters=64,kernel_size=(3,3),padding=\"same\", activation=\"relu\"))\n",
        "    model.add(MaxPool2D(pool_size=(2,2), strides= (2,2)))\n",
        "\n",
        "    model.add(Conv2D(filters=128, kernel_size=(3,3), padding=\"same\", activation=\"relu\"))\n",
        "    model.add(Conv2D(filters=128, kernel_size=(3,3), padding=\"same\", activation=\"relu\"))\n",
        "    model.add(MaxPool2D(pool_size=(2,2),strides=(2,2)))\n",
        "\n",
        "    model.add(Conv2D(filters=256, kernel_size=(3,3), padding=\"same\", activation=\"relu\"))\n",
        "    model.add(Conv2D(filters=256, kernel_size=(3,3), padding=\"same\", activation=\"relu\"))\n",
        "    model.add(Conv2D(filters=256, kernel_size=(3,3), padding=\"same\", activation=\"relu\"))\n",
        "    model.add(Conv2D(filters=256, kernel_size=(3,3), padding=\"same\", activation=\"relu\"))\n",
        "    model.add(MaxPool2D(pool_size=(2,2),strides=(2,2)))\n",
        "\n",
        "    model.add(Conv2D(filters=512, kernel_size=(3,3), padding=\"same\", activation=\"relu\"))\n",
        "    model.add(Conv2D(filters=512, kernel_size=(3,3), padding=\"same\", activation=\"relu\"))\n",
        "    model.add(Conv2D(filters=512, kernel_size=(3,3), padding=\"same\", activation=\"relu\"))\n",
        "    model.add(Conv2D(filters=512, kernel_size=(3,3), padding=\"same\", activation=\"relu\"))\n",
        "    model.add(MaxPool2D(pool_size=(2,2),strides=(2,2)))\n",
        "\n",
        "    model.add(Conv2D(filters=512, kernel_size=(3,3), padding=\"same\", activation=\"relu\"))\n",
        "    model.add(Conv2D(filters=512, kernel_size=(3,3), padding=\"same\", activation=\"relu\"))\n",
        "    model.add(Conv2D(filters=512, kernel_size=(3,3), padding=\"same\", activation=\"relu\"))\n",
        "    model.add(Conv2D(filters=512, kernel_size=(3,3), padding=\"same\", activation=\"relu\"))\n",
        "    model.add(MaxPool2D(pool_size=(2,2),strides=(2,2)))\n",
        "    from keras.models import Sequential\n",
        "    model.add(Flatten())\n",
        "    model.add(Dense(units=4096,activation=\"relu\"))\n",
        "    model.add(Dropout(0.5))\n",
        "    model.add(Dense(4096, activation= 'relu'))\n",
        "    model.add(Dense(1000, activation= 'relu'))\n",
        "    model.add(Dense(2, activation='softmax'))\n",
        "    from tensorflow.keras.optimizers import Adam \n",
        "    opt = Adam(lr=0.001)\n",
        "    model.compile(loss='binary_crossentropy', optimizer=Adam(lr=0.001), metrics=['accuracy'])\n",
        "    return model"
      ],
      "metadata": {
        "id": "EO2b8UIPA7Lx"
      },
      "execution_count": 14,
      "outputs": []
    },
    {
      "cell_type": "code",
      "source": [
        "y_train.shape"
      ],
      "metadata": {
        "trusted": true,
        "id": "2jr6WYMlCTMd",
        "colab": {
          "base_uri": "https://localhost:8080/"
        },
        "outputId": "9deedbfe-bfce-48e2-e123-e08954b84b84"
      },
      "execution_count": 9,
      "outputs": [
        {
          "output_type": "execute_result",
          "data": {
            "text/plain": [
              "(1734, 2)"
            ]
          },
          "metadata": {},
          "execution_count": 9
        }
      ]
    },
    {
      "cell_type": "code",
      "source": [
        "model1 = vgg16()\n",
        "# model2 = vgg19()\n",
        "history = model1.fit(x_train, y_train, epochs = 100, batch_size = 40, validation_data = (x_val, y_val))"
      ],
      "metadata": {
        "trusted": true,
        "id": "MJuwLt2pCTMe",
        "colab": {
          "base_uri": "https://localhost:8080/"
        },
        "outputId": "6d8bc061-a642-4b1d-8bfc-86cf0270947c"
      },
      "execution_count": 18,
      "outputs": [
        {
          "output_type": "stream",
          "name": "stderr",
          "text": [
            "/usr/local/lib/python3.7/dist-packages/keras/optimizer_v2/adam.py:105: UserWarning: The `lr` argument is deprecated, use `learning_rate` instead.\n",
            "  super(Adam, self).__init__(name, **kwargs)\n"
          ]
        },
        {
          "output_type": "stream",
          "name": "stdout",
          "text": [
            "Epoch 1/100\n",
            "44/44 [==============================] - 33s 604ms/step - loss: 245.4865 - accuracy: 0.5248 - val_loss: 0.5900 - val_accuracy: 0.6920\n",
            "Epoch 2/100\n",
            "44/44 [==============================] - 26s 601ms/step - loss: 0.5561 - accuracy: 0.7261 - val_loss: 0.5422 - val_accuracy: 0.7301\n",
            "Epoch 3/100\n",
            "44/44 [==============================] - 26s 595ms/step - loss: 0.5320 - accuracy: 0.7318 - val_loss: 0.5288 - val_accuracy: 0.7336\n",
            "Epoch 4/100\n",
            "44/44 [==============================] - 26s 596ms/step - loss: 0.4782 - accuracy: 0.7636 - val_loss: 0.5621 - val_accuracy: 0.7855\n",
            "Epoch 5/100\n",
            "44/44 [==============================] - 29s 652ms/step - loss: 0.4819 - accuracy: 0.7803 - val_loss: 0.4735 - val_accuracy: 0.7941\n",
            "Epoch 6/100\n",
            "44/44 [==============================] - 26s 598ms/step - loss: 0.4209 - accuracy: 0.8080 - val_loss: 0.4318 - val_accuracy: 0.8131\n",
            "Epoch 7/100\n",
            "44/44 [==============================] - 26s 598ms/step - loss: 0.3613 - accuracy: 0.8443 - val_loss: 0.3824 - val_accuracy: 0.8322\n",
            "Epoch 8/100\n",
            "44/44 [==============================] - 26s 597ms/step - loss: 0.2781 - accuracy: 0.8783 - val_loss: 0.3665 - val_accuracy: 0.8633\n",
            "Epoch 9/100\n",
            "44/44 [==============================] - 26s 597ms/step - loss: 0.2525 - accuracy: 0.9025 - val_loss: 0.2955 - val_accuracy: 0.8945\n",
            "Epoch 10/100\n",
            "44/44 [==============================] - 26s 597ms/step - loss: 0.2243 - accuracy: 0.9170 - val_loss: 0.2577 - val_accuracy: 0.9066\n",
            "Epoch 11/100\n",
            "44/44 [==============================] - 26s 596ms/step - loss: 0.1730 - accuracy: 0.9337 - val_loss: 0.3304 - val_accuracy: 0.8997\n",
            "Epoch 12/100\n",
            "44/44 [==============================] - 26s 597ms/step - loss: 0.1482 - accuracy: 0.9464 - val_loss: 0.4119 - val_accuracy: 0.9135\n",
            "Epoch 13/100\n",
            "44/44 [==============================] - 26s 596ms/step - loss: 0.1761 - accuracy: 0.9354 - val_loss: 0.2495 - val_accuracy: 0.9239\n",
            "Epoch 14/100\n",
            "44/44 [==============================] - 26s 596ms/step - loss: 0.1363 - accuracy: 0.9487 - val_loss: 0.3104 - val_accuracy: 0.9291\n",
            "Epoch 15/100\n",
            "44/44 [==============================] - 26s 596ms/step - loss: 0.0988 - accuracy: 0.9660 - val_loss: 0.3792 - val_accuracy: 0.9360\n",
            "Epoch 16/100\n",
            "44/44 [==============================] - 26s 596ms/step - loss: 0.1172 - accuracy: 0.9602 - val_loss: 0.5077 - val_accuracy: 0.9048\n",
            "Epoch 17/100\n",
            "44/44 [==============================] - 26s 596ms/step - loss: 0.0889 - accuracy: 0.9717 - val_loss: 0.3143 - val_accuracy: 0.9412\n",
            "Epoch 18/100\n",
            "44/44 [==============================] - 26s 596ms/step - loss: 0.0788 - accuracy: 0.9689 - val_loss: 0.2083 - val_accuracy: 0.9533\n",
            "Epoch 19/100\n",
            "44/44 [==============================] - 26s 596ms/step - loss: 0.0467 - accuracy: 0.9839 - val_loss: 0.2998 - val_accuracy: 0.9291\n",
            "Epoch 20/100\n",
            "44/44 [==============================] - 26s 595ms/step - loss: 0.0545 - accuracy: 0.9821 - val_loss: 0.3767 - val_accuracy: 0.8910\n",
            "Epoch 21/100\n",
            "44/44 [==============================] - 26s 596ms/step - loss: 0.1503 - accuracy: 0.9458 - val_loss: 0.1963 - val_accuracy: 0.9360\n",
            "Epoch 22/100\n",
            "44/44 [==============================] - 26s 596ms/step - loss: 0.0832 - accuracy: 0.9689 - val_loss: 0.4904 - val_accuracy: 0.9446\n",
            "Epoch 23/100\n",
            "44/44 [==============================] - 26s 596ms/step - loss: 0.0667 - accuracy: 0.9810 - val_loss: 0.2687 - val_accuracy: 0.9481\n",
            "Epoch 24/100\n",
            "44/44 [==============================] - 26s 595ms/step - loss: 0.0537 - accuracy: 0.9804 - val_loss: 0.1662 - val_accuracy: 0.9567\n",
            "Epoch 25/100\n",
            "44/44 [==============================] - 26s 595ms/step - loss: 0.0461 - accuracy: 0.9815 - val_loss: 0.2076 - val_accuracy: 0.9567\n",
            "Epoch 26/100\n",
            "44/44 [==============================] - 26s 595ms/step - loss: 0.0750 - accuracy: 0.9752 - val_loss: 0.2134 - val_accuracy: 0.9360\n",
            "Epoch 27/100\n",
            "44/44 [==============================] - 26s 595ms/step - loss: 0.0640 - accuracy: 0.9758 - val_loss: 0.1748 - val_accuracy: 0.9585\n",
            "Epoch 28/100\n",
            "44/44 [==============================] - 26s 595ms/step - loss: 0.0313 - accuracy: 0.9850 - val_loss: 0.3517 - val_accuracy: 0.9567\n",
            "Epoch 29/100\n",
            "44/44 [==============================] - 26s 595ms/step - loss: 0.0630 - accuracy: 0.9798 - val_loss: 0.1441 - val_accuracy: 0.9723\n",
            "Epoch 30/100\n",
            "44/44 [==============================] - 26s 595ms/step - loss: 0.0141 - accuracy: 0.9960 - val_loss: 0.2881 - val_accuracy: 0.9585\n",
            "Epoch 31/100\n",
            "44/44 [==============================] - 26s 594ms/step - loss: 0.0379 - accuracy: 0.9902 - val_loss: 0.1976 - val_accuracy: 0.9654\n",
            "Epoch 32/100\n",
            "44/44 [==============================] - 26s 595ms/step - loss: 0.0244 - accuracy: 0.9937 - val_loss: 0.1499 - val_accuracy: 0.9654\n",
            "Epoch 33/100\n",
            "44/44 [==============================] - 26s 595ms/step - loss: 0.0402 - accuracy: 0.9885 - val_loss: 0.2753 - val_accuracy: 0.9516\n",
            "Epoch 34/100\n",
            "44/44 [==============================] - 26s 596ms/step - loss: 0.0255 - accuracy: 0.9913 - val_loss: 0.3304 - val_accuracy: 0.9602\n",
            "Epoch 35/100\n",
            "44/44 [==============================] - 26s 594ms/step - loss: 0.0165 - accuracy: 0.9983 - val_loss: 0.2976 - val_accuracy: 0.9671\n",
            "Epoch 36/100\n",
            "44/44 [==============================] - 26s 595ms/step - loss: 0.0012 - accuracy: 0.9994 - val_loss: 0.3890 - val_accuracy: 0.9585\n",
            "Epoch 37/100\n",
            "44/44 [==============================] - 26s 595ms/step - loss: 0.0282 - accuracy: 0.9913 - val_loss: 0.2381 - val_accuracy: 0.9654\n",
            "Epoch 38/100\n",
            "44/44 [==============================] - 26s 594ms/step - loss: 0.0075 - accuracy: 0.9971 - val_loss: 0.5105 - val_accuracy: 0.9567\n",
            "Epoch 39/100\n",
            "44/44 [==============================] - 26s 595ms/step - loss: 0.0332 - accuracy: 0.9902 - val_loss: 0.2181 - val_accuracy: 0.9706\n",
            "Epoch 40/100\n",
            "44/44 [==============================] - 26s 595ms/step - loss: 0.0150 - accuracy: 0.9960 - val_loss: 0.5292 - val_accuracy: 0.9464\n",
            "Epoch 41/100\n",
            "44/44 [==============================] - 26s 595ms/step - loss: 0.0773 - accuracy: 0.9758 - val_loss: 0.2285 - val_accuracy: 0.9550\n",
            "Epoch 42/100\n",
            "44/44 [==============================] - 26s 595ms/step - loss: 0.0374 - accuracy: 0.9856 - val_loss: 0.1938 - val_accuracy: 0.9602\n",
            "Epoch 43/100\n",
            "44/44 [==============================] - 26s 595ms/step - loss: 0.0102 - accuracy: 0.9954 - val_loss: 0.3274 - val_accuracy: 0.9498\n",
            "Epoch 44/100\n",
            "44/44 [==============================] - 26s 595ms/step - loss: 0.0316 - accuracy: 0.9913 - val_loss: 0.1951 - val_accuracy: 0.9706\n",
            "Epoch 45/100\n",
            "44/44 [==============================] - 26s 595ms/step - loss: 0.0191 - accuracy: 0.9937 - val_loss: 0.2208 - val_accuracy: 0.9671\n",
            "Epoch 46/100\n",
            "44/44 [==============================] - 26s 593ms/step - loss: 0.0140 - accuracy: 0.9954 - val_loss: 0.4451 - val_accuracy: 0.9689\n",
            "Epoch 47/100\n",
            "44/44 [==============================] - 26s 594ms/step - loss: 0.0538 - accuracy: 0.9821 - val_loss: 0.3167 - val_accuracy: 0.9516\n",
            "Epoch 48/100\n",
            "44/44 [==============================] - 26s 595ms/step - loss: 0.0666 - accuracy: 0.9775 - val_loss: 0.2434 - val_accuracy: 0.9533\n",
            "Epoch 49/100\n",
            "44/44 [==============================] - 26s 594ms/step - loss: 0.0199 - accuracy: 0.9942 - val_loss: 0.2994 - val_accuracy: 0.9464\n",
            "Epoch 50/100\n",
            "44/44 [==============================] - 26s 594ms/step - loss: 0.0668 - accuracy: 0.9839 - val_loss: 0.1827 - val_accuracy: 0.9619\n",
            "Epoch 51/100\n",
            "44/44 [==============================] - 26s 594ms/step - loss: 0.0342 - accuracy: 0.9885 - val_loss: 0.2060 - val_accuracy: 0.9567\n",
            "Epoch 52/100\n",
            "44/44 [==============================] - 26s 594ms/step - loss: 0.0032 - accuracy: 0.9983 - val_loss: 0.3484 - val_accuracy: 0.9689\n",
            "Epoch 53/100\n",
            "44/44 [==============================] - 26s 594ms/step - loss: 0.0744 - accuracy: 0.9769 - val_loss: 0.2563 - val_accuracy: 0.9498\n",
            "Epoch 54/100\n",
            "44/44 [==============================] - 26s 594ms/step - loss: 0.0213 - accuracy: 0.9942 - val_loss: 0.3500 - val_accuracy: 0.9619\n",
            "Epoch 55/100\n",
            "44/44 [==============================] - 26s 594ms/step - loss: 0.0329 - accuracy: 0.9908 - val_loss: 0.3082 - val_accuracy: 0.9619\n",
            "Epoch 56/100\n",
            "44/44 [==============================] - 26s 594ms/step - loss: 0.0037 - accuracy: 0.9988 - val_loss: 0.5319 - val_accuracy: 0.9533\n",
            "Epoch 57/100\n",
            "44/44 [==============================] - 26s 593ms/step - loss: 0.0120 - accuracy: 0.9965 - val_loss: 0.5023 - val_accuracy: 0.9343\n",
            "Epoch 58/100\n",
            "44/44 [==============================] - 26s 593ms/step - loss: 0.0543 - accuracy: 0.9850 - val_loss: 0.2751 - val_accuracy: 0.9533\n",
            "Epoch 59/100\n",
            "44/44 [==============================] - 26s 593ms/step - loss: 0.0362 - accuracy: 0.9885 - val_loss: 0.1627 - val_accuracy: 0.9567\n",
            "Epoch 60/100\n",
            "44/44 [==============================] - 26s 594ms/step - loss: 0.0080 - accuracy: 0.9983 - val_loss: 0.2744 - val_accuracy: 0.9706\n",
            "Epoch 61/100\n",
            "44/44 [==============================] - 26s 594ms/step - loss: 1.1047e-04 - accuracy: 1.0000 - val_loss: 0.3628 - val_accuracy: 0.9689\n",
            "Epoch 62/100\n",
            "44/44 [==============================] - 26s 593ms/step - loss: 2.8926e-06 - accuracy: 1.0000 - val_loss: 0.3786 - val_accuracy: 0.9689\n",
            "Epoch 63/100\n",
            "44/44 [==============================] - 26s 593ms/step - loss: 1.4989e-06 - accuracy: 1.0000 - val_loss: 0.3898 - val_accuracy: 0.9689\n",
            "Epoch 64/100\n",
            "44/44 [==============================] - 26s 594ms/step - loss: 9.7508e-07 - accuracy: 1.0000 - val_loss: 0.3983 - val_accuracy: 0.9689\n",
            "Epoch 65/100\n",
            "44/44 [==============================] - 26s 594ms/step - loss: 7.1303e-07 - accuracy: 1.0000 - val_loss: 0.4051 - val_accuracy: 0.9689\n",
            "Epoch 66/100\n",
            "44/44 [==============================] - 26s 595ms/step - loss: 5.4949e-07 - accuracy: 1.0000 - val_loss: 0.4099 - val_accuracy: 0.9689\n",
            "Epoch 67/100\n",
            "44/44 [==============================] - 26s 594ms/step - loss: 4.4136e-07 - accuracy: 1.0000 - val_loss: 0.4148 - val_accuracy: 0.9671\n",
            "Epoch 68/100\n",
            "44/44 [==============================] - 26s 594ms/step - loss: 3.6649e-07 - accuracy: 1.0000 - val_loss: 0.4186 - val_accuracy: 0.9671\n",
            "Epoch 69/100\n",
            "44/44 [==============================] - 26s 593ms/step - loss: 3.1253e-07 - accuracy: 1.0000 - val_loss: 0.4222 - val_accuracy: 0.9671\n",
            "Epoch 70/100\n",
            "44/44 [==============================] - 26s 593ms/step - loss: 2.7073e-07 - accuracy: 1.0000 - val_loss: 0.4257 - val_accuracy: 0.9671\n",
            "Epoch 71/100\n",
            "44/44 [==============================] - 26s 594ms/step - loss: 2.3670e-07 - accuracy: 1.0000 - val_loss: 0.4288 - val_accuracy: 0.9671\n",
            "Epoch 72/100\n",
            "44/44 [==============================] - 26s 594ms/step - loss: 2.0899e-07 - accuracy: 1.0000 - val_loss: 0.4314 - val_accuracy: 0.9671\n",
            "Epoch 73/100\n",
            "44/44 [==============================] - 26s 594ms/step - loss: 1.8851e-07 - accuracy: 1.0000 - val_loss: 0.4341 - val_accuracy: 0.9671\n",
            "Epoch 74/100\n",
            "44/44 [==============================] - 26s 594ms/step - loss: 1.7063e-07 - accuracy: 1.0000 - val_loss: 0.4362 - val_accuracy: 0.9671\n",
            "Epoch 75/100\n",
            "44/44 [==============================] - 26s 594ms/step - loss: 1.5544e-07 - accuracy: 1.0000 - val_loss: 0.4388 - val_accuracy: 0.9671\n",
            "Epoch 76/100\n",
            "44/44 [==============================] - 26s 594ms/step - loss: 1.4141e-07 - accuracy: 1.0000 - val_loss: 0.4407 - val_accuracy: 0.9671\n",
            "Epoch 77/100\n",
            "44/44 [==============================] - 26s 593ms/step - loss: 1.3055e-07 - accuracy: 1.0000 - val_loss: 0.4429 - val_accuracy: 0.9671\n",
            "Epoch 78/100\n",
            "44/44 [==============================] - 26s 593ms/step - loss: 1.2065e-07 - accuracy: 1.0000 - val_loss: 0.4451 - val_accuracy: 0.9671\n",
            "Epoch 79/100\n",
            "44/44 [==============================] - 26s 593ms/step - loss: 1.1123e-07 - accuracy: 1.0000 - val_loss: 0.4471 - val_accuracy: 0.9671\n",
            "Epoch 80/100\n",
            "44/44 [==============================] - 26s 594ms/step - loss: 1.0360e-07 - accuracy: 1.0000 - val_loss: 0.4489 - val_accuracy: 0.9671\n",
            "Epoch 81/100\n",
            "44/44 [==============================] - 26s 594ms/step - loss: 9.6178e-08 - accuracy: 1.0000 - val_loss: 0.4505 - val_accuracy: 0.9671\n",
            "Epoch 82/100\n",
            "44/44 [==============================] - 26s 594ms/step - loss: 8.9991e-08 - accuracy: 1.0000 - val_loss: 0.4525 - val_accuracy: 0.9671\n",
            "Epoch 83/100\n",
            "44/44 [==============================] - 26s 594ms/step - loss: 8.4285e-08 - accuracy: 1.0000 - val_loss: 0.4543 - val_accuracy: 0.9671\n",
            "Epoch 84/100\n",
            "44/44 [==============================] - 26s 594ms/step - loss: 7.9266e-08 - accuracy: 1.0000 - val_loss: 0.4559 - val_accuracy: 0.9671\n",
            "Epoch 85/100\n",
            "44/44 [==============================] - 26s 595ms/step - loss: 7.5073e-08 - accuracy: 1.0000 - val_loss: 0.4573 - val_accuracy: 0.9671\n",
            "Epoch 86/100\n",
            "44/44 [==============================] - 26s 596ms/step - loss: 7.1017e-08 - accuracy: 1.0000 - val_loss: 0.4588 - val_accuracy: 0.9671\n",
            "Epoch 87/100\n",
            "44/44 [==============================] - 26s 594ms/step - loss: 6.6961e-08 - accuracy: 1.0000 - val_loss: 0.4602 - val_accuracy: 0.9671\n",
            "Epoch 88/100\n",
            "44/44 [==============================] - 26s 593ms/step - loss: 6.3248e-08 - accuracy: 1.0000 - val_loss: 0.4622 - val_accuracy: 0.9671\n",
            "Epoch 89/100\n",
            "44/44 [==============================] - 26s 593ms/step - loss: 6.0430e-08 - accuracy: 1.0000 - val_loss: 0.4635 - val_accuracy: 0.9671\n",
            "Epoch 90/100\n",
            "44/44 [==============================] - 26s 594ms/step - loss: 5.7198e-08 - accuracy: 1.0000 - val_loss: 0.4650 - val_accuracy: 0.9671\n",
            "Epoch 91/100\n",
            "44/44 [==============================] - 26s 595ms/step - loss: 5.4517e-08 - accuracy: 1.0000 - val_loss: 0.4663 - val_accuracy: 0.9671\n",
            "Epoch 92/100\n",
            "44/44 [==============================] - 26s 594ms/step - loss: 5.2180e-08 - accuracy: 1.0000 - val_loss: 0.4676 - val_accuracy: 0.9671\n",
            "Epoch 93/100\n",
            "44/44 [==============================] - 26s 593ms/step - loss: 4.9567e-08 - accuracy: 1.0000 - val_loss: 0.4691 - val_accuracy: 0.9671\n",
            "Epoch 94/100\n",
            "44/44 [==============================] - 26s 594ms/step - loss: 4.7780e-08 - accuracy: 1.0000 - val_loss: 0.4705 - val_accuracy: 0.9671\n",
            "Epoch 95/100\n",
            "44/44 [==============================] - 26s 594ms/step - loss: 4.5374e-08 - accuracy: 1.0000 - val_loss: 0.4715 - val_accuracy: 0.9671\n",
            "Epoch 96/100\n",
            "44/44 [==============================] - 26s 594ms/step - loss: 4.3586e-08 - accuracy: 1.0000 - val_loss: 0.4732 - val_accuracy: 0.9671\n",
            "Epoch 97/100\n",
            "44/44 [==============================] - 26s 594ms/step - loss: 4.1524e-08 - accuracy: 1.0000 - val_loss: 0.4746 - val_accuracy: 0.9671\n",
            "Epoch 98/100\n",
            "44/44 [==============================] - 26s 594ms/step - loss: 3.9736e-08 - accuracy: 1.0000 - val_loss: 0.4757 - val_accuracy: 0.9671\n",
            "Epoch 99/100\n",
            "44/44 [==============================] - 26s 593ms/step - loss: 3.8224e-08 - accuracy: 1.0000 - val_loss: 0.4770 - val_accuracy: 0.9671\n",
            "Epoch 100/100\n",
            "44/44 [==============================] - 26s 593ms/step - loss: 3.6643e-08 - accuracy: 1.0000 - val_loss: 0.4783 - val_accuracy: 0.9671\n"
          ]
        }
      ]
    },
    {
      "cell_type": "code",
      "source": [
        "# print(history)\n",
        "loss_train = history.history['accuracy']\n",
        "loss_val = history.history['val_accuracy']\n",
        "epochs = range(1,101)\n",
        "plt.plot(epochs, loss_train, 'g', label='Training accuracy')\n",
        "plt.plot(epochs, loss_val, 'b', label='validation accuracy')\n",
        "plt.title('Training and Validation accuracy')\n",
        "plt.xlabel('Epochs')\n",
        "plt.ylabel('Accuracy')\n",
        "plt.legend()\n",
        "plt.show()"
      ],
      "metadata": {
        "trusted": true,
        "id": "vjY8T0wgCTMg",
        "colab": {
          "base_uri": "https://localhost:8080/",
          "height": 295
        },
        "outputId": "9be9ae4b-9ec2-49ed-e3aa-6312bb17e309"
      },
      "execution_count": 21,
      "outputs": [
        {
          "output_type": "display_data",
          "data": {
            "text/plain": [
              "<Figure size 432x288 with 1 Axes>"
            ],
            "image/png": "[encoded data removed]"
          },
          "metadata": {}
        }
      ]
    },
    {
      "cell_type": "code",
      "source": [
        "print(\"Evaluate on test data\")\n",
        "results = model1.evaluate(x_test, y_test, batch_size=64)\n",
        "print(\"test loss, test acc:\", results)"
      ],
      "metadata": {
        "colab": {
          "base_uri": "https://localhost:8080/"
        },
        "id": "JeTamth62jIR",
        "outputId": "0b520182-eea3-4f85-b1cc-ae63ef5bc247"
      },
      "execution_count": 22,
      "outputs": [
        {
          "output_type": "stream",
          "name": "stdout",
          "text": [
            "Evaluate on test data\n",
            "10/10 [==============================] - 7s 336ms/step - loss: 0.6524 - accuracy: 0.9637\n",
            "test loss, test acc: [0.6523946523666382, 0.9637305736541748]\n"
          ]
        }
      ]
    },
    {
      "cell_type": "code",
      "source": [
        ""
      ],
      "metadata": {
        "id": "_w59pvKV50QX"
      },
      "execution_count": null,
      "outputs": []
    }
  ]
}