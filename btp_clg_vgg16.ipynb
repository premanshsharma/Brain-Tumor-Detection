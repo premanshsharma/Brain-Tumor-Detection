{
  "metadata": {
    "kernelspec": {
      "language": "python",
      "display_name": "Python 3",
      "name": "python3"
    },
    "language_info": {
      "name": "python",
      "version": "3.7.12",
      "mimetype": "text/x-python",
      "codemirror_mode": {
        "name": "ipython",
        "version": 3
      },
      "pygments_lexer": "ipython3",
      "nbconvert_exporter": "python",
      "file_extension": ".py"
    },
    "colab": {
      "name": "btp-clg vgg16.ipynb",
      "provenance": [],
      "include_colab_link": true
    },
    "accelerator": "GPU",
    "gpuClass": "standard"
  },
  "nbformat_minor": 0,
  "nbformat": 4,
  "cells": [
    {
      "cell_type": "markdown",
      "metadata": {
        "id": "view-in-github",
        "colab_type": "text"
      },
      "source": [
        "<a href=\"https://colab.research.google.com/github/premanshsharma/Brain-Tumor-Detection/blob/main/btp_clg_vgg16.ipynb\" target=\"_parent\"><img src=\"https://colab.research.google.com/assets/colab-badge.svg\" alt=\"Open In Colab\"/></a>"
      ]
    },
    {
      "cell_type": "code",
      "source": [
        "import os\n",
        "import keras \n",
        "from keras.models import Sequential\n",
        "from keras.layers import Dropout, BatchNormalization, Dense, Conv2D, MaxPool2D , Flatten\n",
        "from keras.preprocessing.image import ImageDataGenerator\n",
        "from PIL import Image\n",
        "import numpy as np\n",
        "import pandas as pd\n",
        "import matplotlib.pyplot as plt\n",
        "from sklearn.model_selection import train_test_split\n",
        "from sklearn.preprocessing import OneHotEncoder \n",
        "import tensorflow as tf\n",
        "plt.style.use('dark_background')\n"
      ],
      "metadata": {
        "_uuid": "8f2839f25d086af736a60e9eeb907d3b93b6e0e5",
        "_cell_guid": "b1076dfc-b9ad-4769-8c92-a6c4dae69d19",
        "trusted": true,
        "id": "BCAPzQmXCTMY"
      },
      "execution_count": 3,
      "outputs": []
    },
    {
      "cell_type": "code",
      "source": [
        "from google.colab import drive\n",
        "drive.mount('/content/gdrive')"
      ],
      "metadata": {
        "colab": {
          "base_uri": "https://localhost:8080/"
        },
        "id": "57FoYU-82dug",
        "outputId": "6aa6344e-a33d-4fb6-a275-4741fecf2236"
      },
      "execution_count": 4,
      "outputs": [
        {
          "output_type": "stream",
          "name": "stdout",
          "text": [
            "Mounted at /content/gdrive\n"
          ]
        }
      ]
    },
    {
      "cell_type": "code",
      "source": [
        "encoder = OneHotEncoder()\n",
        "encoder.fit([[0], [1]]) \n",
        "\n",
        "\n",
        "# 0 - Tumor\n",
        "# 1 - Normal\n",
        "# This cell updates result list for images with tumor\n",
        "\n",
        "data = []\n",
        "paths = []\n",
        "result = []\n",
        "\n",
        "for r, d, f in os.walk(r'/content/gdrive/MyDrive/Brain Tumor Detection/BRAIN_MRI_IMAGE_DATA_SET/data sets/yes'):\n",
        "    for file in f:\n",
        "        if '.jpg' in file:\n",
        "            paths.append(os.path.join(r, file))\n",
        "\n",
        "for path in paths:\n",
        "    img = Image.open(path)\n",
        "    img = img.resize((224,224))\n",
        "    img = np.array(img)\n",
        "    if(img.shape == (224,224,3)):\n",
        "        data.append(np.array(img))\n",
        "        result.append(encoder.transform([[0]]).toarray())\n",
        "paths = []\n",
        "\n",
        "for r, d, f in os.walk(r'/content/gdrive/MyDrive/Brain Tumor Detection/BRAIN_MRI_IMAGE_DATA_SET/data sets/no'):\n",
        "    for file in f:\n",
        "        if '.jpg' in file:\n",
        "            paths.append(os.path.join(r, file))\n",
        "\n",
        "for path in paths:\n",
        "    img = Image.open(path)\n",
        "    img = img.resize((224,224))\n",
        "    img = np.array(img)\n",
        "    if(img.shape == (224,224,3)):\n",
        "        data.append(np.array(img))\n",
        "        result.append(encoder.transform([[1]]).toarray())"
      ],
      "metadata": {
        "trusted": true,
        "id": "SPDkC9aBCTMa"
      },
      "execution_count": 5,
      "outputs": []
    },
    {
      "cell_type": "code",
      "source": [
        "data = np.array(data)\n",
        "data.shape"
      ],
      "metadata": {
        "trusted": true,
        "id": "q9f_PfzkCTMb",
        "colab": {
          "base_uri": "https://localhost:8080/"
        },
        "outputId": "1db8a44f-bf29-42af-f2f6-291c1fa0fe28"
      },
      "execution_count": 6,
      "outputs": [
        {
          "output_type": "execute_result",
          "data": {
            "text/plain": [
              "(2891, 224, 224, 3)"
            ]
          },
          "metadata": {},
          "execution_count": 6
        }
      ]
    },
    {
      "cell_type": "code",
      "source": [
        "result = np.array(result)\n",
        "result = result.reshape(2891,2)"
      ],
      "metadata": {
        "id": "abUknXZxHpLv"
      },
      "execution_count": 7,
      "outputs": []
    },
    {
      "cell_type": "code",
      "source": [
        "x_train, x_test, y_train, y_test = train_test_split(data, result, test_size=0.2, shuffle = True, random_state = 8)\n",
        "\n",
        "x_train, x_val, y_train, y_val = train_test_split(x_train, y_train, test_size=0.25, random_state= 8)"
      ],
      "metadata": {
        "trusted": true,
        "id": "nxeCda-QCTMb"
      },
      "execution_count": 8,
      "outputs": []
    },
    {
      "cell_type": "code",
      "source": [
        "model1 = Sequential()\n",
        "model1.add(Conv2D(input_shape=(224,224,3),filters=64,kernel_size=(3,3),padding=\"same\", activation=\"relu\"))\n",
        "model1.add(Conv2D(filters=64,kernel_size=(3,3),padding=\"same\", activation=\"relu\"))\n",
        "model1.add(MaxPool2D(pool_size=(2,2),strides=(2,2)))\n",
        "\n",
        "model1.add(Conv2D(filters=128, kernel_size=(3,3), padding=\"same\", activation=\"relu\"))\n",
        "model1.add(Conv2D(filters=128, kernel_size=(3,3), padding=\"same\", activation=\"relu\"))\n",
        "model1.add(MaxPool2D(pool_size=(2,2),strides=(2,2)))\n",
        "\n",
        "model1.add(Conv2D(filters=256, kernel_size=(3,3), padding=\"same\", activation=\"relu\"))\n",
        "model1.add(Conv2D(filters=256, kernel_size=(3,3), padding=\"same\", activation=\"relu\"))\n",
        "model1.add(Conv2D(filters=256, kernel_size=(3,3), padding=\"same\", activation=\"relu\"))\n",
        "model1.add(MaxPool2D(pool_size=(2,2),strides=(2,2)))\n",
        "\n",
        "model1.add(Conv2D(filters=512, kernel_size=(3,3), padding=\"same\", activation=\"relu\"))\n",
        "model1.add(Conv2D(filters=512, kernel_size=(3,3), padding=\"same\", activation=\"relu\"))\n",
        "model1.add(Conv2D(filters=512, kernel_size=(3,3), padding=\"same\", activation=\"relu\"))\n",
        "model1.add(MaxPool2D(pool_size=(2,2),strides=(2,2)))\n",
        "\n",
        "model1.add(Conv2D(filters=512, kernel_size=(3,3), padding=\"same\", activation=\"relu\"))\n",
        "model1.add(Conv2D(filters=512, kernel_size=(3,3), padding=\"same\", activation=\"relu\"))\n",
        "model1.add(Conv2D(filters=512, kernel_size=(3,3), padding=\"same\", activation=\"relu\"))\n",
        "model1.add(MaxPool2D(pool_size=(2,2),strides=(2,2)))\n",
        "\n",
        "model1.add(Flatten())\n",
        "model1.add(Dense(units=4096,activation=\"relu\"))\n",
        "model1.add(Dense(units=4096,activation=\"relu\"))\n",
        "model1.add(Dense(units=2, activation=\"softmax\"))\n",
        "\n",
        "from tensorflow.keras.optimizers import Adam \n",
        "opt = Adam(lr=0.001)\n",
        "model1.compile(optimizer=opt, loss=keras.losses.categorical_crossentropy, metrics=['accuracy'])\n",
        "# model.summary()"
      ],
      "metadata": {
        "id": "3MY1eQzrCTMh",
        "outputId": "2e23613c-de67-4523-ac26-d1466a285b4f",
        "colab": {
          "base_uri": "https://localhost:8080/"
        }
      },
      "execution_count": 9,
      "outputs": [
        {
          "output_type": "stream",
          "name": "stderr",
          "text": [
            "/usr/local/lib/python3.7/dist-packages/keras/optimizer_v2/adam.py:105: UserWarning: The `lr` argument is deprecated, use `learning_rate` instead.\n",
            "  super(Adam, self).__init__(name, **kwargs)\n"
          ]
        }
      ]
    },
    {
      "cell_type": "code",
      "source": [
        "model2 = Sequential()\n",
        "model2.add(Conv2D(input_shape=(224,224,3),filters=64,kernel_size=(3,3),padding=\"same\", activation=\"relu\"))\n",
        "model2.add(Conv2D(filters=64,kernel_size=(3,3),padding=\"same\", activation=\"relu\"))\n",
        "model2.add(Conv2D(filters=64,kernel_size=(3,3),padding=\"same\", activation=\"relu\"))\n",
        "model2.add(MaxPool2D(pool_size=(2,2), strides= (2,2)))\n",
        "\n",
        "model2.add(Conv2D(filters=128, kernel_size=(3,3), padding=\"same\", activation=\"relu\"))\n",
        "model2.add(Conv2D(filters=128, kernel_size=(3,3), padding=\"same\", activation=\"relu\"))\n",
        "model2.add(MaxPool2D(pool_size=(2,2),strides=(2,2)))\n",
        "\n",
        "model2.add(Conv2D(filters=256, kernel_size=(3,3), padding=\"same\", activation=\"relu\"))\n",
        "model2.add(Conv2D(filters=256, kernel_size=(3,3), padding=\"same\", activation=\"relu\"))\n",
        "model2.add(Conv2D(filters=256, kernel_size=(3,3), padding=\"same\", activation=\"relu\"))\n",
        "model2.add(Conv2D(filters=256, kernel_size=(3,3), padding=\"same\", activation=\"relu\"))\n",
        "model2.add(MaxPool2D(pool_size=(2,2),strides=(2,2)))\n",
        "\n",
        "model2.add(Conv2D(filters=512, kernel_size=(3,3), padding=\"same\", activation=\"relu\"))\n",
        "model2.add(Conv2D(filters=512, kernel_size=(3,3), padding=\"same\", activation=\"relu\"))\n",
        "model2.add(Conv2D(filters=512, kernel_size=(3,3), padding=\"same\", activation=\"relu\"))\n",
        "model2.add(Conv2D(filters=512, kernel_size=(3,3), padding=\"same\", activation=\"relu\"))\n",
        "model2.add(MaxPool2D(pool_size=(2,2),strides=(2,2)))\n",
        "\n",
        "model2.add(Conv2D(filters=512, kernel_size=(3,3), padding=\"same\", activation=\"relu\"))\n",
        "model2.add(Conv2D(filters=512, kernel_size=(3,3), padding=\"same\", activation=\"relu\"))\n",
        "model2.add(Conv2D(filters=512, kernel_size=(3,3), padding=\"same\", activation=\"relu\"))\n",
        "model2.add(Conv2D(filters=512, kernel_size=(3,3), padding=\"same\", activation=\"relu\"))\n",
        "model2.add(MaxPool2D(pool_size=(2,2),strides=(2,2)))\n",
        "from keras.models import Sequential\n",
        "model2.add(Flatten())\n",
        "model2.add(Dense(units=4096,activation=\"relu\"))\n",
        "model2.add(Dropout(0.5))\n",
        "model2.add(Dense(4096, activation= 'relu'))\n",
        "model2.add(Dense(1000, activation= 'relu'))\n",
        "model2.add(Dense(2, activation='softmax'))\n",
        "from tensorflow.keras.optimizers import Adam \n",
        "opt = Adam(lr=0.001)\n",
        "model2.compile(loss='binary_crossentropy', optimizer=Adam(lr=0.001), metrics=['accuracy'])"
      ],
      "metadata": {
        "id": "EO2b8UIPA7Lx",
        "outputId": "8e1ce4a0-71ad-4b41-ebde-42e62d008a59",
        "colab": {
          "base_uri": "https://localhost:8080/"
        }
      },
      "execution_count": 10,
      "outputs": [
        {
          "output_type": "stream",
          "name": "stderr",
          "text": [
            "/usr/local/lib/python3.7/dist-packages/keras/optimizer_v2/adam.py:105: UserWarning: The `lr` argument is deprecated, use `learning_rate` instead.\n",
            "  super(Adam, self).__init__(name, **kwargs)\n"
          ]
        }
      ]
    },
    {
      "cell_type": "code",
      "source": [
        "y_train.shape"
      ],
      "metadata": {
        "trusted": true,
        "id": "2jr6WYMlCTMd",
        "colab": {
          "base_uri": "https://localhost:8080/"
        },
        "outputId": "8b994f46-c040-4cdf-a257-c2cd20cc5cbd"
      },
      "execution_count": 11,
      "outputs": [
        {
          "output_type": "execute_result",
          "data": {
            "text/plain": [
              "(1734, 2)"
            ]
          },
          "metadata": {},
          "execution_count": 11
        }
      ]
    },
    {
      "cell_type": "code",
      "source": [
        "history1 = model1.fit(x_train, y_train, epochs = 100, batch_size = 40, validation_data = (x_val, y_val))"
      ],
      "metadata": {
        "trusted": true,
        "id": "MJuwLt2pCTMe",
        "colab": {
          "base_uri": "https://localhost:8080/"
        },
        "outputId": "c6243cdd-cafc-43bd-fa16-d469756d4769"
      },
      "execution_count": 12,
      "outputs": [
        {
          "output_type": "stream",
          "name": "stdout",
          "text": [
            "Epoch 1/100\n",
            "44/44 [==============================] - 50s 705ms/step - loss: 68.5076 - accuracy: 0.5311 - val_loss: 0.9186 - val_accuracy: 0.5017\n",
            "Epoch 2/100\n",
            "44/44 [==============================] - 26s 587ms/step - loss: 0.7036 - accuracy: 0.5363 - val_loss: 0.6950 - val_accuracy: 0.5087\n",
            "Epoch 3/100\n",
            "44/44 [==============================] - 26s 598ms/step - loss: 0.6955 - accuracy: 0.5017 - val_loss: 0.6876 - val_accuracy: 0.5554\n",
            "Epoch 4/100\n",
            "44/44 [==============================] - 27s 605ms/step - loss: 0.8214 - accuracy: 0.5525 - val_loss: 0.6976 - val_accuracy: 0.4913\n",
            "Epoch 5/100\n",
            "44/44 [==============================] - 27s 614ms/step - loss: 0.6881 - accuracy: 0.6107 - val_loss: 0.6097 - val_accuracy: 0.6886\n",
            "Epoch 6/100\n",
            "44/44 [==============================] - 27s 620ms/step - loss: 0.5418 - accuracy: 0.7255 - val_loss: 0.5305 - val_accuracy: 0.7353\n",
            "Epoch 7/100\n",
            "44/44 [==============================] - 27s 615ms/step - loss: 0.5136 - accuracy: 0.7474 - val_loss: 0.5471 - val_accuracy: 0.7336\n",
            "Epoch 8/100\n",
            "44/44 [==============================] - 27s 616ms/step - loss: 0.4875 - accuracy: 0.7601 - val_loss: 0.4476 - val_accuracy: 0.7872\n",
            "Epoch 9/100\n",
            "44/44 [==============================] - 27s 618ms/step - loss: 0.4282 - accuracy: 0.7993 - val_loss: 0.3989 - val_accuracy: 0.7993\n",
            "Epoch 10/100\n",
            "44/44 [==============================] - 27s 617ms/step - loss: 0.3988 - accuracy: 0.8235 - val_loss: 0.3931 - val_accuracy: 0.8201\n",
            "Epoch 11/100\n",
            "44/44 [==============================] - 27s 617ms/step - loss: 0.4043 - accuracy: 0.8183 - val_loss: 0.3841 - val_accuracy: 0.8080\n",
            "Epoch 12/100\n",
            "44/44 [==============================] - 27s 619ms/step - loss: 0.3304 - accuracy: 0.8524 - val_loss: 0.4583 - val_accuracy: 0.8166\n",
            "Epoch 13/100\n",
            "44/44 [==============================] - 27s 618ms/step - loss: 0.2542 - accuracy: 0.8835 - val_loss: 0.3168 - val_accuracy: 0.8858\n",
            "Epoch 14/100\n",
            "44/44 [==============================] - 27s 619ms/step - loss: 0.2519 - accuracy: 0.9020 - val_loss: 0.3105 - val_accuracy: 0.8737\n",
            "Epoch 15/100\n",
            "44/44 [==============================] - 27s 618ms/step - loss: 0.2040 - accuracy: 0.9198 - val_loss: 0.2985 - val_accuracy: 0.8910\n",
            "Epoch 16/100\n",
            "44/44 [==============================] - 27s 618ms/step - loss: 0.2804 - accuracy: 0.8962 - val_loss: 0.2293 - val_accuracy: 0.9118\n",
            "Epoch 17/100\n",
            "44/44 [==============================] - 27s 620ms/step - loss: 0.1551 - accuracy: 0.9487 - val_loss: 0.2258 - val_accuracy: 0.9498\n",
            "Epoch 18/100\n",
            "44/44 [==============================] - 27s 617ms/step - loss: 0.1287 - accuracy: 0.9562 - val_loss: 0.2216 - val_accuracy: 0.9308\n",
            "Epoch 19/100\n",
            "44/44 [==============================] - 27s 617ms/step - loss: 0.1125 - accuracy: 0.9585 - val_loss: 0.2415 - val_accuracy: 0.9239\n",
            "Epoch 20/100\n",
            "44/44 [==============================] - 27s 620ms/step - loss: 0.1173 - accuracy: 0.9596 - val_loss: 0.1943 - val_accuracy: 0.9446\n",
            "Epoch 21/100\n",
            "44/44 [==============================] - 27s 619ms/step - loss: 0.0765 - accuracy: 0.9746 - val_loss: 0.3074 - val_accuracy: 0.9273\n",
            "Epoch 22/100\n",
            "44/44 [==============================] - 27s 616ms/step - loss: 0.0647 - accuracy: 0.9758 - val_loss: 0.1899 - val_accuracy: 0.9394\n",
            "Epoch 23/100\n",
            "44/44 [==============================] - 29s 670ms/step - loss: 0.0771 - accuracy: 0.9706 - val_loss: 0.2283 - val_accuracy: 0.9343\n",
            "Epoch 24/100\n",
            "44/44 [==============================] - 27s 616ms/step - loss: 0.1011 - accuracy: 0.9585 - val_loss: 0.1839 - val_accuracy: 0.9446\n",
            "Epoch 25/100\n",
            "44/44 [==============================] - 27s 619ms/step - loss: 0.0539 - accuracy: 0.9815 - val_loss: 0.2470 - val_accuracy: 0.9464\n",
            "Epoch 26/100\n",
            "44/44 [==============================] - 27s 619ms/step - loss: 0.0242 - accuracy: 0.9902 - val_loss: 0.3214 - val_accuracy: 0.9533\n",
            "Epoch 27/100\n",
            "44/44 [==============================] - 27s 616ms/step - loss: 0.0533 - accuracy: 0.9839 - val_loss: 0.2800 - val_accuracy: 0.9464\n",
            "Epoch 28/100\n",
            "44/44 [==============================] - 27s 618ms/step - loss: 0.0675 - accuracy: 0.9781 - val_loss: 0.2390 - val_accuracy: 0.9377\n",
            "Epoch 29/100\n",
            "44/44 [==============================] - 27s 620ms/step - loss: 0.0998 - accuracy: 0.9666 - val_loss: 0.2046 - val_accuracy: 0.9637\n",
            "Epoch 30/100\n",
            "44/44 [==============================] - 27s 617ms/step - loss: 0.0519 - accuracy: 0.9879 - val_loss: 0.3329 - val_accuracy: 0.9619\n",
            "Epoch 31/100\n",
            "44/44 [==============================] - 27s 617ms/step - loss: 0.0288 - accuracy: 0.9896 - val_loss: 0.3692 - val_accuracy: 0.9394\n",
            "Epoch 32/100\n",
            "44/44 [==============================] - 27s 619ms/step - loss: 0.0566 - accuracy: 0.9827 - val_loss: 0.2119 - val_accuracy: 0.9585\n",
            "Epoch 33/100\n",
            "44/44 [==============================] - 27s 616ms/step - loss: 0.0446 - accuracy: 0.9862 - val_loss: 0.2146 - val_accuracy: 0.9637\n",
            "Epoch 34/100\n",
            "44/44 [==============================] - 27s 616ms/step - loss: 0.0262 - accuracy: 0.9908 - val_loss: 0.3249 - val_accuracy: 0.9446\n",
            "Epoch 35/100\n",
            "44/44 [==============================] - 27s 618ms/step - loss: 0.0494 - accuracy: 0.9913 - val_loss: 0.5063 - val_accuracy: 0.8979\n",
            "Epoch 36/100\n",
            "44/44 [==============================] - 27s 616ms/step - loss: 0.0849 - accuracy: 0.9666 - val_loss: 0.4223 - val_accuracy: 0.9446\n",
            "Epoch 37/100\n",
            "44/44 [==============================] - 27s 619ms/step - loss: 0.1018 - accuracy: 0.9654 - val_loss: 0.3105 - val_accuracy: 0.8893\n",
            "Epoch 38/100\n",
            "44/44 [==============================] - 27s 617ms/step - loss: 0.0688 - accuracy: 0.9758 - val_loss: 0.2925 - val_accuracy: 0.9481\n",
            "Epoch 39/100\n",
            "44/44 [==============================] - 27s 615ms/step - loss: 0.0291 - accuracy: 0.9896 - val_loss: 0.6155 - val_accuracy: 0.9239\n",
            "Epoch 40/100\n",
            "44/44 [==============================] - 27s 619ms/step - loss: 0.0754 - accuracy: 0.9781 - val_loss: 0.2442 - val_accuracy: 0.9429\n",
            "Epoch 41/100\n",
            "44/44 [==============================] - 27s 619ms/step - loss: 0.0491 - accuracy: 0.9862 - val_loss: 0.3327 - val_accuracy: 0.9533\n",
            "Epoch 42/100\n",
            "44/44 [==============================] - 27s 615ms/step - loss: 0.0206 - accuracy: 0.9937 - val_loss: 0.3622 - val_accuracy: 0.9429\n",
            "Epoch 43/100\n",
            "44/44 [==============================] - 27s 618ms/step - loss: 0.0119 - accuracy: 0.9960 - val_loss: 0.3122 - val_accuracy: 0.9654\n",
            "Epoch 44/100\n",
            "44/44 [==============================] - 27s 617ms/step - loss: 8.0602e-04 - accuracy: 1.0000 - val_loss: 0.3651 - val_accuracy: 0.9654\n",
            "Epoch 45/100\n",
            "44/44 [==============================] - 27s 617ms/step - loss: 8.9611e-05 - accuracy: 1.0000 - val_loss: 0.3838 - val_accuracy: 0.9671\n",
            "Epoch 46/100\n",
            "44/44 [==============================] - 27s 619ms/step - loss: 2.9703e-05 - accuracy: 1.0000 - val_loss: 0.3951 - val_accuracy: 0.9654\n",
            "Epoch 47/100\n",
            "44/44 [==============================] - 27s 616ms/step - loss: 1.9961e-05 - accuracy: 1.0000 - val_loss: 0.4039 - val_accuracy: 0.9654\n",
            "Epoch 48/100\n",
            "44/44 [==============================] - 27s 616ms/step - loss: 1.5176e-05 - accuracy: 1.0000 - val_loss: 0.4108 - val_accuracy: 0.9654\n",
            "Epoch 49/100\n",
            "44/44 [==============================] - 27s 619ms/step - loss: 1.2290e-05 - accuracy: 1.0000 - val_loss: 0.4188 - val_accuracy: 0.9654\n",
            "Epoch 50/100\n",
            "44/44 [==============================] - 27s 617ms/step - loss: 9.9771e-06 - accuracy: 1.0000 - val_loss: 0.4250 - val_accuracy: 0.9654\n",
            "Epoch 51/100\n",
            "44/44 [==============================] - 27s 616ms/step - loss: 8.3419e-06 - accuracy: 1.0000 - val_loss: 0.4314 - val_accuracy: 0.9654\n",
            "Epoch 52/100\n",
            "44/44 [==============================] - 27s 618ms/step - loss: 7.0806e-06 - accuracy: 1.0000 - val_loss: 0.4364 - val_accuracy: 0.9654\n",
            "Epoch 53/100\n",
            "44/44 [==============================] - 27s 617ms/step - loss: 6.1147e-06 - accuracy: 1.0000 - val_loss: 0.4419 - val_accuracy: 0.9654\n",
            "Epoch 54/100\n",
            "44/44 [==============================] - 27s 617ms/step - loss: 5.3198e-06 - accuracy: 1.0000 - val_loss: 0.4466 - val_accuracy: 0.9654\n",
            "Epoch 55/100\n",
            "44/44 [==============================] - 27s 618ms/step - loss: 4.6741e-06 - accuracy: 1.0000 - val_loss: 0.4515 - val_accuracy: 0.9654\n",
            "Epoch 56/100\n",
            "44/44 [==============================] - 27s 617ms/step - loss: 4.1284e-06 - accuracy: 1.0000 - val_loss: 0.4560 - val_accuracy: 0.9654\n",
            "Epoch 57/100\n",
            "44/44 [==============================] - 27s 616ms/step - loss: 3.6671e-06 - accuracy: 1.0000 - val_loss: 0.4604 - val_accuracy: 0.9654\n",
            "Epoch 58/100\n",
            "44/44 [==============================] - 27s 617ms/step - loss: 3.2619e-06 - accuracy: 1.0000 - val_loss: 0.4649 - val_accuracy: 0.9654\n",
            "Epoch 59/100\n",
            "44/44 [==============================] - 27s 616ms/step - loss: 2.9452e-06 - accuracy: 1.0000 - val_loss: 0.4691 - val_accuracy: 0.9654\n",
            "Epoch 60/100\n",
            "44/44 [==============================] - 27s 618ms/step - loss: 2.6553e-06 - accuracy: 1.0000 - val_loss: 0.4729 - val_accuracy: 0.9654\n",
            "Epoch 61/100\n",
            "44/44 [==============================] - 27s 617ms/step - loss: 2.4013e-06 - accuracy: 1.0000 - val_loss: 0.4765 - val_accuracy: 0.9654\n",
            "Epoch 62/100\n",
            "44/44 [==============================] - 27s 616ms/step - loss: 2.1843e-06 - accuracy: 1.0000 - val_loss: 0.4806 - val_accuracy: 0.9654\n",
            "Epoch 63/100\n",
            "44/44 [==============================] - 27s 618ms/step - loss: 1.9873e-06 - accuracy: 1.0000 - val_loss: 0.4840 - val_accuracy: 0.9654\n",
            "Epoch 64/100\n",
            "44/44 [==============================] - 27s 617ms/step - loss: 1.8204e-06 - accuracy: 1.0000 - val_loss: 0.4874 - val_accuracy: 0.9654\n",
            "Epoch 65/100\n",
            "44/44 [==============================] - 27s 615ms/step - loss: 1.6724e-06 - accuracy: 1.0000 - val_loss: 0.4909 - val_accuracy: 0.9654\n",
            "Epoch 66/100\n",
            "44/44 [==============================] - 27s 618ms/step - loss: 1.5290e-06 - accuracy: 1.0000 - val_loss: 0.4938 - val_accuracy: 0.9654\n",
            "Epoch 67/100\n",
            "44/44 [==============================] - 27s 617ms/step - loss: 1.3984e-06 - accuracy: 1.0000 - val_loss: 0.4965 - val_accuracy: 0.9654\n",
            "Epoch 68/100\n",
            "44/44 [==============================] - 27s 615ms/step - loss: 1.2990e-06 - accuracy: 1.0000 - val_loss: 0.4998 - val_accuracy: 0.9654\n",
            "Epoch 69/100\n",
            "44/44 [==============================] - 27s 618ms/step - loss: 1.2025e-06 - accuracy: 1.0000 - val_loss: 0.5029 - val_accuracy: 0.9654\n",
            "Epoch 70/100\n",
            "44/44 [==============================] - 27s 617ms/step - loss: 1.1152e-06 - accuracy: 1.0000 - val_loss: 0.5057 - val_accuracy: 0.9654\n",
            "Epoch 71/100\n",
            "44/44 [==============================] - 27s 616ms/step - loss: 1.0403e-06 - accuracy: 1.0000 - val_loss: 0.5084 - val_accuracy: 0.9654\n",
            "Epoch 72/100\n",
            "44/44 [==============================] - 27s 618ms/step - loss: 9.7125e-07 - accuracy: 1.0000 - val_loss: 0.5110 - val_accuracy: 0.9654\n",
            "Epoch 73/100\n",
            "44/44 [==============================] - 27s 617ms/step - loss: 9.0642e-07 - accuracy: 1.0000 - val_loss: 0.5138 - val_accuracy: 0.9654\n",
            "Epoch 74/100\n",
            "44/44 [==============================] - 27s 617ms/step - loss: 8.4538e-07 - accuracy: 1.0000 - val_loss: 0.5164 - val_accuracy: 0.9654\n",
            "Epoch 75/100\n",
            "44/44 [==============================] - 27s 618ms/step - loss: 7.9079e-07 - accuracy: 1.0000 - val_loss: 0.5191 - val_accuracy: 0.9654\n",
            "Epoch 76/100\n",
            "44/44 [==============================] - 27s 616ms/step - loss: 7.4082e-07 - accuracy: 1.0000 - val_loss: 0.5216 - val_accuracy: 0.9654\n",
            "Epoch 77/100\n",
            "44/44 [==============================] - 27s 617ms/step - loss: 6.9434e-07 - accuracy: 1.0000 - val_loss: 0.5240 - val_accuracy: 0.9654\n",
            "Epoch 78/100\n",
            "44/44 [==============================] - 27s 618ms/step - loss: 6.5021e-07 - accuracy: 1.0000 - val_loss: 0.5269 - val_accuracy: 0.9654\n",
            "Epoch 79/100\n",
            "44/44 [==============================] - 27s 618ms/step - loss: 6.0257e-07 - accuracy: 1.0000 - val_loss: 0.5297 - val_accuracy: 0.9654\n",
            "Epoch 80/100\n",
            "44/44 [==============================] - 27s 618ms/step - loss: 5.5465e-07 - accuracy: 1.0000 - val_loss: 0.5330 - val_accuracy: 0.9654\n",
            "Epoch 81/100\n",
            "44/44 [==============================] - 27s 618ms/step - loss: 5.0268e-07 - accuracy: 1.0000 - val_loss: 0.5371 - val_accuracy: 0.9654\n",
            "Epoch 82/100\n",
            "44/44 [==============================] - 27s 616ms/step - loss: 4.3476e-07 - accuracy: 1.0000 - val_loss: 0.5424 - val_accuracy: 0.9654\n",
            "Epoch 83/100\n",
            "44/44 [==============================] - 27s 618ms/step - loss: 3.6099e-07 - accuracy: 1.0000 - val_loss: 0.5481 - val_accuracy: 0.9654\n",
            "Epoch 84/100\n",
            "44/44 [==============================] - 27s 617ms/step - loss: 2.9747e-07 - accuracy: 1.0000 - val_loss: 0.5562 - val_accuracy: 0.9654\n",
            "Epoch 85/100\n",
            "44/44 [==============================] - 27s 618ms/step - loss: 2.4701e-07 - accuracy: 1.0000 - val_loss: 0.5632 - val_accuracy: 0.9654\n",
            "Epoch 86/100\n",
            "44/44 [==============================] - 27s 617ms/step - loss: 2.0666e-07 - accuracy: 1.0000 - val_loss: 0.5710 - val_accuracy: 0.9654\n",
            "Epoch 87/100\n",
            "44/44 [==============================] - 27s 618ms/step - loss: 1.7201e-07 - accuracy: 1.0000 - val_loss: 0.5798 - val_accuracy: 0.9654\n",
            "Epoch 88/100\n",
            "44/44 [==============================] - 27s 616ms/step - loss: 1.4251e-07 - accuracy: 1.0000 - val_loss: 0.5889 - val_accuracy: 0.9654\n",
            "Epoch 89/100\n",
            "44/44 [==============================] - 27s 618ms/step - loss: 1.2072e-07 - accuracy: 1.0000 - val_loss: 0.5980 - val_accuracy: 0.9671\n",
            "Epoch 90/100\n",
            "44/44 [==============================] - 27s 617ms/step - loss: 1.0560e-07 - accuracy: 1.0000 - val_loss: 0.6044 - val_accuracy: 0.9671\n",
            "Epoch 91/100\n",
            "44/44 [==============================] - 27s 617ms/step - loss: 9.1710e-08 - accuracy: 1.0000 - val_loss: 0.6090 - val_accuracy: 0.9671\n",
            "Epoch 92/100\n",
            "44/44 [==============================] - 27s 617ms/step - loss: 8.2085e-08 - accuracy: 1.0000 - val_loss: 0.6141 - val_accuracy: 0.9671\n",
            "Epoch 93/100\n",
            "44/44 [==============================] - 27s 616ms/step - loss: 7.3010e-08 - accuracy: 1.0000 - val_loss: 0.6201 - val_accuracy: 0.9671\n",
            "Epoch 94/100\n",
            "44/44 [==============================] - 27s 616ms/step - loss: 6.7098e-08 - accuracy: 1.0000 - val_loss: 0.6248 - val_accuracy: 0.9671\n",
            "Epoch 95/100\n",
            "44/44 [==============================] - 27s 618ms/step - loss: 6.0567e-08 - accuracy: 1.0000 - val_loss: 0.6315 - val_accuracy: 0.9671\n",
            "Epoch 96/100\n",
            "44/44 [==============================] - 27s 617ms/step - loss: 5.5823e-08 - accuracy: 1.0000 - val_loss: 0.6343 - val_accuracy: 0.9671\n",
            "Epoch 97/100\n",
            "44/44 [==============================] - 27s 617ms/step - loss: 5.2042e-08 - accuracy: 1.0000 - val_loss: 0.6376 - val_accuracy: 0.9671\n",
            "Epoch 98/100\n",
            "44/44 [==============================] - 27s 618ms/step - loss: 4.8261e-08 - accuracy: 1.0000 - val_loss: 0.6407 - val_accuracy: 0.9671\n",
            "Epoch 99/100\n",
            "44/44 [==============================] - 27s 616ms/step - loss: 4.5167e-08 - accuracy: 1.0000 - val_loss: 0.6439 - val_accuracy: 0.9671\n",
            "Epoch 100/100\n",
            "44/44 [==============================] - 27s 617ms/step - loss: 4.2555e-08 - accuracy: 1.0000 - val_loss: 0.6461 - val_accuracy: 0.9654\n"
          ]
        }
      ]
    },
    {
      "cell_type": "code",
      "source": [
        "# print(history)\n",
        "loss_train1 = history1.history['accuracy']\n",
        "loss_val1 = history1.history['val_accuracy']\n",
        "epochs = range(1,101)\n",
        "plt.plot(epochs, loss_train1, 'g', label='Training accuracy')\n",
        "plt.plot(epochs, loss_val1, 'b', label='validation accuracy')\n",
        "plt.title('Training and Validation accuracy')\n",
        "plt.xlabel('Epochs')\n",
        "plt.ylabel('Accuracy')\n",
        "plt.legend()\n",
        "plt.show()"
      ],
      "metadata": {
        "trusted": true,
        "id": "vjY8T0wgCTMg",
        "colab": {
          "base_uri": "https://localhost:8080/",
          "height": 295
        },
        "outputId": "c07dec21-b721-4bc1-b872-9081a922b931"
      },
      "execution_count": 13,
      "outputs": [
        {
          "output_type": "display_data",
          "data": {
            "text/plain": [
              "<Figure size 432x288 with 1 Axes>"
            ],
            "image/png": "[encoded data removed]"
          },
          "metadata": {}
        }
      ]
    },
    {
      "cell_type": "code",
      "source": [
        "print(\"Evaluate on test data\")\n",
        "results1 = model1.evaluate(x_test, y_test, batch_size=64)\n",
        "print(\"test loss, test acc:\", results1)"
      ],
      "metadata": {
        "colab": {
          "base_uri": "https://localhost:8080/"
        },
        "id": "JeTamth62jIR",
        "outputId": "2789da1f-2e04-423d-a89e-1e5f550f8c72"
      },
      "execution_count": 17,
      "outputs": [
        {
          "output_type": "stream",
          "name": "stdout",
          "text": [
            "Evaluate on test data\n",
            "10/10 [==============================] - 3s 257ms/step - loss: 0.9292 - accuracy: 0.9499\n",
            "test loss, test acc: [0.9292410612106323, 0.9499136209487915]\n"
          ]
        }
      ]
    },
    {
      "cell_type": "code",
      "source": [
        "history2 = model2.fit(x_train, y_train, epochs = 100, batch_size = 40, validation_data = (x_val, y_val))"
      ],
      "metadata": {
        "id": "_w59pvKV50QX",
        "outputId": "2e576eb7-7857-4ac0-b6c9-cf4808e895ec",
        "colab": {
          "base_uri": "https://localhost:8080/"
        }
      },
      "execution_count": 15,
      "outputs": [
        {
          "output_type": "stream",
          "name": "stdout",
          "text": [
            "Epoch 1/100\n",
            "44/44 [==============================] - 40s 862ms/step - loss: 88.1419 - accuracy: 0.4971 - val_loss: 0.6916 - val_accuracy: 0.5087\n",
            "Epoch 2/100\n",
            "44/44 [==============================] - 37s 839ms/step - loss: 0.7349 - accuracy: 0.4937 - val_loss: 0.6930 - val_accuracy: 0.5087\n",
            "Epoch 3/100\n",
            "44/44 [==============================] - 37s 837ms/step - loss: 0.6878 - accuracy: 0.5208 - val_loss: 0.6696 - val_accuracy: 0.6955\n",
            "Epoch 4/100\n",
            "44/44 [==============================] - 37s 844ms/step - loss: 0.9275 - accuracy: 0.5421 - val_loss: 0.6932 - val_accuracy: 0.4913\n",
            "Epoch 5/100\n",
            "44/44 [==============================] - 37s 839ms/step - loss: 0.6935 - accuracy: 0.5046 - val_loss: 0.6928 - val_accuracy: 0.5087\n",
            "Epoch 6/100\n",
            "44/44 [==============================] - 37s 840ms/step - loss: 0.7208 - accuracy: 0.5196 - val_loss: 0.6589 - val_accuracy: 0.7163\n",
            "Epoch 7/100\n",
            "44/44 [==============================] - 37s 838ms/step - loss: 0.6990 - accuracy: 0.5369 - val_loss: 0.6796 - val_accuracy: 0.5087\n",
            "Epoch 8/100\n",
            "44/44 [==============================] - 37s 837ms/step - loss: 0.9405 - accuracy: 0.5294 - val_loss: 0.7014 - val_accuracy: 0.4913\n",
            "Epoch 9/100\n",
            "44/44 [==============================] - 37s 838ms/step - loss: 0.7001 - accuracy: 0.5012 - val_loss: 0.6945 - val_accuracy: 0.5087\n",
            "Epoch 10/100\n",
            "44/44 [==============================] - 37s 839ms/step - loss: 0.7934 - accuracy: 0.5248 - val_loss: 0.6934 - val_accuracy: 0.4913\n",
            "Epoch 11/100\n",
            "44/44 [==============================] - 37s 836ms/step - loss: 0.7143 - accuracy: 0.4983 - val_loss: 0.6945 - val_accuracy: 0.5087\n",
            "Epoch 12/100\n",
            "44/44 [==============================] - 37s 838ms/step - loss: 2.0595 - accuracy: 0.5063 - val_loss: 0.8877 - val_accuracy: 0.5087\n",
            "Epoch 13/100\n",
            "44/44 [==============================] - 37s 837ms/step - loss: 0.6960 - accuracy: 0.5069 - val_loss: 0.6931 - val_accuracy: 0.5087\n",
            "Epoch 14/100\n",
            "44/44 [==============================] - 37s 835ms/step - loss: 0.7003 - accuracy: 0.5409 - val_loss: 0.7066 - val_accuracy: 0.5087\n",
            "Epoch 15/100\n",
            "44/44 [==============================] - 37s 833ms/step - loss: 0.6934 - accuracy: 0.5213 - val_loss: 0.6857 - val_accuracy: 0.5225\n",
            "Epoch 16/100\n",
            "44/44 [==============================] - 37s 834ms/step - loss: 0.6998 - accuracy: 0.5369 - val_loss: 0.6895 - val_accuracy: 0.6505\n",
            "Epoch 17/100\n",
            "44/44 [==============================] - 37s 836ms/step - loss: 0.7250 - accuracy: 0.5346 - val_loss: 0.6852 - val_accuracy: 0.4913\n",
            "Epoch 18/100\n",
            "44/44 [==============================] - 37s 833ms/step - loss: 0.6923 - accuracy: 0.5196 - val_loss: 0.6929 - val_accuracy: 0.5087\n",
            "Epoch 19/100\n",
            "44/44 [==============================] - 37s 833ms/step - loss: 0.7080 - accuracy: 0.5087 - val_loss: 0.6909 - val_accuracy: 0.4983\n",
            "Epoch 20/100\n",
            "44/44 [==============================] - 37s 832ms/step - loss: 0.6921 - accuracy: 0.5185 - val_loss: 0.6930 - val_accuracy: 0.5087\n",
            "Epoch 21/100\n",
            "44/44 [==============================] - 37s 834ms/step - loss: 0.7239 - accuracy: 0.5185 - val_loss: 0.6938 - val_accuracy: 0.4913\n",
            "Epoch 22/100\n",
            "44/44 [==============================] - 36s 829ms/step - loss: 0.6923 - accuracy: 0.5404 - val_loss: 0.7105 - val_accuracy: 0.4913\n",
            "Epoch 23/100\n",
            "44/44 [==============================] - 37s 833ms/step - loss: 0.7057 - accuracy: 0.5490 - val_loss: 0.6932 - val_accuracy: 0.5087\n",
            "Epoch 24/100\n",
            "44/44 [==============================] - 36s 828ms/step - loss: 0.6932 - accuracy: 0.5046 - val_loss: 0.6928 - val_accuracy: 0.5087\n",
            "Epoch 25/100\n",
            "44/44 [==============================] - 36s 831ms/step - loss: 0.6931 - accuracy: 0.5046 - val_loss: 0.6923 - val_accuracy: 0.5087\n",
            "Epoch 26/100\n",
            "44/44 [==============================] - 36s 828ms/step - loss: 0.6986 - accuracy: 0.5329 - val_loss: 0.6930 - val_accuracy: 0.5087\n",
            "Epoch 27/100\n",
            "44/44 [==============================] - 36s 829ms/step - loss: 0.6932 - accuracy: 0.5046 - val_loss: 0.6929 - val_accuracy: 0.5087\n",
            "Epoch 28/100\n",
            "44/44 [==============================] - 36s 829ms/step - loss: 0.6926 - accuracy: 0.5046 - val_loss: 0.6827 - val_accuracy: 0.6574\n",
            "Epoch 29/100\n",
            "44/44 [==============================] - 36s 828ms/step - loss: 0.6903 - accuracy: 0.5340 - val_loss: 0.6930 - val_accuracy: 0.5087\n",
            "Epoch 30/100\n",
            "44/44 [==============================] - 36s 829ms/step - loss: 0.6931 - accuracy: 0.5046 - val_loss: 0.6930 - val_accuracy: 0.5087\n",
            "Epoch 31/100\n",
            "44/44 [==============================] - 36s 827ms/step - loss: 0.6932 - accuracy: 0.5046 - val_loss: 0.6930 - val_accuracy: 0.5087\n",
            "Epoch 32/100\n",
            "44/44 [==============================] - 36s 828ms/step - loss: 0.6932 - accuracy: 0.5029 - val_loss: 0.6930 - val_accuracy: 0.5087\n",
            "Epoch 33/100\n",
            "44/44 [==============================] - 36s 825ms/step - loss: 0.6931 - accuracy: 0.5046 - val_loss: 0.6929 - val_accuracy: 0.5087\n",
            "Epoch 34/100\n",
            "44/44 [==============================] - 36s 830ms/step - loss: 0.6932 - accuracy: 0.5127 - val_loss: 0.6951 - val_accuracy: 0.4913\n",
            "Epoch 35/100\n",
            "44/44 [==============================] - 36s 826ms/step - loss: 0.6935 - accuracy: 0.4965 - val_loss: 0.6928 - val_accuracy: 0.5087\n",
            "Epoch 36/100\n",
            "44/44 [==============================] - 36s 828ms/step - loss: 0.8699 - accuracy: 0.5386 - val_loss: 0.6935 - val_accuracy: 0.5225\n",
            "Epoch 37/100\n",
            "44/44 [==============================] - 37s 832ms/step - loss: 0.8178 - accuracy: 0.5265 - val_loss: 0.6865 - val_accuracy: 0.5277\n",
            "Epoch 38/100\n",
            "44/44 [==============================] - 36s 826ms/step - loss: 0.6971 - accuracy: 0.5063 - val_loss: 0.6930 - val_accuracy: 0.5087\n",
            "Epoch 39/100\n",
            "44/44 [==============================] - 36s 819ms/step - loss: 0.6932 - accuracy: 0.5046 - val_loss: 0.6930 - val_accuracy: 0.5087\n",
            "Epoch 40/100\n",
            "44/44 [==============================] - 36s 821ms/step - loss: 0.6931 - accuracy: 0.5046 - val_loss: 0.6930 - val_accuracy: 0.5087\n",
            "Epoch 41/100\n",
            "44/44 [==============================] - 36s 820ms/step - loss: 0.6932 - accuracy: 0.5046 - val_loss: 0.6931 - val_accuracy: 0.5087\n",
            "Epoch 42/100\n",
            "44/44 [==============================] - 36s 822ms/step - loss: 0.6934 - accuracy: 0.5040 - val_loss: 0.6930 - val_accuracy: 0.5087\n",
            "Epoch 43/100\n",
            "44/44 [==============================] - 36s 824ms/step - loss: 0.6932 - accuracy: 0.5046 - val_loss: 0.6930 - val_accuracy: 0.5087\n",
            "Epoch 44/100\n",
            "44/44 [==============================] - 36s 822ms/step - loss: 0.6921 - accuracy: 0.5069 - val_loss: 0.6930 - val_accuracy: 0.5087\n",
            "Epoch 45/100\n",
            "44/44 [==============================] - 36s 823ms/step - loss: 0.6931 - accuracy: 0.5058 - val_loss: 0.6847 - val_accuracy: 0.6315\n",
            "Epoch 46/100\n",
            "44/44 [==============================] - 36s 818ms/step - loss: 0.6954 - accuracy: 0.5058 - val_loss: 0.6931 - val_accuracy: 0.5087\n",
            "Epoch 47/100\n",
            "44/44 [==============================] - 36s 816ms/step - loss: 0.6932 - accuracy: 0.4988 - val_loss: 0.6931 - val_accuracy: 0.5087\n",
            "Epoch 48/100\n",
            "44/44 [==============================] - 36s 812ms/step - loss: 0.6932 - accuracy: 0.5046 - val_loss: 0.6931 - val_accuracy: 0.5087\n",
            "Epoch 49/100\n",
            "44/44 [==============================] - 36s 814ms/step - loss: 0.6931 - accuracy: 0.5046 - val_loss: 0.6930 - val_accuracy: 0.5087\n",
            "Epoch 50/100\n",
            "44/44 [==============================] - 36s 810ms/step - loss: 0.6932 - accuracy: 0.5046 - val_loss: 0.6931 - val_accuracy: 0.5087\n",
            "Epoch 51/100\n",
            "44/44 [==============================] - 36s 816ms/step - loss: 0.6931 - accuracy: 0.5046 - val_loss: 0.6930 - val_accuracy: 0.5087\n",
            "Epoch 52/100\n",
            "44/44 [==============================] - 36s 812ms/step - loss: 0.6931 - accuracy: 0.5046 - val_loss: 0.6930 - val_accuracy: 0.5087\n",
            "Epoch 53/100\n",
            "44/44 [==============================] - 36s 814ms/step - loss: 0.6932 - accuracy: 0.5046 - val_loss: 0.6930 - val_accuracy: 0.5087\n",
            "Epoch 54/100\n",
            "44/44 [==============================] - 36s 812ms/step - loss: 0.6932 - accuracy: 0.5046 - val_loss: 0.6930 - val_accuracy: 0.5087\n",
            "Epoch 55/100\n",
            "44/44 [==============================] - 36s 813ms/step - loss: 0.6931 - accuracy: 0.5046 - val_loss: 0.6930 - val_accuracy: 0.5087\n",
            "Epoch 56/100\n",
            "44/44 [==============================] - 36s 817ms/step - loss: 0.6931 - accuracy: 0.5046 - val_loss: 0.6930 - val_accuracy: 0.5087\n",
            "Epoch 57/100\n",
            "44/44 [==============================] - 36s 812ms/step - loss: 0.6931 - accuracy: 0.5046 - val_loss: 0.6930 - val_accuracy: 0.5087\n",
            "Epoch 58/100\n",
            "44/44 [==============================] - 36s 811ms/step - loss: 0.6932 - accuracy: 0.5046 - val_loss: 0.6930 - val_accuracy: 0.5087\n",
            "Epoch 59/100\n",
            "44/44 [==============================] - 36s 813ms/step - loss: 0.6931 - accuracy: 0.5046 - val_loss: 0.6930 - val_accuracy: 0.5087\n",
            "Epoch 60/100\n",
            "44/44 [==============================] - 36s 816ms/step - loss: 0.6932 - accuracy: 0.5046 - val_loss: 0.6930 - val_accuracy: 0.5087\n",
            "Epoch 61/100\n",
            "44/44 [==============================] - 36s 810ms/step - loss: 0.6932 - accuracy: 0.5046 - val_loss: 0.6930 - val_accuracy: 0.5087\n",
            "Epoch 62/100\n",
            "44/44 [==============================] - 36s 816ms/step - loss: 0.6932 - accuracy: 0.5046 - val_loss: 0.6930 - val_accuracy: 0.5087\n",
            "Epoch 63/100\n",
            "44/44 [==============================] - 36s 811ms/step - loss: 0.6932 - accuracy: 0.5046 - val_loss: 0.6930 - val_accuracy: 0.5087\n",
            "Epoch 64/100\n",
            "44/44 [==============================] - 36s 813ms/step - loss: 0.6932 - accuracy: 0.5046 - val_loss: 0.6930 - val_accuracy: 0.5087\n",
            "Epoch 65/100\n",
            "44/44 [==============================] - 36s 813ms/step - loss: 0.6931 - accuracy: 0.5046 - val_loss: 0.6930 - val_accuracy: 0.5087\n",
            "Epoch 66/100\n",
            "44/44 [==============================] - 36s 812ms/step - loss: 0.6931 - accuracy: 0.5046 - val_loss: 0.6930 - val_accuracy: 0.5087\n",
            "Epoch 67/100\n",
            "44/44 [==============================] - 36s 813ms/step - loss: 0.6931 - accuracy: 0.5046 - val_loss: 0.6930 - val_accuracy: 0.5087\n",
            "Epoch 68/100\n",
            "44/44 [==============================] - 36s 812ms/step - loss: 0.6932 - accuracy: 0.5046 - val_loss: 0.6930 - val_accuracy: 0.5087\n",
            "Epoch 69/100\n",
            "44/44 [==============================] - 36s 817ms/step - loss: 0.6931 - accuracy: 0.5046 - val_loss: 0.6930 - val_accuracy: 0.5087\n",
            "Epoch 70/100\n",
            "44/44 [==============================] - 36s 812ms/step - loss: 0.6931 - accuracy: 0.5046 - val_loss: 0.6930 - val_accuracy: 0.5087\n",
            "Epoch 71/100\n",
            "44/44 [==============================] - 36s 814ms/step - loss: 0.6931 - accuracy: 0.5046 - val_loss: 0.6930 - val_accuracy: 0.5087\n",
            "Epoch 72/100\n",
            "44/44 [==============================] - 36s 810ms/step - loss: 0.6932 - accuracy: 0.5046 - val_loss: 0.6930 - val_accuracy: 0.5087\n",
            "Epoch 73/100\n",
            "44/44 [==============================] - 36s 816ms/step - loss: 0.6931 - accuracy: 0.5046 - val_loss: 0.6930 - val_accuracy: 0.5087\n",
            "Epoch 74/100\n",
            "44/44 [==============================] - 36s 813ms/step - loss: 0.6931 - accuracy: 0.5046 - val_loss: 0.6930 - val_accuracy: 0.5087\n",
            "Epoch 75/100\n",
            "44/44 [==============================] - 36s 812ms/step - loss: 0.6931 - accuracy: 0.5046 - val_loss: 0.6930 - val_accuracy: 0.5087\n",
            "Epoch 76/100\n",
            "44/44 [==============================] - 36s 812ms/step - loss: 0.6931 - accuracy: 0.5046 - val_loss: 0.6930 - val_accuracy: 0.5087\n",
            "Epoch 77/100\n",
            "44/44 [==============================] - 36s 814ms/step - loss: 0.6931 - accuracy: 0.5046 - val_loss: 0.6930 - val_accuracy: 0.5087\n",
            "Epoch 78/100\n",
            "44/44 [==============================] - 36s 815ms/step - loss: 0.6932 - accuracy: 0.5046 - val_loss: 0.6930 - val_accuracy: 0.5087\n",
            "Epoch 79/100\n",
            "44/44 [==============================] - 36s 812ms/step - loss: 0.6932 - accuracy: 0.5046 - val_loss: 0.6930 - val_accuracy: 0.5087\n",
            "Epoch 80/100\n",
            "44/44 [==============================] - 36s 814ms/step - loss: 0.6931 - accuracy: 0.5046 - val_loss: 0.6930 - val_accuracy: 0.5087\n",
            "Epoch 81/100\n",
            "44/44 [==============================] - 36s 812ms/step - loss: 0.6931 - accuracy: 0.5046 - val_loss: 0.6930 - val_accuracy: 0.5087\n",
            "Epoch 82/100\n",
            "44/44 [==============================] - 36s 816ms/step - loss: 0.6931 - accuracy: 0.5046 - val_loss: 0.6930 - val_accuracy: 0.5087\n",
            "Epoch 83/100\n",
            "44/44 [==============================] - 36s 811ms/step - loss: 0.6931 - accuracy: 0.5046 - val_loss: 0.6930 - val_accuracy: 0.5087\n",
            "Epoch 84/100\n",
            "44/44 [==============================] - 36s 815ms/step - loss: 0.6931 - accuracy: 0.5046 - val_loss: 0.6930 - val_accuracy: 0.5087\n",
            "Epoch 85/100\n",
            "44/44 [==============================] - 36s 812ms/step - loss: 0.6932 - accuracy: 0.5046 - val_loss: 0.6930 - val_accuracy: 0.5087\n",
            "Epoch 86/100\n",
            "44/44 [==============================] - 36s 817ms/step - loss: 0.6931 - accuracy: 0.5046 - val_loss: 0.6930 - val_accuracy: 0.5087\n",
            "Epoch 87/100\n",
            "44/44 [==============================] - 36s 812ms/step - loss: 0.6931 - accuracy: 0.5046 - val_loss: 0.6930 - val_accuracy: 0.5087\n",
            "Epoch 88/100\n",
            "44/44 [==============================] - 36s 814ms/step - loss: 0.6932 - accuracy: 0.5046 - val_loss: 0.6930 - val_accuracy: 0.5087\n",
            "Epoch 89/100\n",
            "44/44 [==============================] - 36s 812ms/step - loss: 0.6932 - accuracy: 0.5046 - val_loss: 0.6930 - val_accuracy: 0.5087\n",
            "Epoch 90/100\n",
            "44/44 [==============================] - 36s 814ms/step - loss: 0.6931 - accuracy: 0.5046 - val_loss: 0.6930 - val_accuracy: 0.5087\n",
            "Epoch 91/100\n",
            "44/44 [==============================] - 36s 820ms/step - loss: 0.6931 - accuracy: 0.5046 - val_loss: 0.6930 - val_accuracy: 0.5087\n",
            "Epoch 92/100\n",
            "44/44 [==============================] - 36s 811ms/step - loss: 0.6931 - accuracy: 0.5046 - val_loss: 0.6930 - val_accuracy: 0.5087\n",
            "Epoch 93/100\n",
            "44/44 [==============================] - 36s 814ms/step - loss: 0.6931 - accuracy: 0.5046 - val_loss: 0.6930 - val_accuracy: 0.5087\n",
            "Epoch 94/100\n",
            "44/44 [==============================] - 36s 812ms/step - loss: 0.6931 - accuracy: 0.5046 - val_loss: 0.6930 - val_accuracy: 0.5087\n",
            "Epoch 95/100\n",
            "44/44 [==============================] - 36s 817ms/step - loss: 0.6932 - accuracy: 0.5046 - val_loss: 0.6930 - val_accuracy: 0.5087\n",
            "Epoch 96/100\n",
            "44/44 [==============================] - 36s 811ms/step - loss: 0.6932 - accuracy: 0.5046 - val_loss: 0.6930 - val_accuracy: 0.5087\n",
            "Epoch 97/100\n",
            "44/44 [==============================] - 36s 814ms/step - loss: 0.6932 - accuracy: 0.4971 - val_loss: 0.6931 - val_accuracy: 0.5087\n",
            "Epoch 98/100\n",
            "44/44 [==============================] - 36s 813ms/step - loss: 0.6931 - accuracy: 0.5046 - val_loss: 0.6930 - val_accuracy: 0.5087\n",
            "Epoch 99/100\n",
            "44/44 [==============================] - 36s 813ms/step - loss: 0.6932 - accuracy: 0.5046 - val_loss: 0.6930 - val_accuracy: 0.5087\n",
            "Epoch 100/100\n",
            "44/44 [==============================] - 36s 815ms/step - loss: 0.6931 - accuracy: 0.5046 - val_loss: 0.6930 - val_accuracy: 0.5087\n"
          ]
        }
      ]
    },
    {
      "cell_type": "code",
      "source": [
        "loss_train2 = history2.history['accuracy']\n",
        "loss_val2 = history2.history['val_accuracy']\n",
        "epochs = range(1,101)\n",
        "plt.plot(epochs, loss_train2, 'g', label='Training accuracy')\n",
        "plt.plot(epochs, loss_val2, 'b', label='validation accuracy')\n",
        "plt.title('Training and Validation accuracy')\n",
        "plt.xlabel('Epochs')\n",
        "plt.ylabel('Accuracy')\n",
        "plt.legend()\n",
        "plt.show()"
      ],
      "metadata": {
        "id": "k_MfXo3fXavR",
        "outputId": "6e2e8c29-7ebb-4109-87b3-6fd4882793ec",
        "colab": {
          "base_uri": "https://localhost:8080/",
          "height": 295
        }
      },
      "execution_count": 16,
      "outputs": [
        {
          "output_type": "display_data",
          "data": {
            "text/plain": [
              "<Figure size 432x288 with 1 Axes>"
            ],
            "image/png": "[encoded data removed]"
          },
          "metadata": {}
        }
      ]
    },
    {
      "cell_type": "code",
      "source": [
        "print(\"Evaluate on test data\")\n",
        "results2 = model2.evaluate(x_test, y_test, batch_size=64)\n",
        "print(\"test loss, test acc:\", results2)"
      ],
      "metadata": {
        "id": "U8eMTK6TvEBy",
        "outputId": "2497fc21-e677-4920-9cb8-fb203a683426",
        "colab": {
          "base_uri": "https://localhost:8080/"
        }
      },
      "execution_count": 18,
      "outputs": [
        {
          "output_type": "stream",
          "name": "stdout",
          "text": [
            "Evaluate on test data\n",
            "10/10 [==============================] - 4s 343ms/step - loss: 0.6929 - accuracy: 0.5147\n",
            "test loss, test acc: [0.692890465259552, 0.5146805047988892]\n"
          ]
        }
      ]
    },
    {
      "cell_type": "code",
      "source": [
        "loss_train1 = history1.history['accuracy']\n",
        "loss_val1 = history1.history['val_accuracy']\n",
        "epochs = range(1,101)\n",
        "plt.plot(epochs, loss_train1, 'g', label='Training accuracy')\n",
        "plt.plot(epochs, loss_val1, 'b', label='validation accuracy')\n",
        "plt.xlabel('Epochs')\n",
        "plt.ylabel('Accuracy')\n",
        "loss_train2 = history2.history['accuracy']\n",
        "loss_val2 = history2.history['val_accuracy']\n",
        "plt.plot(epochs, loss_train2, 'r', label='Training accuracy')\n",
        "plt.plot(epochs, loss_val2, 'y', label='validation accuracy')\n",
        "plt.title('Training and Validation accuracy Comparision between VGG16 and VGG19 Architecture')\n",
        "plt.legend()\n",
        "plt.show()"
      ],
      "metadata": {
        "id": "Jk-nmyAvvKVm",
        "outputId": "9e06787c-d181-402f-ae61-3871f66738e9",
        "colab": {
          "base_uri": "https://localhost:8080/",
          "height": 295
        }
      },
      "execution_count": 19,
      "outputs": [
        {
          "output_type": "display_data",
          "data": {
            "text/plain": [
              "<Figure size 432x288 with 1 Axes>"
            ],
            "image/png": "[encoded data removed]"
          },
          "metadata": {}
        }
      ]
    },
    {
      "cell_type": "code",
      "source": [
        ""
      ],
      "metadata": {
        "id": "0pdTx5USw26o"
      },
      "execution_count": null,
      "outputs": []
    }
  ]
}