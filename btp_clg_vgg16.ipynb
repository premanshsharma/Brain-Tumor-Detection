{
  "metadata": {
    "kernelspec": {
      "language": "python",
      "display_name": "Python 3",
      "name": "python3"
    },
    "language_info": {
      "name": "python",
      "version": "3.7.12",
      "mimetype": "text/x-python",
      "codemirror_mode": {
        "name": "ipython",
        "version": 3
      },
      "pygments_lexer": "ipython3",
      "nbconvert_exporter": "python",
      "file_extension": ".py"
    },
    "colab": {
      "name": "btp-clg vgg16.ipynb",
      "provenance": [],
      "include_colab_link": true
    },
    "accelerator": "GPU",
    "gpuClass": "standard"
  },
  "nbformat_minor": 0,
  "nbformat": 4,
  "cells": [
    {
      "cell_type": "markdown",
      "metadata": {
        "id": "view-in-github",
        "colab_type": "text"
      },
      "source": [
        "<a href=\"https://colab.research.google.com/github/premanshsharma/Brain-Tumor-Detection/blob/main/btp_clg_vgg16.ipynb\" target=\"_parent\"><img src=\"https://colab.research.google.com/assets/colab-badge.svg\" alt=\"Open In Colab\"/></a>"
      ]
    },
    {
      "cell_type": "code",
      "source": [
        "import os\n",
        "import keras \n",
        "from keras.models import Sequential\n",
        "from keras.layers import Dropout, BatchNormalization, Dense, Conv2D, MaxPool2D , Flatten\n",
        "from keras.preprocessing.image import ImageDataGenerator\n",
        "from PIL import Image\n",
        "import numpy as np\n",
        "import pandas as pd\n",
        "import matplotlib.pyplot as plt\n",
        "plt.style.use('dark_background')\n",
        "from sklearn.model_selection import train_test_split\n",
        "from sklearn.preprocessing import OneHotEncoder \n",
        "import keras,os\n",
        "# You can write up to 20GB to the current directory (/kaggle/working/) that gets preserved as output when you create a version using \"Save & Run All\" \n",
        "# You can also write temporary files to /kaggle/temp/, but they won't be saved outside of the current session"
      ],
      "metadata": {
        "_uuid": "8f2839f25d086af736a60e9eeb907d3b93b6e0e5",
        "_cell_guid": "b1076dfc-b9ad-4769-8c92-a6c4dae69d19",
        "trusted": true,
        "id": "BCAPzQmXCTMY"
      },
      "execution_count": 1,
      "outputs": []
    },
    {
      "cell_type": "code",
      "source": [
        "from google.colab import drive\n",
        "drive.mount('/content/gdrive')"
      ],
      "metadata": {
        "colab": {
          "base_uri": "https://localhost:8080/"
        },
        "id": "57FoYU-82dug",
        "outputId": "014260a1-e6ee-42bd-9d51-fb214aeade14"
      },
      "execution_count": 2,
      "outputs": [
        {
          "output_type": "stream",
          "name": "stdout",
          "text": [
            "Mounted at /content/gdrive\n"
          ]
        }
      ]
    },
    {
      "cell_type": "code",
      "source": [
        "encoder = OneHotEncoder()\n",
        "encoder.fit([[0], [1]]) \n",
        "\n",
        "\n",
        "# 0 - Tumor\n",
        "# 1 - Normal\n",
        "# This cell updates result list for images with tumor\n",
        "\n",
        "data = []\n",
        "paths = []\n",
        "result = []\n",
        "\n",
        "for r, d, f in os.walk(r'/content/gdrive/MyDrive/Brain Tumor Detection/BRAIN_MRI_IMAGE_DATA_SET/data sets/yes'):\n",
        "    for file in f:\n",
        "        if '.jpg' in file:\n",
        "            paths.append(os.path.join(r, file))\n",
        "\n",
        "for path in paths:\n",
        "    img = Image.open(path)\n",
        "    img = img.resize((224,224))\n",
        "    img = np.array(img)\n",
        "    if(img.shape == (224,224,3)):\n",
        "        data.append(np.array(img))\n",
        "        result.append(encoder.transform([[0]]).toarray())\n",
        "paths = []\n",
        "\n",
        "for r, d, f in os.walk(r'/content/gdrive/MyDrive/Brain Tumor Detection/BRAIN_MRI_IMAGE_DATA_SET/data sets/no'):\n",
        "    for file in f:\n",
        "        if '.jpg' in file:\n",
        "            paths.append(os.path.join(r, file))\n",
        "\n",
        "for path in paths:\n",
        "    img = Image.open(path)\n",
        "    img = img.resize((224,224))\n",
        "    img = np.array(img)\n",
        "    if(img.shape == (224,224,3)):\n",
        "        data.append(np.array(img))\n",
        "        result.append(encoder.transform([[1]]).toarray())"
      ],
      "metadata": {
        "trusted": true,
        "id": "SPDkC9aBCTMa"
      },
      "execution_count": 3,
      "outputs": []
    },
    {
      "cell_type": "code",
      "source": [
        "data = np.array(data)\n",
        "data.shape"
      ],
      "metadata": {
        "trusted": true,
        "id": "q9f_PfzkCTMb",
        "colab": {
          "base_uri": "https://localhost:8080/"
        },
        "outputId": "c0892cfb-3119-42c6-94e2-51abf6463164"
      },
      "execution_count": 4,
      "outputs": [
        {
          "output_type": "execute_result",
          "data": {
            "text/plain": [
              "(2891, 224, 224, 3)"
            ]
          },
          "metadata": {},
          "execution_count": 4
        }
      ]
    },
    {
      "cell_type": "code",
      "source": [
        "result = np.array(result)\n",
        "result = result.reshape(2891,2)"
      ],
      "metadata": {
        "id": "abUknXZxHpLv"
      },
      "execution_count": 5,
      "outputs": []
    },
    {
      "cell_type": "code",
      "source": [
        "x_train, x_test, y_train, y_test = train_test_split(data, result, test_size=0.2, shuffle = True, random_state = 8)\n",
        "\n",
        "x_train, x_val, y_train, y_val = train_test_split(x_train, y_train, test_size=0.25, random_state= 8)"
      ],
      "metadata": {
        "trusted": true,
        "id": "nxeCda-QCTMb"
      },
      "execution_count": 6,
      "outputs": []
    },
    {
      "cell_type": "code",
      "source": [
        "model = Sequential()\n",
        "model.add(Conv2D(input_shape=(224,224,3),filters=64,kernel_size=(3,3),padding=\"same\", activation=\"relu\"))\n",
        "model.add(Conv2D(filters=64,kernel_size=(3,3),padding=\"same\", activation=\"relu\"))\n",
        "model.add(MaxPool2D(pool_size=(2,2),strides=(2,2)))\n",
        "model.add(Conv2D(filters=128, kernel_size=(3,3), padding=\"same\", activation=\"relu\"))\n",
        "model.add(Conv2D(filters=128, kernel_size=(3,3), padding=\"same\", activation=\"relu\"))\n",
        "model.add(MaxPool2D(pool_size=(2,2),strides=(2,2)))\n",
        "model.add(Conv2D(filters=256, kernel_size=(3,3), padding=\"same\", activation=\"relu\"))\n",
        "model.add(Conv2D(filters=256, kernel_size=(3,3), padding=\"same\", activation=\"relu\"))\n",
        "model.add(Conv2D(filters=256, kernel_size=(3,3), padding=\"same\", activation=\"relu\"))\n",
        "model.add(MaxPool2D(pool_size=(2,2),strides=(2,2)))\n",
        "model.add(Conv2D(filters=512, kernel_size=(3,3), padding=\"same\", activation=\"relu\"))\n",
        "model.add(Conv2D(filters=512, kernel_size=(3,3), padding=\"same\", activation=\"relu\"))\n",
        "model.add(Conv2D(filters=512, kernel_size=(3,3), padding=\"same\", activation=\"relu\"))\n",
        "model.add(MaxPool2D(pool_size=(2,2),strides=(2,2)))\n",
        "model.add(Conv2D(filters=512, kernel_size=(3,3), padding=\"same\", activation=\"relu\"))\n",
        "model.add(Conv2D(filters=512, kernel_size=(3,3), padding=\"same\", activation=\"relu\"))\n",
        "model.add(Conv2D(filters=512, kernel_size=(3,3), padding=\"same\", activation=\"relu\"))\n",
        "model.add(MaxPool2D(pool_size=(2,2),strides=(2,2)))\n",
        "model.add(Flatten())\n",
        "model.add(Dense(units=4096,activation=\"relu\"))\n",
        "model.add(Dense(units=4096,activation=\"relu\"))\n",
        "model.add(Dense(units=2, activation=\"softmax\"))\n",
        "from tensorflow.keras.optimizers import Adam \n",
        "opt = Adam(lr=0.001)\n",
        "model.compile(optimizer=opt, loss=keras.losses.categorical_crossentropy, metrics=['accuracy'])\n",
        "# model.summary()"
      ],
      "metadata": {
        "id": "3MY1eQzrCTMh",
        "outputId": "ff12ef45-80c8-45b4-ef21-341abc27c07f",
        "colab": {
          "base_uri": "https://localhost:8080/"
        }
      },
      "execution_count": 7,
      "outputs": [
        {
          "output_type": "stream",
          "name": "stderr",
          "text": [
            "/usr/local/lib/python3.7/dist-packages/keras/optimizer_v2/adam.py:105: UserWarning: The `lr` argument is deprecated, use `learning_rate` instead.\n",
            "  super(Adam, self).__init__(name, **kwargs)\n"
          ]
        }
      ]
    },
    {
      "cell_type": "code",
      "source": [
        "y_train.shape"
      ],
      "metadata": {
        "trusted": true,
        "id": "2jr6WYMlCTMd",
        "colab": {
          "base_uri": "https://localhost:8080/"
        },
        "outputId": "ad1b22a0-eb4e-4fc9-c1dd-efc503f6c0c7"
      },
      "execution_count": 8,
      "outputs": [
        {
          "output_type": "execute_result",
          "data": {
            "text/plain": [
              "(1734, 2)"
            ]
          },
          "metadata": {},
          "execution_count": 8
        }
      ]
    },
    {
      "cell_type": "code",
      "source": [
        "history = model.fit(x_train, y_train, epochs = 50, batch_size = 40, validation_data = (x_val, y_val))"
      ],
      "metadata": {
        "trusted": true,
        "id": "MJuwLt2pCTMe",
        "colab": {
          "base_uri": "https://localhost:8080/"
        },
        "outputId": "ae964f93-a7fd-47af-984d-6af2740a553c"
      },
      "execution_count": 9,
      "outputs": [
        {
          "output_type": "stream",
          "name": "stdout",
          "text": [
            "Epoch 1/50\n",
            "44/44 [==============================] - 50s 701ms/step - loss: 136.4048 - accuracy: 0.5334 - val_loss: 0.6739 - val_accuracy: 0.6661\n",
            "Epoch 2/50\n",
            "44/44 [==============================] - 26s 585ms/step - loss: 0.6192 - accuracy: 0.6442 - val_loss: 0.6990 - val_accuracy: 0.5796\n",
            "Epoch 3/50\n",
            "44/44 [==============================] - 26s 590ms/step - loss: 0.6031 - accuracy: 0.7105 - val_loss: 0.5294 - val_accuracy: 0.7111\n",
            "Epoch 4/50\n",
            "44/44 [==============================] - 26s 598ms/step - loss: 0.5365 - accuracy: 0.7313 - val_loss: 0.5946 - val_accuracy: 0.7093\n",
            "Epoch 5/50\n",
            "44/44 [==============================] - 27s 604ms/step - loss: 0.5105 - accuracy: 0.7313 - val_loss: 0.4974 - val_accuracy: 0.7336\n",
            "Epoch 6/50\n",
            "44/44 [==============================] - 27s 607ms/step - loss: 0.4762 - accuracy: 0.7774 - val_loss: 0.4532 - val_accuracy: 0.7803\n",
            "Epoch 7/50\n",
            "44/44 [==============================] - 27s 613ms/step - loss: 0.4102 - accuracy: 0.8137 - val_loss: 0.4017 - val_accuracy: 0.8028\n",
            "Epoch 8/50\n",
            "44/44 [==============================] - 27s 619ms/step - loss: 0.3866 - accuracy: 0.8172 - val_loss: 0.4481 - val_accuracy: 0.7872\n",
            "Epoch 9/50\n",
            "44/44 [==============================] - 27s 621ms/step - loss: 0.4112 - accuracy: 0.8080 - val_loss: 0.3819 - val_accuracy: 0.8391\n",
            "Epoch 10/50\n",
            "44/44 [==============================] - 27s 624ms/step - loss: 0.3163 - accuracy: 0.8610 - val_loss: 0.3528 - val_accuracy: 0.8443\n",
            "Epoch 11/50\n",
            "44/44 [==============================] - 28s 627ms/step - loss: 0.3143 - accuracy: 0.8616 - val_loss: 0.4136 - val_accuracy: 0.8443\n",
            "Epoch 12/50\n",
            "44/44 [==============================] - 27s 626ms/step - loss: 0.2494 - accuracy: 0.8904 - val_loss: 0.6806 - val_accuracy: 0.8460\n",
            "Epoch 13/50\n",
            "44/44 [==============================] - 27s 626ms/step - loss: 0.2700 - accuracy: 0.8858 - val_loss: 0.4099 - val_accuracy: 0.8616\n",
            "Epoch 14/50\n",
            "44/44 [==============================] - 28s 627ms/step - loss: 0.2114 - accuracy: 0.9112 - val_loss: 0.4826 - val_accuracy: 0.8875\n",
            "Epoch 15/50\n",
            "44/44 [==============================] - 27s 626ms/step - loss: 0.1956 - accuracy: 0.9193 - val_loss: 0.3584 - val_accuracy: 0.9239\n",
            "Epoch 16/50\n",
            "44/44 [==============================] - 27s 626ms/step - loss: 0.1735 - accuracy: 0.9366 - val_loss: 0.3815 - val_accuracy: 0.9239\n",
            "Epoch 17/50\n",
            "44/44 [==============================] - 27s 625ms/step - loss: 0.1348 - accuracy: 0.9458 - val_loss: 0.5351 - val_accuracy: 0.9066\n",
            "Epoch 18/50\n",
            "44/44 [==============================] - 27s 624ms/step - loss: 0.1727 - accuracy: 0.9325 - val_loss: 0.3463 - val_accuracy: 0.9187\n",
            "Epoch 19/50\n",
            "44/44 [==============================] - 27s 624ms/step - loss: 0.1404 - accuracy: 0.9452 - val_loss: 0.6740 - val_accuracy: 0.9273\n",
            "Epoch 20/50\n",
            "44/44 [==============================] - 27s 624ms/step - loss: 0.0972 - accuracy: 0.9619 - val_loss: 0.7378 - val_accuracy: 0.9412\n",
            "Epoch 21/50\n",
            "44/44 [==============================] - 27s 625ms/step - loss: 0.0793 - accuracy: 0.9740 - val_loss: 0.4893 - val_accuracy: 0.9446\n",
            "Epoch 22/50\n",
            "44/44 [==============================] - 27s 622ms/step - loss: 0.0552 - accuracy: 0.9798 - val_loss: 0.5547 - val_accuracy: 0.9412\n",
            "Epoch 23/50\n",
            "44/44 [==============================] - 27s 622ms/step - loss: 0.0555 - accuracy: 0.9821 - val_loss: 0.8867 - val_accuracy: 0.9394\n",
            "Epoch 24/50\n",
            "44/44 [==============================] - 27s 623ms/step - loss: 0.1422 - accuracy: 0.9527 - val_loss: 0.3542 - val_accuracy: 0.9377\n",
            "Epoch 25/50\n",
            "44/44 [==============================] - 27s 622ms/step - loss: 0.0837 - accuracy: 0.9740 - val_loss: 0.4521 - val_accuracy: 0.9394\n",
            "Epoch 26/50\n",
            "44/44 [==============================] - 27s 622ms/step - loss: 0.0296 - accuracy: 0.9890 - val_loss: 0.4565 - val_accuracy: 0.9481\n",
            "Epoch 27/50\n",
            "44/44 [==============================] - 27s 622ms/step - loss: 0.0652 - accuracy: 0.9792 - val_loss: 0.2547 - val_accuracy: 0.9481\n",
            "Epoch 28/50\n",
            "44/44 [==============================] - 27s 623ms/step - loss: 0.0127 - accuracy: 0.9971 - val_loss: 0.4925 - val_accuracy: 0.9585\n",
            "Epoch 29/50\n",
            "44/44 [==============================] - 27s 622ms/step - loss: 0.0098 - accuracy: 0.9960 - val_loss: 0.5821 - val_accuracy: 0.9291\n",
            "Epoch 30/50\n",
            "44/44 [==============================] - 27s 623ms/step - loss: 0.1237 - accuracy: 0.9539 - val_loss: 0.2908 - val_accuracy: 0.9325\n",
            "Epoch 31/50\n",
            "44/44 [==============================] - 27s 622ms/step - loss: 0.0579 - accuracy: 0.9787 - val_loss: 0.3189 - val_accuracy: 0.9533\n",
            "Epoch 32/50\n",
            "44/44 [==============================] - 27s 622ms/step - loss: 0.0176 - accuracy: 0.9942 - val_loss: 0.4495 - val_accuracy: 0.9602\n",
            "Epoch 33/50\n",
            "44/44 [==============================] - 27s 622ms/step - loss: 0.0220 - accuracy: 0.9931 - val_loss: 0.3163 - val_accuracy: 0.9689\n",
            "Epoch 34/50\n",
            "44/44 [==============================] - 27s 623ms/step - loss: 0.0263 - accuracy: 0.9925 - val_loss: 0.4546 - val_accuracy: 0.9689\n",
            "Epoch 35/50\n",
            "44/44 [==============================] - 27s 621ms/step - loss: 0.0167 - accuracy: 0.9948 - val_loss: 0.3944 - val_accuracy: 0.9654\n",
            "Epoch 36/50\n",
            "44/44 [==============================] - 27s 622ms/step - loss: 0.0418 - accuracy: 0.9919 - val_loss: 0.4210 - val_accuracy: 0.9446\n",
            "Epoch 37/50\n",
            "44/44 [==============================] - 27s 622ms/step - loss: 0.0306 - accuracy: 0.9896 - val_loss: 0.5620 - val_accuracy: 0.9498\n",
            "Epoch 38/50\n",
            "44/44 [==============================] - 27s 621ms/step - loss: 0.0359 - accuracy: 0.9867 - val_loss: 0.4960 - val_accuracy: 0.9343\n",
            "Epoch 39/50\n",
            "44/44 [==============================] - 27s 621ms/step - loss: 0.0228 - accuracy: 0.9931 - val_loss: 0.9035 - val_accuracy: 0.9671\n",
            "Epoch 40/50\n",
            "44/44 [==============================] - 27s 621ms/step - loss: 0.0153 - accuracy: 0.9965 - val_loss: 0.5075 - val_accuracy: 0.9446\n",
            "Epoch 41/50\n",
            "44/44 [==============================] - 27s 621ms/step - loss: 0.0106 - accuracy: 0.9983 - val_loss: 0.8675 - val_accuracy: 0.9516\n",
            "Epoch 42/50\n",
            "44/44 [==============================] - 27s 621ms/step - loss: 0.0093 - accuracy: 0.9971 - val_loss: 1.1036 - val_accuracy: 0.9533\n",
            "Epoch 43/50\n",
            "44/44 [==============================] - 27s 622ms/step - loss: 0.0127 - accuracy: 0.9948 - val_loss: 1.0685 - val_accuracy: 0.9446\n",
            "Epoch 44/50\n",
            "44/44 [==============================] - 27s 622ms/step - loss: 0.1654 - accuracy: 0.9585 - val_loss: 0.3192 - val_accuracy: 0.9567\n",
            "Epoch 45/50\n",
            "44/44 [==============================] - 27s 623ms/step - loss: 0.0190 - accuracy: 0.9937 - val_loss: 0.6650 - val_accuracy: 0.9498\n",
            "Epoch 46/50\n",
            "44/44 [==============================] - 27s 622ms/step - loss: 0.0379 - accuracy: 0.9902 - val_loss: 0.6861 - val_accuracy: 0.9654\n",
            "Epoch 47/50\n",
            "44/44 [==============================] - 27s 622ms/step - loss: 0.0408 - accuracy: 0.9890 - val_loss: 0.5354 - val_accuracy: 0.9429\n",
            "Epoch 48/50\n",
            "44/44 [==============================] - 27s 622ms/step - loss: 0.1345 - accuracy: 0.9608 - val_loss: 0.4640 - val_accuracy: 0.9498\n",
            "Epoch 49/50\n",
            "44/44 [==============================] - 27s 621ms/step - loss: 0.0667 - accuracy: 0.9769 - val_loss: 0.4195 - val_accuracy: 0.9498\n",
            "Epoch 50/50\n",
            "44/44 [==============================] - 27s 621ms/step - loss: 0.0696 - accuracy: 0.9798 - val_loss: 0.2160 - val_accuracy: 0.9498\n"
          ]
        }
      ]
    },
    {
      "cell_type": "code",
      "source": [
        "pred = model.predict(\n",
        "    x_test,\n",
        "    batch_size=None,\n",
        "    verbose=\"auto\",\n",
        "    steps=None,\n",
        "    callbacks=None,\n",
        "    max_queue_size=10,\n",
        "    workers=1,\n",
        "    use_multiprocessing=False,\n",
        ")\n"
      ],
      "metadata": {
        "trusted": true,
        "id": "Z6EbjGHYCTMf"
      },
      "execution_count": 10,
      "outputs": []
    },
    {
      "cell_type": "code",
      "source": [
        "print(\"Evaluate on test data\")\n",
        "results = model.evaluate(x_test, y_test, batch_size=64)\n",
        "print(\"test loss, test acc:\", results)\n"
      ],
      "metadata": {
        "id": "JeTamth62jIR",
        "outputId": "434afd95-5b5f-4f22-ed5f-28bc2f064fc1",
        "colab": {
          "base_uri": "https://localhost:8080/"
        }
      },
      "execution_count": 23,
      "outputs": [
        {
          "output_type": "stream",
          "name": "stdout",
          "text": [
            "Evaluate on test data\n",
            "10/10 [==============================] - 7s 247ms/step - loss: 0.1685 - accuracy: 0.9499\n",
            "test loss, test acc: [0.16854964196681976, 0.9499136209487915]\n"
          ]
        }
      ]
    },
    {
      "cell_type": "code",
      "source": [
        "plt.plot(history.history['loss'])\n",
        "plt.plot(history.history['val_loss'])\n",
        "plt.title('Model Loss')\n",
        "plt.ylabel('Loss')\n",
        "plt.xlabel('Epoch')\n",
        "plt.legend(['Test', 'Validation'], loc='upper right')\n",
        "plt.show()"
      ],
      "metadata": {
        "trusted": true,
        "id": "GikixC26CTMf",
        "outputId": "ea902545-c0eb-4c99-9841-28aa17b1b96c",
        "colab": {
          "base_uri": "https://localhost:8080/",
          "height": 295
        }
      },
      "execution_count": 11,
      "outputs": [
        {
          "output_type": "display_data",
          "data": {
            "text/plain": [
              "<Figure size 432x288 with 1 Axes>"
            ],
            "image/png": "[encoded data removed]"
          },
          "metadata": {
            "needs_background": "dark"
          }
        }
      ]
    },
    {
      "cell_type": "code",
      "source": [
        "loss_train = history.history['accuracy']\n",
        "loss_val = history.history['val_accuracy']\n",
        "epochs = range(1,51)\n",
        "plt.plot(epochs, loss_train, 'g', label='Training accuracy')\n",
        "plt.plot(epochs, loss_val, 'b', label='validation accuracy')\n",
        "plt.title('Training and Validation accuracy')\n",
        "plt.xlabel('Epochs')\n",
        "plt.ylabel('Accuracy')\n",
        "plt.legend()\n",
        "plt.show()"
      ],
      "metadata": {
        "trusted": true,
        "id": "vjY8T0wgCTMg",
        "outputId": "14bdd5eb-2040-4493-8eb3-b955657185b3",
        "colab": {
          "base_uri": "https://localhost:8080/",
          "height": 295
        }
      },
      "execution_count": 13,
      "outputs": [
        {
          "output_type": "display_data",
          "data": {
            "text/plain": [
              "<Figure size 432x288 with 1 Axes>"
            ],
            "image/png": "[encoded data removed]"
          },
          "metadata": {
            "needs_background": "dark"
          }
        }
      ]
    },
    {
      "cell_type": "code",
      "source": [
        "print('loss', 'accuracy')\n",
        "model.evaluate(\n",
        "    x=x_test,\n",
        "    y=y_test,\n",
        "    batch_size=40,\n",
        "    verbose=\"auto\",\n",
        "    sample_weight=None,\n",
        "    steps=None,\n",
        "    callbacks=None,\n",
        "    max_queue_size=10,\n",
        "    workers=1,\n",
        "    use_multiprocessing=False,\n",
        "    return_dict=False,\n",
        ")\n",
        "# print(pred.metrics_names)\n",
        "print(model)\n",
        "# pred"
      ],
      "metadata": {
        "trusted": true,
        "id": "TnxCCokvCTMg",
        "outputId": "fafe65eb-ac41-4629-b4d4-9af947d17e01",
        "colab": {
          "base_uri": "https://localhost:8080/"
        }
      },
      "execution_count": 19,
      "outputs": [
        {
          "output_type": "stream",
          "name": "stdout",
          "text": [
            "loss accuracy\n",
            "<keras.engine.sequential.Sequential object at 0x7f545b0baa10>\n"
          ]
        }
      ]
    },
    {
      "cell_type": "code",
      "source": [
        "a.math.confusion_matrix(\n",
        "    y_test,\n",
        "    pred,\n",
        "    num_classes=None,\n",
        "    weights=None,\n",
        "    dtype=tf.dtypes.int32,\n",
        "    name=None\n",
        ")\n"
      ],
      "metadata": {
        "trusted": true,
        "id": "pA8kdso6CTMg",
        "outputId": "8029e62c-a2ef-4afc-b4d5-ba777091187d",
        "colab": {
          "base_uri": "https://localhost:8080/",
          "height": 235
        }
      },
      "execution_count": 15,
      "outputs": [
        {
          "output_type": "error",
          "ename": "NameError",
          "evalue": "ignored",
          "traceback": [
            "\u001b[0;31m---------------------------------------------------------------------------\u001b[0m",
            "\u001b[0;31mNameError\u001b[0m                                 Traceback (most recent call last)",
            "\u001b[0;32m<ipython-input-15-1cebfb1cc23d>\u001b[0m in \u001b[0;36m<module>\u001b[0;34m()\u001b[0m\n\u001b[0;32m----> 1\u001b[0;31m tf.math.confusion_matrix(\n\u001b[0m\u001b[1;32m      2\u001b[0m     \u001b[0my_test\u001b[0m\u001b[0;34m,\u001b[0m\u001b[0;34m\u001b[0m\u001b[0;34m\u001b[0m\u001b[0m\n\u001b[1;32m      3\u001b[0m     \u001b[0mpred\u001b[0m\u001b[0;34m,\u001b[0m\u001b[0;34m\u001b[0m\u001b[0;34m\u001b[0m\u001b[0m\n\u001b[1;32m      4\u001b[0m     \u001b[0mnum_classes\u001b[0m\u001b[0;34m=\u001b[0m\u001b[0;32mNone\u001b[0m\u001b[0;34m,\u001b[0m\u001b[0;34m\u001b[0m\u001b[0;34m\u001b[0m\u001b[0m\n\u001b[1;32m      5\u001b[0m     \u001b[0mweights\u001b[0m\u001b[0;34m=\u001b[0m\u001b[0;32mNone\u001b[0m\u001b[0;34m,\u001b[0m\u001b[0;34m\u001b[0m\u001b[0;34m\u001b[0m\u001b[0m\n",
            "\u001b[0;31mNameError\u001b[0m: name 'tf' is not defined"
          ]
        }
      ]
    },
    {
      "cell_type": "code",
      "source": [
        ""
      ],
      "metadata": {
        "id": "AqN6-bAlqwz5"
      },
      "execution_count": null,
      "outputs": []
    }
  ]
}