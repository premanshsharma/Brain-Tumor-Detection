{
  "metadata": {
    "kernelspec": {
      "language": "python",
      "display_name": "Python 3",
      "name": "python3"
    },
    "language_info": {
      "name": "python",
      "version": "3.7.12",
      "mimetype": "text/x-python",
      "codemirror_mode": {
        "name": "ipython",
        "version": 3
      },
      "pygments_lexer": "ipython3",
      "nbconvert_exporter": "python",
      "file_extension": ".py"
    },
    "colab": {
      "name": "btp-clg vgg16.ipynb",
      "provenance": [],
      "include_colab_link": true
    },
    "accelerator": "GPU",
    "gpuClass": "standard"
  },
  "nbformat_minor": 0,
  "nbformat": 4,
  "cells": [
    {
      "cell_type": "markdown",
      "metadata": {
        "id": "view-in-github",
        "colab_type": "text"
      },
      "source": [
        "<a href=\"https://colab.research.google.com/github/premanshsharma/Brain-Tumor-Detection/blob/main/Brain_Tumor_Detection.ipynb\" target=\"_parent\"><img src=\"https://colab.research.google.com/assets/colab-badge.svg\" alt=\"Open In Colab\"/></a>"
      ]
    },
    {
      "cell_type": "markdown",
      "source": [
        "# Brain Tumor Detection and Analysis of different algorithms."
      ],
      "metadata": {
        "id": "tXji3TRcgd6o"
      }
    },
    {
      "cell_type": "code",
      "source": [
        "import os\n",
        "import keras \n",
        "from keras.models import Sequential\n",
        "from keras.layers import Dropout, BatchNormalization, Dense, Conv2D, MaxPool2D , Flatten\n",
        "from keras.preprocessing.image import ImageDataGenerator\n",
        "from PIL import Image, ImageOps\n",
        "import numpy as np\n",
        "import pandas as pd\n",
        "import matplotlib.pyplot as plt\n",
        "from sklearn.model_selection import train_test_split\n",
        "from sklearn.preprocessing import OneHotEncoder \n",
        "import tensorflow as tf\n",
        "plt.style.use('dark_background')\n"
      ],
      "metadata": {
        "_uuid": "8f2839f25d086af736a60e9eeb907d3b93b6e0e5",
        "_cell_guid": "b1076dfc-b9ad-4769-8c92-a6c4dae69d19",
        "trusted": true,
        "id": "BCAPzQmXCTMY"
      },
      "execution_count": 1,
      "outputs": []
    },
    {
      "cell_type": "code",
      "source": [
        "from google.colab import drive\n",
        "drive.mount('/content/gdrive')"
      ],
      "metadata": {
        "colab": {
          "base_uri": "https://localhost:8080/"
        },
        "id": "57FoYU-82dug",
        "outputId": "c73a9386-f65f-41b2-98d4-73a0933fd81d"
      },
      "execution_count": 2,
      "outputs": [
        {
          "output_type": "stream",
          "name": "stdout",
          "text": [
            "Mounted at /content/gdrive\n"
          ]
        }
      ]
    },
    {
      "cell_type": "markdown",
      "source": [
        "#Logistic Regression And SVM Implementation"
      ],
      "metadata": {
        "id": "G30mme-ZKnpw"
      }
    },
    {
      "cell_type": "markdown",
      "source": [
        "## Creating Dataset For Training"
      ],
      "metadata": {
        "id": "odCtEXllgI_f"
      }
    },
    {
      "cell_type": "code",
      "source": [
        "datalr = []\n",
        "pathslr = []\n",
        "resultlr = []\n",
        "for r, d, f in os.walk(r'/content/gdrive/MyDrive/Brain Tumor Detection/BRAIN_MRI_IMAGE_DATA_SET/data sets/yes'):\n",
        "    for file in f:\n",
        "        if '.jpg' in file:\n",
        "            pathslr.append(os.path.join(r, file))\n",
        "for path in pathslr:\n",
        "    img = Image.open(path)\n",
        "    gray_image = ImageOps.grayscale(img)\n",
        "    img = img.resize((224,224))\n",
        "    img = np.array(img)\n",
        "    if(img.shape == (224,224, 3)):\n",
        "        nsamples, nx, ny = img.shape\n",
        "        img = img.reshape((nsamples,nx*ny))\n",
        "        datalr.append(np.array(img))\n",
        "        resultlr.append(0)\n",
        "pathslr = []\n",
        "print('yes', len(datalr), len(resultlr))\n",
        "for r, d, f in os.walk(r'/content/gdrive/MyDrive/Brain Tumor Detection/BRAIN_MRI_IMAGE_DATA_SET/data sets/no'):\n",
        "    for file in f:\n",
        "        if '.jpg' in file:\n",
        "            pathslr.append(os.path.join(r, file))\n",
        "for path in pathslr:\n",
        "    img = Image.open(path)\n",
        "    gray_image = ImageOps.grayscale(img)\n",
        "    img = img.resize((224,224))\n",
        "    img = np.array(img)\n",
        "    if(img.shape == (224,224, 3)):\n",
        "        nsamples, nx, ny = img.shape\n",
        "        img = img.reshape((nsamples,nx*ny))\n",
        "        datalr.append(np.array(img))\n",
        "        resultlr.append(1)\n",
        "print('no', len(datalr), len(resultlr))"
      ],
      "metadata": {
        "id": "L60p6pdDKt94",
        "outputId": "6d8be365-d5fc-44a6-87a4-fee458a80d00",
        "colab": {
          "base_uri": "https://localhost:8080/"
        }
      },
      "execution_count": 3,
      "outputs": [
        {
          "output_type": "stream",
          "name": "stdout",
          "text": [
            "yes 1424 1424\n",
            "no 2891 2891\n"
          ]
        }
      ]
    },
    {
      "cell_type": "code",
      "source": [
        "datalr = np.array(datalr)\n",
        "nsamples, nx, ny = datalr.shape\n",
        "# print(x)\n",
        "# \n",
        "datalr = datalr.reshape((nsamples,nx*ny))"
      ],
      "metadata": {
        "id": "g6LhG83bscMx"
      },
      "execution_count": 4,
      "outputs": []
    },
    {
      "cell_type": "code",
      "source": [
        "print(len(datalr), len(resultlr))"
      ],
      "metadata": {
        "id": "fp2I3KQ_00ci",
        "outputId": "040b4db0-5a86-41a6-fe36-18e450f0697a",
        "colab": {
          "base_uri": "https://localhost:8080/"
        }
      },
      "execution_count": 5,
      "outputs": [
        {
          "output_type": "stream",
          "name": "stdout",
          "text": [
            "2891 2891\n"
          ]
        }
      ]
    },
    {
      "cell_type": "code",
      "source": [
        "from sklearn.model_selection import train_test_split\n",
        "x_trainlr, x_testlr, y_trainlr, y_testlr = train_test_split(datalr, resultlr, test_size=0.25, random_state=0)\n",
        "print(len(x_trainlr), len(x_testlr))"
      ],
      "metadata": {
        "id": "Rarc-ZHjYbbt",
        "outputId": "0d985f75-8549-4aa8-8aa6-3597c0df52d7",
        "colab": {
          "base_uri": "https://localhost:8080/"
        }
      },
      "execution_count": 6,
      "outputs": [
        {
          "output_type": "stream",
          "name": "stdout",
          "text": [
            "2168 723\n"
          ]
        }
      ]
    },
    {
      "cell_type": "markdown",
      "source": [
        "## Logistic Regression"
      ],
      "metadata": {
        "id": "s4s2BdSndwxm"
      }
    },
    {
      "cell_type": "markdown",
      "source": [
        "Logistic Regression is not taking all the data set into consideration."
      ],
      "metadata": {
        "id": "aqHxKwoXyo66"
      }
    },
    {
      "cell_type": "code",
      "source": [
        "from sklearn.linear_model import LogisticRegression\n",
        "logisticRegr = LogisticRegression(solver='lbfgs', max_iter=100000)"
      ],
      "metadata": {
        "id": "QigZPL45YwKV"
      },
      "execution_count": 7,
      "outputs": []
    },
    {
      "cell_type": "code",
      "source": [
        "logisticRegr.fit(x_trainlr, y_trainlr)"
      ],
      "metadata": {
        "id": "5KGctOgBY2A3",
        "outputId": "891c1456-81fc-4cd8-8c6a-ca22169671a9",
        "colab": {
          "base_uri": "https://localhost:8080/"
        }
      },
      "execution_count": 8,
      "outputs": [
        {
          "output_type": "execute_result",
          "data": {
            "text/plain": [
              "LogisticRegression(max_iter=100000)"
            ]
          },
          "metadata": {},
          "execution_count": 8
        }
      ]
    },
    {
      "cell_type": "code",
      "source": [
        "y_test_pred = logisticRegr.predict(x_testlr)\n",
        "y_train_pred = logisticRegr.predict(x_trainlr)"
      ],
      "metadata": {
        "id": "40Mg5Z8G1aEa"
      },
      "execution_count": 9,
      "outputs": []
    },
    {
      "cell_type": "code",
      "source": [
        "from sklearn.metrics import accuracy_score\n",
        "accuracy_score(y_testlr,y_test_pred)"
      ],
      "metadata": {
        "id": "ZyboPhq91ZCr",
        "outputId": "89fb434e-4434-439b-ad6c-f15ed79b6206",
        "colab": {
          "base_uri": "https://localhost:8080/"
        }
      },
      "execution_count": 11,
      "outputs": [
        {
          "output_type": "execute_result",
          "data": {
            "text/plain": [
              "0.970954356846473"
            ]
          },
          "metadata": {},
          "execution_count": 11
        }
      ]
    },
    {
      "cell_type": "code",
      "source": [
        "from sklearn.metrics import confusion_matrix\n",
        "cm = confusion_matrix(y_testlr,y_test_pred)\n",
        "cm"
      ],
      "metadata": {
        "id": "Wzn8XxQnwCcD",
        "outputId": "29e4922a-bf7a-42be-dec6-d84e6f9e3d99",
        "colab": {
          "base_uri": "https://localhost:8080/"
        }
      },
      "execution_count": 13,
      "outputs": [
        {
          "output_type": "execute_result",
          "data": {
            "text/plain": [
              "array([[360,  15],\n",
              "       [  6, 342]])"
            ]
          },
          "metadata": {},
          "execution_count": 13
        }
      ]
    },
    {
      "cell_type": "markdown",
      "source": [
        "## SVM"
      ],
      "metadata": {
        "id": "sjU323qmd2Q-"
      }
    },
    {
      "cell_type": "code",
      "source": [
        "from sklearn.svm import SVC\n",
        "from sklearn.metrics import accuracy_score\n",
        "# Linear Kernels\n",
        "# Polynomial Kernels\n",
        "# Radial Basis Function Kernel\n",
        "svr = SVC(kernel = 'linear',C = 1000)\n",
        "svr.fit(x_trainlr,y_trainlr)"
      ],
      "metadata": {
        "id": "MP6GAnXLhkUo",
        "outputId": "1ef8d653-ec0f-43ca-e381-f32f80e8eed4",
        "colab": {
          "base_uri": "https://localhost:8080/"
        }
      },
      "execution_count": 14,
      "outputs": [
        {
          "output_type": "execute_result",
          "data": {
            "text/plain": [
              "SVC(C=1000, kernel='linear')"
            ]
          },
          "metadata": {},
          "execution_count": 14
        }
      ]
    },
    {
      "cell_type": "code",
      "source": [
        "y_test_pred = svr.predict(x_testlr)\n",
        "y_train_pred = svr.predict(x_trainlr)"
      ],
      "metadata": {
        "id": "15pc12YLizD5"
      },
      "execution_count": 15,
      "outputs": []
    },
    {
      "cell_type": "code",
      "source": [
        "accuracy_score(y_testlr,y_test_pred)"
      ],
      "metadata": {
        "id": "7GxG0lY3jKIw",
        "outputId": "19dec610-d162-4a02-a6dd-97c1e22babbf",
        "colab": {
          "base_uri": "https://localhost:8080/"
        }
      },
      "execution_count": 16,
      "outputs": [
        {
          "output_type": "execute_result",
          "data": {
            "text/plain": [
              "0.9695712309820194"
            ]
          },
          "metadata": {},
          "execution_count": 16
        }
      ]
    },
    {
      "cell_type": "code",
      "source": [
        "from sklearn.metrics import confusion_matrix\n",
        "cm = confusion_matrix(y_testlr,y_test_pred)\n",
        "print(len(x_trainlr), len(x_testlr), len(y_test_pred))\n",
        "cm"
      ],
      "metadata": {
        "id": "tfPxP1Qskf1Y",
        "outputId": "f5033839-768f-4602-f95d-d109358bdaa6",
        "colab": {
          "base_uri": "https://localhost:8080/"
        }
      },
      "execution_count": 17,
      "outputs": [
        {
          "output_type": "stream",
          "name": "stdout",
          "text": [
            "2168 723 723\n"
          ]
        },
        {
          "output_type": "execute_result",
          "data": {
            "text/plain": [
              "array([[360,  15],\n",
              "       [  7, 341]])"
            ]
          },
          "metadata": {},
          "execution_count": 17
        }
      ]
    },
    {
      "cell_type": "markdown",
      "source": [
        "# Neural Network Implementation:- VGG16, VGG19"
      ],
      "metadata": {
        "id": "1-GmVhibKcM7"
      }
    },
    {
      "cell_type": "code",
      "source": [
        "encoder = OneHotEncoder()\n",
        "encoder.fit([[0], [1]]) \n",
        "\n",
        "\n",
        "# 0 - Tumor\n",
        "# 1 - Normal\n",
        "# This cell updates result list for images with tumor\n",
        "\n",
        "data = []\n",
        "paths = []\n",
        "result = []\n",
        "data_for_svm = []\n",
        "for r, d, f in os.walk(r'/content/gdrive/MyDrive/Brain Tumor Detection/BRAIN_MRI_IMAGE_DATA_SET/data sets/yes'):\n",
        "    for file in f:\n",
        "        if '.jpg' in file:\n",
        "            paths.append(os.path.join(r, file))\n",
        "for path in paths:\n",
        "    img = Image.open(path)\n",
        "    img = img.resize((224,224))\n",
        "    img = np.array(img)\n",
        "    if(img.shape == (224,224,3)):\n",
        "        data.append(np.array(img))\n",
        "        result.append(encoder.transform([[0]]).toarray())\n",
        "paths = []\n",
        "for r, d, f in os.walk(r'/content/gdrive/MyDrive/Brain Tumor Detection/BRAIN_MRI_IMAGE_DATA_SET/data sets/no'):\n",
        "    for file in f:\n",
        "        if '.jpg' in file:\n",
        "            paths.append(os.path.join(r, file))\n",
        "for path in paths:\n",
        "    img = Image.open(path)\n",
        "    img = img.resize((224,224))\n",
        "    img = np.array(img)\n",
        "    if(img.shape == (224,224,3)):\n",
        "        data.append(np.array(img))\n",
        "        result.append(encoder.transform([[1]]).toarray())\n"
      ],
      "metadata": {
        "trusted": true,
        "id": "SPDkC9aBCTMa"
      },
      "execution_count": 18,
      "outputs": []
    },
    {
      "cell_type": "code",
      "source": [
        "x_train, x_test, y_train, y_test = train_test_split(data, result, test_size=0.2, shuffle = True, random_state = 8)\n",
        "\n",
        "x_train, x_val, y_train, y_val = train_test_split(x_train, y_train, test_size=0.25, random_state= 8)"
      ],
      "metadata": {
        "trusted": true,
        "id": "nxeCda-QCTMb"
      },
      "execution_count": 27,
      "outputs": []
    },
    {
      "cell_type": "code",
      "source": [
        "data = np.array(data)\n",
        "data.shape"
      ],
      "metadata": {
        "trusted": true,
        "id": "q9f_PfzkCTMb",
        "outputId": "95997093-7056-45a7-d310-9dbc3a3a2bc3",
        "colab": {
          "base_uri": "https://localhost:8080/"
        }
      },
      "execution_count": 28,
      "outputs": [
        {
          "output_type": "execute_result",
          "data": {
            "text/plain": [
              "(2891, 224, 224, 3)"
            ]
          },
          "metadata": {},
          "execution_count": 28
        }
      ]
    },
    {
      "cell_type": "code",
      "source": [
        "result = np.array(result)\n",
        "result = result.reshape(2891,2)"
      ],
      "metadata": {
        "id": "abUknXZxHpLv"
      },
      "execution_count": 29,
      "outputs": []
    },
    {
      "cell_type": "code",
      "source": [
        "model1 = Sequential()\n",
        "model1.add(Conv2D(input_shape=(224,224,3),filters=64,kernel_size=(3,3),padding=\"same\", activation=\"relu\"))\n",
        "model1.add(Conv2D(filters=64,kernel_size=(3,3),padding=\"same\", activation=\"relu\"))\n",
        "model1.add(MaxPool2D(pool_size=(2,2),strides=(2,2)))\n",
        "\n",
        "model1.add(Conv2D(filters=128, kernel_size=(3,3), padding=\"same\", activation=\"relu\"))\n",
        "model1.add(Conv2D(filters=128, kernel_size=(3,3), padding=\"same\", activation=\"relu\"))\n",
        "model1.add(MaxPool2D(pool_size=(2,2),strides=(2,2)))\n",
        "\n",
        "model1.add(Conv2D(filters=256, kernel_size=(3,3), padding=\"same\", activation=\"relu\"))\n",
        "model1.add(Conv2D(filters=256, kernel_size=(3,3), padding=\"same\", activation=\"relu\"))\n",
        "model1.add(Conv2D(filters=256, kernel_size=(3,3), padding=\"same\", activation=\"relu\"))\n",
        "model1.add(MaxPool2D(pool_size=(2,2),strides=(2,2)))\n",
        "\n",
        "model1.add(Conv2D(filters=512, kernel_size=(3,3), padding=\"same\", activation=\"relu\"))\n",
        "model1.add(Conv2D(filters=512, kernel_size=(3,3), padding=\"same\", activation=\"relu\"))\n",
        "model1.add(Conv2D(filters=512, kernel_size=(3,3), padding=\"same\", activation=\"relu\"))\n",
        "model1.add(MaxPool2D(pool_size=(2,2),strides=(2,2)))\n",
        "\n",
        "model1.add(Conv2D(filters=512, kernel_size=(3,3), padding=\"same\", activation=\"relu\"))\n",
        "model1.add(Conv2D(filters=512, kernel_size=(3,3), padding=\"same\", activation=\"relu\"))\n",
        "model1.add(Conv2D(filters=512, kernel_size=(3,3), padding=\"same\", activation=\"relu\"))\n",
        "model1.add(MaxPool2D(pool_size=(2,2),strides=(2,2)))\n",
        "\n",
        "model1.add(Flatten())\n",
        "model1.add(Dense(units=4096,activation=\"relu\"))\n",
        "model1.add(Dense(units=4096,activation=\"relu\"))\n",
        "model1.add(Dense(units=2, activation=\"softmax\"))\n",
        "\n",
        "from tensorflow.keras.optimizers import Adam \n",
        "opt = Adam(lr=0.001)\n",
        "model1.compile(optimizer=opt, loss=keras.losses.categorical_crossentropy, metrics=['accuracy'])\n",
        "# model.summary()"
      ],
      "metadata": {
        "id": "3MY1eQzrCTMh",
        "outputId": "5d3dac51-e2ff-4de8-bd23-3131d32038ad",
        "colab": {
          "base_uri": "https://localhost:8080/"
        }
      },
      "execution_count": 30,
      "outputs": [
        {
          "output_type": "stream",
          "name": "stderr",
          "text": [
            "/usr/local/lib/python3.7/dist-packages/keras/optimizer_v2/adam.py:105: UserWarning: The `lr` argument is deprecated, use `learning_rate` instead.\n",
            "  super(Adam, self).__init__(name, **kwargs)\n"
          ]
        }
      ]
    },
    {
      "cell_type": "code",
      "source": [
        "model2 = Sequential()\n",
        "model2.add(Conv2D(input_shape=(224,224,3),filters=64,kernel_size=(3,3),padding=\"same\", activation=\"relu\"))\n",
        "model2.add(Conv2D(filters=64,kernel_size=(3,3),padding=\"same\", activation=\"relu\"))\n",
        "model2.add(Conv2D(filters=64,kernel_size=(3,3),padding=\"same\", activation=\"relu\"))\n",
        "model2.add(MaxPool2D(pool_size=(2,2), strides= (2,2)))\n",
        "\n",
        "model2.add(Conv2D(filters=128, kernel_size=(3,3), padding=\"same\", activation=\"relu\"))\n",
        "model2.add(Conv2D(filters=128, kernel_size=(3,3), padding=\"same\", activation=\"relu\"))\n",
        "model2.add(MaxPool2D(pool_size=(2,2),strides=(2,2)))\n",
        "\n",
        "model2.add(Conv2D(filters=256, kernel_size=(3,3), padding=\"same\", activation=\"relu\"))\n",
        "model2.add(Conv2D(filters=256, kernel_size=(3,3), padding=\"same\", activation=\"relu\"))\n",
        "model2.add(Conv2D(filters=256, kernel_size=(3,3), padding=\"same\", activation=\"relu\"))\n",
        "model2.add(Conv2D(filters=256, kernel_size=(3,3), padding=\"same\", activation=\"relu\"))\n",
        "model2.add(MaxPool2D(pool_size=(2,2),strides=(2,2)))\n",
        "\n",
        "model2.add(Conv2D(filters=512, kernel_size=(3,3), padding=\"same\", activation=\"relu\"))\n",
        "model2.add(Conv2D(filters=512, kernel_size=(3,3), padding=\"same\", activation=\"relu\"))\n",
        "model2.add(Conv2D(filters=512, kernel_size=(3,3), padding=\"same\", activation=\"relu\"))\n",
        "model2.add(Conv2D(filters=512, kernel_size=(3,3), padding=\"same\", activation=\"relu\"))\n",
        "model2.add(MaxPool2D(pool_size=(2,2),strides=(2,2)))\n",
        "\n",
        "model2.add(Conv2D(filters=512, kernel_size=(3,3), padding=\"same\", activation=\"relu\"))\n",
        "model2.add(Conv2D(filters=512, kernel_size=(3,3), padding=\"same\", activation=\"relu\"))\n",
        "model2.add(Conv2D(filters=512, kernel_size=(3,3), padding=\"same\", activation=\"relu\"))\n",
        "model2.add(Conv2D(filters=512, kernel_size=(3,3), padding=\"same\", activation=\"relu\"))\n",
        "model2.add(MaxPool2D(pool_size=(2,2),strides=(2,2)))\n",
        "from keras.models import Sequential\n",
        "model2.add(Flatten())\n",
        "model2.add(Dense(units=4096,activation=\"relu\"))\n",
        "model2.add(Dropout(0.5))\n",
        "model2.add(Dense(4096, activation= 'relu'))\n",
        "model2.add(Dense(1000, activation= 'relu'))\n",
        "model2.add(Dense(2, activation='softmax'))\n",
        "from tensorflow.keras.optimizers import Adam \n",
        "opt = Adam(lr=0.001)\n",
        "model2.compile(loss='binary_crossentropy', optimizer=Adam(lr=0.001), metrics=['accuracy'])"
      ],
      "metadata": {
        "id": "EO2b8UIPA7Lx"
      },
      "execution_count": 31,
      "outputs": []
    },
    {
      "cell_type": "code",
      "source": [
        "y_train = np.array(y_train)\n",
        "y_train.shape"
      ],
      "metadata": {
        "trusted": true,
        "id": "2jr6WYMlCTMd",
        "outputId": "739c278d-d9ae-4f45-a905-c42f0524a126",
        "colab": {
          "base_uri": "https://localhost:8080/"
        }
      },
      "execution_count": 25,
      "outputs": [
        {
          "output_type": "execute_result",
          "data": {
            "text/plain": [
              "(1734, 1, 2)"
            ]
          },
          "metadata": {},
          "execution_count": 25
        }
      ]
    },
    {
      "cell_type": "code",
      "source": [
        "history1 = model1.fit(x_train, y_train, epochs = 70, batch_size = 40, validation_data = (x_val, y_val))"
      ],
      "metadata": {
        "trusted": true,
        "id": "MJuwLt2pCTMe",
        "outputId": "6ba8afd1-504b-40c2-bc05-ad8f94ea64a6",
        "colab": {
          "base_uri": "https://localhost:8080/"
        }
      },
      "execution_count": 33,
      "outputs": [
        {
          "output_type": "stream",
          "name": "stdout",
          "text": [
            "Epoch 1/70\n",
            "44/44 [==============================] - 27s 624ms/step - loss: 0.2338 - accuracy: 0.9043 - val_loss: 0.6417 - val_accuracy: 0.8166\n",
            "Epoch 2/70\n",
            "44/44 [==============================] - 27s 624ms/step - loss: 0.2748 - accuracy: 0.8945 - val_loss: 0.2861 - val_accuracy: 0.8858\n",
            "Epoch 3/70\n",
            "44/44 [==============================] - 27s 618ms/step - loss: 0.2158 - accuracy: 0.9175 - val_loss: 0.2596 - val_accuracy: 0.9083\n",
            "Epoch 4/70\n",
            "44/44 [==============================] - 27s 620ms/step - loss: 0.2116 - accuracy: 0.9146 - val_loss: 0.2666 - val_accuracy: 0.9048\n",
            "Epoch 5/70\n",
            "44/44 [==============================] - 27s 624ms/step - loss: 0.1454 - accuracy: 0.9493 - val_loss: 0.2250 - val_accuracy: 0.9256\n",
            "Epoch 6/70\n",
            "44/44 [==============================] - 27s 622ms/step - loss: 0.1142 - accuracy: 0.9567 - val_loss: 0.2068 - val_accuracy: 0.9412\n",
            "Epoch 7/70\n",
            "44/44 [==============================] - 27s 621ms/step - loss: 0.0907 - accuracy: 0.9671 - val_loss: 0.2488 - val_accuracy: 0.9360\n",
            "Epoch 8/70\n",
            "44/44 [==============================] - 27s 619ms/step - loss: 0.1213 - accuracy: 0.9591 - val_loss: 0.3964 - val_accuracy: 0.8633\n",
            "Epoch 9/70\n",
            "44/44 [==============================] - 27s 618ms/step - loss: 0.1883 - accuracy: 0.9245 - val_loss: 0.5012 - val_accuracy: 0.9066\n",
            "Epoch 10/70\n",
            "44/44 [==============================] - 27s 618ms/step - loss: 0.0908 - accuracy: 0.9700 - val_loss: 0.1906 - val_accuracy: 0.9481\n",
            "Epoch 11/70\n",
            "44/44 [==============================] - 27s 619ms/step - loss: 0.0632 - accuracy: 0.9833 - val_loss: 0.1685 - val_accuracy: 0.9550\n",
            "Epoch 12/70\n",
            "44/44 [==============================] - 27s 621ms/step - loss: 0.0842 - accuracy: 0.9746 - val_loss: 0.4055 - val_accuracy: 0.9221\n",
            "Epoch 13/70\n",
            "44/44 [==============================] - 27s 622ms/step - loss: 0.1186 - accuracy: 0.9619 - val_loss: 0.2198 - val_accuracy: 0.9412\n",
            "Epoch 14/70\n",
            "44/44 [==============================] - 27s 620ms/step - loss: 0.0738 - accuracy: 0.9775 - val_loss: 0.1838 - val_accuracy: 0.9360\n",
            "Epoch 15/70\n",
            "44/44 [==============================] - 27s 622ms/step - loss: 0.0619 - accuracy: 0.9804 - val_loss: 0.2993 - val_accuracy: 0.9412\n",
            "Epoch 16/70\n",
            "44/44 [==============================] - 27s 620ms/step - loss: 0.0287 - accuracy: 0.9902 - val_loss: 0.2793 - val_accuracy: 0.9637\n",
            "Epoch 17/70\n",
            "44/44 [==============================] - 27s 621ms/step - loss: 0.0161 - accuracy: 0.9948 - val_loss: 0.2416 - val_accuracy: 0.9637\n",
            "Epoch 18/70\n",
            "44/44 [==============================] - 27s 620ms/step - loss: 0.0763 - accuracy: 0.9717 - val_loss: 0.2247 - val_accuracy: 0.9533\n",
            "Epoch 19/70\n",
            "44/44 [==============================] - 27s 620ms/step - loss: 0.0462 - accuracy: 0.9850 - val_loss: 0.2589 - val_accuracy: 0.9567\n",
            "Epoch 20/70\n",
            "44/44 [==============================] - 27s 620ms/step - loss: 0.0195 - accuracy: 0.9913 - val_loss: 0.4653 - val_accuracy: 0.9498\n",
            "Epoch 21/70\n",
            "44/44 [==============================] - 27s 620ms/step - loss: 0.0557 - accuracy: 0.9850 - val_loss: 0.2951 - val_accuracy: 0.9550\n",
            "Epoch 22/70\n",
            "44/44 [==============================] - 27s 618ms/step - loss: 0.0638 - accuracy: 0.9827 - val_loss: 0.2474 - val_accuracy: 0.9567\n",
            "Epoch 23/70\n",
            "44/44 [==============================] - 27s 619ms/step - loss: 0.0410 - accuracy: 0.9879 - val_loss: 0.2368 - val_accuracy: 0.9706\n",
            "Epoch 24/70\n",
            "44/44 [==============================] - 27s 619ms/step - loss: 0.0349 - accuracy: 0.9896 - val_loss: 0.2097 - val_accuracy: 0.9464\n",
            "Epoch 25/70\n",
            "44/44 [==============================] - 27s 618ms/step - loss: 0.0249 - accuracy: 0.9925 - val_loss: 0.3415 - val_accuracy: 0.9498\n",
            "Epoch 26/70\n",
            "44/44 [==============================] - 27s 619ms/step - loss: 0.0727 - accuracy: 0.9781 - val_loss: 0.4162 - val_accuracy: 0.9221\n",
            "Epoch 27/70\n",
            "44/44 [==============================] - 27s 620ms/step - loss: 0.0932 - accuracy: 0.9717 - val_loss: 0.2856 - val_accuracy: 0.9446\n",
            "Epoch 28/70\n",
            "44/44 [==============================] - 27s 619ms/step - loss: 0.0654 - accuracy: 0.9769 - val_loss: 0.1712 - val_accuracy: 0.9567\n",
            "Epoch 29/70\n",
            "44/44 [==============================] - 27s 618ms/step - loss: 0.0558 - accuracy: 0.9787 - val_loss: 0.2451 - val_accuracy: 0.9602\n",
            "Epoch 30/70\n",
            "44/44 [==============================] - 27s 618ms/step - loss: 0.0596 - accuracy: 0.9821 - val_loss: 0.1776 - val_accuracy: 0.9567\n",
            "Epoch 31/70\n",
            "44/44 [==============================] - 27s 618ms/step - loss: 0.0329 - accuracy: 0.9885 - val_loss: 0.1906 - val_accuracy: 0.9602\n",
            "Epoch 32/70\n",
            "44/44 [==============================] - 27s 619ms/step - loss: 0.0306 - accuracy: 0.9867 - val_loss: 0.1983 - val_accuracy: 0.9706\n",
            "Epoch 33/70\n",
            "44/44 [==============================] - 27s 618ms/step - loss: 0.0057 - accuracy: 0.9983 - val_loss: 0.3287 - val_accuracy: 0.9740\n",
            "Epoch 34/70\n",
            "44/44 [==============================] - 27s 618ms/step - loss: 0.0060 - accuracy: 0.9977 - val_loss: 0.6178 - val_accuracy: 0.9637\n",
            "Epoch 35/70\n",
            "44/44 [==============================] - 27s 619ms/step - loss: 0.0176 - accuracy: 0.9937 - val_loss: 0.2354 - val_accuracy: 0.9723\n",
            "Epoch 36/70\n",
            "44/44 [==============================] - 27s 619ms/step - loss: 0.0112 - accuracy: 0.9965 - val_loss: 0.3521 - val_accuracy: 0.9671\n",
            "Epoch 37/70\n",
            "44/44 [==============================] - 27s 618ms/step - loss: 0.0562 - accuracy: 0.9902 - val_loss: 0.1708 - val_accuracy: 0.9481\n",
            "Epoch 38/70\n",
            "44/44 [==============================] - 27s 620ms/step - loss: 0.0320 - accuracy: 0.9925 - val_loss: 0.4359 - val_accuracy: 0.9446\n",
            "Epoch 39/70\n",
            "44/44 [==============================] - 27s 618ms/step - loss: 0.1006 - accuracy: 0.9764 - val_loss: 0.2656 - val_accuracy: 0.9516\n",
            "Epoch 40/70\n",
            "44/44 [==============================] - 27s 618ms/step - loss: 0.0127 - accuracy: 0.9942 - val_loss: 0.5698 - val_accuracy: 0.9585\n",
            "Epoch 41/70\n",
            "44/44 [==============================] - 27s 618ms/step - loss: 0.0281 - accuracy: 0.9908 - val_loss: 0.3233 - val_accuracy: 0.9637\n",
            "Epoch 42/70\n",
            "44/44 [==============================] - 27s 619ms/step - loss: 8.9143e-04 - accuracy: 1.0000 - val_loss: 0.4631 - val_accuracy: 0.9706\n",
            "Epoch 43/70\n",
            "44/44 [==============================] - 27s 619ms/step - loss: 0.0031 - accuracy: 0.9994 - val_loss: 0.5141 - val_accuracy: 0.9533\n",
            "Epoch 44/70\n",
            "44/44 [==============================] - 27s 619ms/step - loss: 0.1772 - accuracy: 0.9573 - val_loss: 0.3425 - val_accuracy: 0.8529\n",
            "Epoch 45/70\n",
            "44/44 [==============================] - 27s 620ms/step - loss: 0.0832 - accuracy: 0.9712 - val_loss: 0.2712 - val_accuracy: 0.9550\n",
            "Epoch 46/70\n",
            "44/44 [==============================] - 27s 618ms/step - loss: 0.0424 - accuracy: 0.9890 - val_loss: 0.2154 - val_accuracy: 0.9602\n",
            "Epoch 47/70\n",
            "44/44 [==============================] - 27s 618ms/step - loss: 0.0386 - accuracy: 0.9862 - val_loss: 0.4411 - val_accuracy: 0.9567\n",
            "Epoch 48/70\n",
            "44/44 [==============================] - 27s 617ms/step - loss: 0.0541 - accuracy: 0.9850 - val_loss: 0.4217 - val_accuracy: 0.9481\n",
            "Epoch 49/70\n",
            "44/44 [==============================] - 27s 618ms/step - loss: 0.0459 - accuracy: 0.9862 - val_loss: 0.3077 - val_accuracy: 0.9429\n",
            "Epoch 50/70\n",
            "44/44 [==============================] - 27s 618ms/step - loss: 0.0363 - accuracy: 0.9873 - val_loss: 0.3334 - val_accuracy: 0.9706\n",
            "Epoch 51/70\n",
            "44/44 [==============================] - 27s 617ms/step - loss: 0.0288 - accuracy: 0.9948 - val_loss: 0.3459 - val_accuracy: 0.9412\n",
            "Epoch 52/70\n",
            "44/44 [==============================] - 27s 618ms/step - loss: 0.0239 - accuracy: 0.9902 - val_loss: 0.2732 - val_accuracy: 0.9689\n",
            "Epoch 53/70\n",
            "44/44 [==============================] - 27s 619ms/step - loss: 0.0068 - accuracy: 0.9965 - val_loss: 0.3385 - val_accuracy: 0.9654\n",
            "Epoch 54/70\n",
            "44/44 [==============================] - 27s 619ms/step - loss: 2.2751e-04 - accuracy: 1.0000 - val_loss: 0.4002 - val_accuracy: 0.9654\n",
            "Epoch 55/70\n",
            "44/44 [==============================] - 27s 618ms/step - loss: 6.0113e-06 - accuracy: 1.0000 - val_loss: 0.4328 - val_accuracy: 0.9654\n",
            "Epoch 56/70\n",
            "44/44 [==============================] - 27s 618ms/step - loss: 2.4396e-06 - accuracy: 1.0000 - val_loss: 0.4550 - val_accuracy: 0.9654\n",
            "Epoch 57/70\n",
            "44/44 [==============================] - 27s 618ms/step - loss: 1.6071e-06 - accuracy: 1.0000 - val_loss: 0.4654 - val_accuracy: 0.9654\n",
            "Epoch 58/70\n",
            "44/44 [==============================] - 27s 618ms/step - loss: 1.2199e-06 - accuracy: 1.0000 - val_loss: 0.4739 - val_accuracy: 0.9654\n",
            "Epoch 59/70\n",
            "44/44 [==============================] - 27s 618ms/step - loss: 9.7972e-07 - accuracy: 1.0000 - val_loss: 0.4813 - val_accuracy: 0.9654\n",
            "Epoch 60/70\n",
            "44/44 [==============================] - 27s 617ms/step - loss: 8.0024e-07 - accuracy: 1.0000 - val_loss: 0.4871 - val_accuracy: 0.9637\n",
            "Epoch 61/70\n",
            "44/44 [==============================] - 27s 617ms/step - loss: 6.9548e-07 - accuracy: 1.0000 - val_loss: 0.4921 - val_accuracy: 0.9654\n",
            "Epoch 62/70\n",
            "44/44 [==============================] - 27s 618ms/step - loss: 6.0715e-07 - accuracy: 1.0000 - val_loss: 0.4961 - val_accuracy: 0.9637\n",
            "Epoch 63/70\n",
            "44/44 [==============================] - 27s 618ms/step - loss: 5.5133e-07 - accuracy: 1.0000 - val_loss: 0.4998 - val_accuracy: 0.9637\n",
            "Epoch 64/70\n",
            "44/44 [==============================] - 27s 618ms/step - loss: 5.0252e-07 - accuracy: 1.0000 - val_loss: 0.5037 - val_accuracy: 0.9637\n",
            "Epoch 65/70\n",
            "44/44 [==============================] - 27s 619ms/step - loss: 4.7166e-07 - accuracy: 1.0000 - val_loss: 0.5074 - val_accuracy: 0.9654\n",
            "Epoch 66/70\n",
            "44/44 [==============================] - 27s 619ms/step - loss: 4.2931e-07 - accuracy: 1.0000 - val_loss: 0.5093 - val_accuracy: 0.9637\n",
            "Epoch 67/70\n",
            "44/44 [==============================] - 27s 618ms/step - loss: 4.0003e-07 - accuracy: 1.0000 - val_loss: 0.5131 - val_accuracy: 0.9654\n",
            "Epoch 68/70\n",
            "44/44 [==============================] - 27s 616ms/step - loss: 3.7459e-07 - accuracy: 1.0000 - val_loss: 0.5146 - val_accuracy: 0.9637\n",
            "Epoch 69/70\n",
            "44/44 [==============================] - 27s 617ms/step - loss: 3.5920e-07 - accuracy: 1.0000 - val_loss: 0.5180 - val_accuracy: 0.9654\n",
            "Epoch 70/70\n",
            "44/44 [==============================] - 29s 669ms/step - loss: 3.3912e-07 - accuracy: 1.0000 - val_loss: 0.5194 - val_accuracy: 0.9637\n"
          ]
        }
      ]
    },
    {
      "cell_type": "code",
      "source": [
        "# print(history)\n",
        "loss_train1 = history1.history['accuracy']\n",
        "loss_val1 = history1.history['val_accuracy']\n",
        "epochs = range(1,71)\n",
        "plt.plot(epochs, loss_train1, 'g', label='Training accuracy')\n",
        "plt.plot(epochs, loss_val1, 'b', label='validation accuracy')\n",
        "plt.title('Training and Validation accuracy')\n",
        "plt.xlabel('Epochs')\n",
        "plt.ylabel('Accuracy')\n",
        "plt.legend()\n",
        "plt.show()"
      ],
      "metadata": {
        "trusted": true,
        "id": "vjY8T0wgCTMg",
        "outputId": "86a9034d-d501-4865-da20-8911e817e293",
        "colab": {
          "base_uri": "https://localhost:8080/",
          "height": 295
        }
      },
      "execution_count": 35,
      "outputs": [
        {
          "output_type": "display_data",
          "data": {
            "text/plain": [
              "<Figure size 432x288 with 1 Axes>"
            ],
            "image/png": "[encoded data removed]"
          },
          "metadata": {}
        }
      ]
    },
    {
      "cell_type": "code",
      "source": [
        "print(\"Evaluate on test data\")\n",
        "results1 = model1.evaluate(x_test, y_test, batch_size=64)\n",
        "print(\"test loss, test acc:\", results1)"
      ],
      "metadata": {
        "id": "JeTamth62jIR",
        "outputId": "0a5598f1-e2b9-43f3-e20a-47c2461f9555",
        "colab": {
          "base_uri": "https://localhost:8080/"
        }
      },
      "execution_count": 36,
      "outputs": [
        {
          "output_type": "stream",
          "name": "stdout",
          "text": [
            "Evaluate on test data\n",
            "10/10 [==============================] - 8s 345ms/step - loss: 0.7061 - accuracy: 0.9516\n",
            "test loss, test acc: [0.7060558795928955, 0.951640784740448]\n"
          ]
        }
      ]
    },
    {
      "cell_type": "code",
      "source": [
        "history2 = model2.fit(x_train, y_train, epochs = 70, batch_size = 40, validation_data = (x_val, y_val))"
      ],
      "metadata": {
        "id": "_w59pvKV50QX",
        "outputId": "0ef51b56-49bf-4866-ee0b-0f83c16ccca1",
        "colab": {
          "base_uri": "https://localhost:8080/"
        }
      },
      "execution_count": 37,
      "outputs": [
        {
          "output_type": "stream",
          "name": "stdout",
          "text": [
            "Epoch 1/70\n",
            "44/44 [==============================] - 39s 850ms/step - loss: 197.4061 - accuracy: 0.5260 - val_loss: 0.6888 - val_accuracy: 0.7215\n",
            "Epoch 2/70\n",
            "44/44 [==============================] - 37s 847ms/step - loss: 0.6245 - accuracy: 0.6805 - val_loss: 0.5433 - val_accuracy: 0.7284\n",
            "Epoch 3/70\n",
            "44/44 [==============================] - 37s 849ms/step - loss: 0.5598 - accuracy: 0.7284 - val_loss: 0.5359 - val_accuracy: 0.7266\n",
            "Epoch 4/70\n",
            "44/44 [==============================] - 37s 848ms/step - loss: 0.4929 - accuracy: 0.7687 - val_loss: 0.4626 - val_accuracy: 0.7907\n",
            "Epoch 5/70\n",
            "44/44 [==============================] - 37s 850ms/step - loss: 0.4598 - accuracy: 0.7872 - val_loss: 0.4389 - val_accuracy: 0.8062\n",
            "Epoch 6/70\n",
            "44/44 [==============================] - 37s 848ms/step - loss: 0.4553 - accuracy: 0.7964 - val_loss: 0.5351 - val_accuracy: 0.7907\n",
            "Epoch 7/70\n",
            "44/44 [==============================] - 37s 848ms/step - loss: 0.4334 - accuracy: 0.7907 - val_loss: 0.4854 - val_accuracy: 0.7941\n",
            "Epoch 8/70\n",
            "44/44 [==============================] - 37s 847ms/step - loss: 0.3947 - accuracy: 0.8189 - val_loss: 0.4011 - val_accuracy: 0.8218\n",
            "Epoch 9/70\n",
            "44/44 [==============================] - 37s 848ms/step - loss: 0.3585 - accuracy: 0.8466 - val_loss: 0.3986 - val_accuracy: 0.8339\n",
            "Epoch 10/70\n",
            "44/44 [==============================] - 37s 847ms/step - loss: 0.3749 - accuracy: 0.8431 - val_loss: 0.3967 - val_accuracy: 0.8529\n",
            "Epoch 11/70\n",
            "44/44 [==============================] - 37s 845ms/step - loss: 0.3429 - accuracy: 0.8501 - val_loss: 0.4394 - val_accuracy: 0.8426\n",
            "Epoch 12/70\n",
            "44/44 [==============================] - 37s 842ms/step - loss: 0.4234 - accuracy: 0.8218 - val_loss: 0.4577 - val_accuracy: 0.7872\n",
            "Epoch 13/70\n",
            "44/44 [==============================] - 37s 843ms/step - loss: 0.3529 - accuracy: 0.8483 - val_loss: 0.4647 - val_accuracy: 0.7941\n",
            "Epoch 14/70\n",
            "44/44 [==============================] - 37s 844ms/step - loss: 0.3128 - accuracy: 0.8651 - val_loss: 0.3071 - val_accuracy: 0.8789\n",
            "Epoch 15/70\n",
            "44/44 [==============================] - 37s 844ms/step - loss: 0.2785 - accuracy: 0.8875 - val_loss: 0.3223 - val_accuracy: 0.8599\n",
            "Epoch 16/70\n",
            "44/44 [==============================] - 37s 843ms/step - loss: 0.2712 - accuracy: 0.8875 - val_loss: 0.3077 - val_accuracy: 0.8927\n",
            "Epoch 17/70\n",
            "44/44 [==============================] - 37s 841ms/step - loss: 0.2535 - accuracy: 0.9089 - val_loss: 0.3380 - val_accuracy: 0.8824\n",
            "Epoch 18/70\n",
            "44/44 [==============================] - 37s 843ms/step - loss: 0.2163 - accuracy: 0.9129 - val_loss: 0.3055 - val_accuracy: 0.9083\n",
            "Epoch 19/70\n",
            "44/44 [==============================] - 37s 842ms/step - loss: 0.2056 - accuracy: 0.9216 - val_loss: 0.4079 - val_accuracy: 0.8997\n",
            "Epoch 20/70\n",
            "44/44 [==============================] - 38s 869ms/step - loss: 0.1622 - accuracy: 0.9383 - val_loss: 0.2863 - val_accuracy: 0.9083\n",
            "Epoch 21/70\n",
            "44/44 [==============================] - 37s 842ms/step - loss: 0.1869 - accuracy: 0.9331 - val_loss: 0.3257 - val_accuracy: 0.9014\n",
            "Epoch 22/70\n",
            "44/44 [==============================] - 37s 843ms/step - loss: 0.1647 - accuracy: 0.9377 - val_loss: 0.2408 - val_accuracy: 0.9100\n",
            "Epoch 23/70\n",
            "44/44 [==============================] - 37s 841ms/step - loss: 0.1275 - accuracy: 0.9487 - val_loss: 0.2810 - val_accuracy: 0.9291\n",
            "Epoch 24/70\n",
            "44/44 [==============================] - 37s 841ms/step - loss: 0.1316 - accuracy: 0.9516 - val_loss: 0.3557 - val_accuracy: 0.9170\n",
            "Epoch 25/70\n",
            "44/44 [==============================] - 37s 843ms/step - loss: 0.1144 - accuracy: 0.9527 - val_loss: 0.3523 - val_accuracy: 0.9014\n",
            "Epoch 26/70\n",
            "44/44 [==============================] - 37s 844ms/step - loss: 0.1465 - accuracy: 0.9464 - val_loss: 0.3097 - val_accuracy: 0.8789\n",
            "Epoch 27/70\n",
            "44/44 [==============================] - 37s 844ms/step - loss: 0.1521 - accuracy: 0.9452 - val_loss: 0.2696 - val_accuracy: 0.9256\n",
            "Epoch 28/70\n",
            "44/44 [==============================] - 37s 842ms/step - loss: 0.1292 - accuracy: 0.9573 - val_loss: 0.4405 - val_accuracy: 0.9377\n",
            "Epoch 29/70\n",
            "44/44 [==============================] - 37s 839ms/step - loss: 0.1372 - accuracy: 0.9487 - val_loss: 0.2736 - val_accuracy: 0.9343\n",
            "Epoch 30/70\n",
            "44/44 [==============================] - 37s 840ms/step - loss: 0.1151 - accuracy: 0.9562 - val_loss: 0.3800 - val_accuracy: 0.9204\n",
            "Epoch 31/70\n",
            "44/44 [==============================] - 37s 842ms/step - loss: 0.0783 - accuracy: 0.9735 - val_loss: 0.2667 - val_accuracy: 0.9464\n",
            "Epoch 32/70\n",
            "44/44 [==============================] - 37s 840ms/step - loss: 0.0797 - accuracy: 0.9735 - val_loss: 0.2854 - val_accuracy: 0.9291\n",
            "Epoch 33/70\n",
            "44/44 [==============================] - 37s 842ms/step - loss: 0.0692 - accuracy: 0.9752 - val_loss: 0.2846 - val_accuracy: 0.9412\n",
            "Epoch 34/70\n",
            "44/44 [==============================] - 37s 840ms/step - loss: 0.0703 - accuracy: 0.9764 - val_loss: 0.2960 - val_accuracy: 0.9481\n",
            "Epoch 35/70\n",
            "44/44 [==============================] - 37s 841ms/step - loss: 0.1114 - accuracy: 0.9585 - val_loss: 0.4074 - val_accuracy: 0.9377\n",
            "Epoch 36/70\n",
            "44/44 [==============================] - 37s 839ms/step - loss: 0.0756 - accuracy: 0.9769 - val_loss: 0.2422 - val_accuracy: 0.9585\n",
            "Epoch 37/70\n",
            "44/44 [==============================] - 37s 840ms/step - loss: 0.0296 - accuracy: 0.9879 - val_loss: 0.3977 - val_accuracy: 0.9585\n",
            "Epoch 38/70\n",
            "44/44 [==============================] - 37s 841ms/step - loss: 0.0412 - accuracy: 0.9856 - val_loss: 0.4240 - val_accuracy: 0.9585\n",
            "Epoch 39/70\n",
            "44/44 [==============================] - 37s 842ms/step - loss: 0.0713 - accuracy: 0.9752 - val_loss: 0.2686 - val_accuracy: 0.9533\n",
            "Epoch 40/70\n",
            "44/44 [==============================] - 37s 842ms/step - loss: 0.0696 - accuracy: 0.9752 - val_loss: 0.2476 - val_accuracy: 0.9516\n",
            "Epoch 41/70\n",
            "44/44 [==============================] - 37s 841ms/step - loss: 0.0379 - accuracy: 0.9862 - val_loss: 0.5299 - val_accuracy: 0.9498\n",
            "Epoch 42/70\n",
            "44/44 [==============================] - 37s 840ms/step - loss: 0.0571 - accuracy: 0.9804 - val_loss: 0.4888 - val_accuracy: 0.9170\n",
            "Epoch 43/70\n",
            "44/44 [==============================] - 37s 841ms/step - loss: 0.0474 - accuracy: 0.9821 - val_loss: 0.4822 - val_accuracy: 0.9377\n",
            "Epoch 44/70\n",
            "44/44 [==============================] - 37s 840ms/step - loss: 0.0279 - accuracy: 0.9931 - val_loss: 0.7872 - val_accuracy: 0.9394\n",
            "Epoch 45/70\n",
            "44/44 [==============================] - 37s 840ms/step - loss: 0.3380 - accuracy: 0.8702 - val_loss: 0.3791 - val_accuracy: 0.8962\n",
            "Epoch 46/70\n",
            "44/44 [==============================] - 37s 841ms/step - loss: 0.0961 - accuracy: 0.9666 - val_loss: 0.2856 - val_accuracy: 0.9550\n",
            "Epoch 47/70\n",
            "44/44 [==============================] - 37s 840ms/step - loss: 0.1076 - accuracy: 0.9642 - val_loss: 0.3238 - val_accuracy: 0.9256\n",
            "Epoch 48/70\n",
            "44/44 [==============================] - 37s 840ms/step - loss: 0.0750 - accuracy: 0.9735 - val_loss: 0.1946 - val_accuracy: 0.9689\n",
            "Epoch 49/70\n",
            "44/44 [==============================] - 37s 841ms/step - loss: 0.0282 - accuracy: 0.9919 - val_loss: 0.3745 - val_accuracy: 0.9498\n",
            "Epoch 50/70\n",
            "44/44 [==============================] - 37s 840ms/step - loss: 0.0754 - accuracy: 0.9787 - val_loss: 0.2186 - val_accuracy: 0.9360\n",
            "Epoch 51/70\n",
            "44/44 [==============================] - 37s 840ms/step - loss: 0.0599 - accuracy: 0.9769 - val_loss: 0.2234 - val_accuracy: 0.9429\n",
            "Epoch 52/70\n",
            "44/44 [==============================] - 37s 839ms/step - loss: 0.0500 - accuracy: 0.9844 - val_loss: 0.2546 - val_accuracy: 0.9689\n",
            "Epoch 53/70\n",
            "44/44 [==============================] - 37s 842ms/step - loss: 0.0297 - accuracy: 0.9902 - val_loss: 0.2919 - val_accuracy: 0.9498\n",
            "Epoch 54/70\n",
            "44/44 [==============================] - 37s 840ms/step - loss: 0.0211 - accuracy: 0.9937 - val_loss: 0.4518 - val_accuracy: 0.9637\n",
            "Epoch 55/70\n",
            "44/44 [==============================] - 37s 841ms/step - loss: 0.0345 - accuracy: 0.9890 - val_loss: 0.2807 - val_accuracy: 0.9619\n",
            "Epoch 56/70\n",
            "44/44 [==============================] - 37s 843ms/step - loss: 0.0564 - accuracy: 0.9804 - val_loss: 0.4804 - val_accuracy: 0.9464\n",
            "Epoch 57/70\n",
            "44/44 [==============================] - 37s 840ms/step - loss: 0.0517 - accuracy: 0.9839 - val_loss: 0.2406 - val_accuracy: 0.9464\n",
            "Epoch 58/70\n",
            "44/44 [==============================] - 37s 841ms/step - loss: 0.0293 - accuracy: 0.9908 - val_loss: 0.2902 - val_accuracy: 0.9654\n",
            "Epoch 59/70\n",
            "44/44 [==============================] - 37s 841ms/step - loss: 0.0248 - accuracy: 0.9925 - val_loss: 0.3233 - val_accuracy: 0.9550\n",
            "Epoch 60/70\n",
            "44/44 [==============================] - 37s 838ms/step - loss: 0.0210 - accuracy: 0.9913 - val_loss: 0.5297 - val_accuracy: 0.9516\n",
            "Epoch 61/70\n",
            "44/44 [==============================] - 37s 839ms/step - loss: 0.0578 - accuracy: 0.9810 - val_loss: 0.4270 - val_accuracy: 0.9533\n",
            "Epoch 62/70\n",
            "44/44 [==============================] - 37s 839ms/step - loss: 0.0340 - accuracy: 0.9890 - val_loss: 0.3021 - val_accuracy: 0.9516\n",
            "Epoch 63/70\n",
            "44/44 [==============================] - 37s 840ms/step - loss: 0.0132 - accuracy: 0.9954 - val_loss: 0.5467 - val_accuracy: 0.9654\n",
            "Epoch 64/70\n",
            "44/44 [==============================] - 37s 842ms/step - loss: 0.0491 - accuracy: 0.9925 - val_loss: 0.3155 - val_accuracy: 0.9446\n",
            "Epoch 65/70\n",
            "44/44 [==============================] - 37s 843ms/step - loss: 0.0766 - accuracy: 0.9735 - val_loss: 0.4413 - val_accuracy: 0.9619\n",
            "Epoch 66/70\n",
            "44/44 [==============================] - 37s 841ms/step - loss: 0.0798 - accuracy: 0.9815 - val_loss: 0.3262 - val_accuracy: 0.9550\n",
            "Epoch 67/70\n",
            "44/44 [==============================] - 37s 840ms/step - loss: 0.0298 - accuracy: 0.9879 - val_loss: 0.2475 - val_accuracy: 0.9671\n",
            "Epoch 68/70\n",
            "44/44 [==============================] - 37s 839ms/step - loss: 0.0410 - accuracy: 0.9873 - val_loss: 0.2412 - val_accuracy: 0.9516\n",
            "Epoch 69/70\n",
            "44/44 [==============================] - 37s 840ms/step - loss: 0.0460 - accuracy: 0.9833 - val_loss: 0.2645 - val_accuracy: 0.9377\n",
            "Epoch 70/70\n",
            "44/44 [==============================] - 37s 840ms/step - loss: 0.1116 - accuracy: 0.9654 - val_loss: 0.2702 - val_accuracy: 0.8824\n"
          ]
        }
      ]
    },
    {
      "cell_type": "code",
      "source": [
        "loss_train2 = history2.history['accuracy']\n",
        "loss_val2 = history2.history['val_accuracy']\n",
        "epochs = range(1,71)\n",
        "plt.plot(epochs, loss_train2, 'g', label='Training accuracy')\n",
        "plt.plot(epochs, loss_val2, 'b', label='validation accuracy')\n",
        "plt.title('Training and Validation accuracy')\n",
        "plt.xlabel('Epochs')\n",
        "plt.ylabel('Accuracy')\n",
        "plt.legend()\n",
        "plt.show()"
      ],
      "metadata": {
        "id": "k_MfXo3fXavR",
        "outputId": "fb788c46-e786-4b2b-df92-3aa6d204e3de",
        "colab": {
          "base_uri": "https://localhost:8080/",
          "height": 295
        }
      },
      "execution_count": 39,
      "outputs": [
        {
          "output_type": "display_data",
          "data": {
            "text/plain": [
              "<Figure size 432x288 with 1 Axes>"
            ],
            "image/png": "[encoded data removed]"
          },
          "metadata": {}
        }
      ]
    },
    {
      "cell_type": "code",
      "source": [
        "print(\"Evaluate on test data\")\n",
        "results2 = model2.evaluate(x_test, y_test, batch_size=64)\n",
        "print(\"test loss, test acc:\", results2)"
      ],
      "metadata": {
        "id": "U8eMTK6TvEBy",
        "outputId": "5197e42e-c593-4174-8512-973b1662bf75",
        "colab": {
          "base_uri": "https://localhost:8080/"
        }
      },
      "execution_count": 40,
      "outputs": [
        {
          "output_type": "stream",
          "name": "stdout",
          "text": [
            "Evaluate on test data\n",
            "10/10 [==============================] - 4s 348ms/step - loss: 0.2679 - accuracy: 0.9119\n",
            "test loss, test acc: [0.26794302463531494, 0.9119170904159546]\n"
          ]
        }
      ]
    },
    {
      "cell_type": "code",
      "source": [
        "loss_train1 = history1.history['accuracy']\n",
        "loss_val1 = history1.history['val_accuracy']\n",
        "epochs = range(1,71)\n",
        "plt.plot(epochs, loss_train1, 'g', label='Training accuracy')\n",
        "plt.plot(epochs, loss_val1, 'b', label='validation accuracy')\n",
        "plt.xlabel('Epochs')\n",
        "plt.ylabel('Accuracy')\n",
        "loss_train2 = history2.history['accuracy']\n",
        "loss_val2 = history2.history['val_accuracy']\n",
        "plt.plot(epochs, loss_train2, 'r', label='Training accuracy')\n",
        "plt.plot(epochs, loss_val2, 'y', label='validation accuracy')\n",
        "plt.title('Training and Validation accuracy Comparision between VGG16 and VGG19 Architecture')\n",
        "plt.legend()\n",
        "plt.show()"
      ],
      "metadata": {
        "id": "Jk-nmyAvvKVm",
        "outputId": "1faa3949-454c-4a37-a92b-2bca5a28675d",
        "colab": {
          "base_uri": "https://localhost:8080/",
          "height": 295
        }
      },
      "execution_count": 41,
      "outputs": [
        {
          "output_type": "display_data",
          "data": {
            "text/plain": [
              "<Figure size 432x288 with 1 Axes>"
            ],
            "image/png": "[encoded data removed]"
          },
          "metadata": {}
        }
      ]
    },
    {
      "cell_type": "code",
      "source": [
        "def load_weights(var_list, weights_file):\n",
        "    with open(weights_file, \"rb\") as fp:\n",
        "        _ = np.fromfile(fp, dtype=np.int32, count=5)        \n",
        "        weights = np.fromfile(fp, dtype=np.float32)"
      ],
      "metadata": {
        "id": "0pdTx5USw26o"
      },
      "execution_count": 42,
      "outputs": []
    },
    {
      "cell_type": "code",
      "source": [
        ""
      ],
      "metadata": {
        "id": "YxV8DBvKKOJn"
      },
      "execution_count": null,
      "outputs": []
    },
    {
      "cell_type": "markdown",
      "source": [
        "# Important Links:-\n",
        "\n",
        "[SVM](https://towardsdatascience.com/svm-support-vector-machine-for-classification-710a009f6873) \n",
        "\n",
        "[Early Stopping Neural Network](https://machinelearningmastery.com/how-to-stop-training-deep-neural-networks-at-the-right-time-using-early-stopping/)"
      ],
      "metadata": {
        "id": "WhPZ2hBZhPWo"
      }
    },
    {
      "cell_type": "code",
      "source": [
        ""
      ],
      "metadata": {
        "id": "HSDVVIj06KHR"
      },
      "execution_count": null,
      "outputs": []
    }
  ]
}